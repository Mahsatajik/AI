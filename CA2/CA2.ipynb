{
 "cells": [
  {
   "cell_type": "code",
   "execution_count": 25,
   "metadata": {
    "id": "qFZBhqHy-KTy"
   },
   "outputs": [],
   "source": [
    "# !nvidia-smi"
   ]
  },
  {
   "cell_type": "code",
   "execution_count": 1,
   "metadata": {
    "colab": {
     "base_uri": "https://localhost:8080/"
    },
    "id": "18WbajWNoJeM",
    "outputId": "69eabcaf-950b-4e3c-c72b-0aec244190d2"
   },
   "outputs": [
    {
     "name": "stdout",
     "output_type": "stream",
     "text": [
      "Requirement already satisfied: hazm in /usr/local/lib/python3.7/dist-packages (0.7.0)\n",
      "Requirement already satisfied: nltk==3.3 in /usr/local/lib/python3.7/dist-packages (from hazm) (3.3)\n",
      "Requirement already satisfied: libwapiti>=0.2.1; platform_system != \"Windows\" in /usr/local/lib/python3.7/dist-packages (from hazm) (0.2.1)\n",
      "Requirement already satisfied: six in /usr/local/lib/python3.7/dist-packages (from nltk==3.3->hazm) (1.15.0)\n"
     ]
    }
   ],
   "source": [
    "!pip install hazm"
   ]
  },
  {
   "cell_type": "code",
   "execution_count": 2,
   "metadata": {
    "id": "HTjk8Zg2nxJM"
   },
   "outputs": [],
   "source": [
    "from __future__ import unicode_literals\n",
    "import pandas as pd\n",
    "import numpy as np\n",
    "import sklearn\n",
    "import hazm\n",
    "from hazm.utils import stopwords_list"
   ]
  },
  {
   "cell_type": "markdown",
   "metadata": {
    "id": "L9cBefR8tG1O"
   },
   "source": [
    "Load Data"
   ]
  },
  {
   "cell_type": "code",
   "execution_count": 3,
   "metadata": {
    "colab": {
     "base_uri": "https://localhost:8080/"
    },
    "id": "FNg3ohlqDMVV",
    "outputId": "658b8df2-700c-48f9-cbce-6c3b906ae695"
   },
   "outputs": [
    {
     "name": "stdout",
     "output_type": "stream",
     "text": [
      "Drive already mounted at /content/drive; to attempt to forcibly remount, call drive.mount(\"/content/drive\", force_remount=True).\n"
     ]
    }
   ],
   "source": [
    "from google.colab import drive\n",
    "drive.mount('/content/drive')"
   ]
  },
  {
   "cell_type": "code",
   "execution_count": 4,
   "metadata": {
    "id": "zqiX__JeDksw"
   },
   "outputs": [],
   "source": [
    "!cp \"/content/drive/My Drive/vehicles.csv\" \"vehicles.csv\""
   ]
  },
  {
   "cell_type": "code",
   "execution_count": 5,
   "metadata": {
    "colab": {
     "base_uri": "https://localhost:8080/"
    },
    "id": "Wj0ETCMqm2Xb",
    "outputId": "4e5d4b73-617f-4116-b79f-a942e17a1dd0"
   },
   "outputs": [
    {
     "name": "stdout",
     "output_type": "stream",
     "text": [
      "Index(['brand', 'category', 'created_at', 'description', 'image_count',\n",
      "       'mileage', 'price', 'title', 'year'],\n",
      "      dtype='object')\n",
      "(130443, 9)\n",
      "brand           object\n",
      "category        object\n",
      "created_at      object\n",
      "description     object\n",
      "image_count      int64\n",
      "mileage        float64\n",
      "price            int64\n",
      "title           object\n",
      "year            object\n",
      "dtype: object\n"
     ]
    }
   ],
   "source": [
    "data = pd.read_csv(\"vehicles.csv\")\n",
    "print(data.columns)\n",
    "print(data.shape)\n",
    "data = data.dropna(axis=0, how='any')\n",
    "print(data.dtypes)\n",
    "# print(data['brand'].isnull().sum(axis = 0))\n",
    "# print(data['category'].isnull().sum(axis = 0))\n",
    "# print(data['created_at'].isnull().sum(axis = 0))\n",
    "# print(data['description'].isnull().sum(axis = 0))\n",
    "# print(data['image_count'].isnull().sum(axis = 0))\n",
    "# print(data['mileage'].isnull().sum(axis = 0))\n",
    "# print(data['price'].isnull().sum(axis = 0))\n",
    "# print(data['title'].isnull().sum(axis = 0))\n",
    "# print(data['year'].isnull().sum(axis = 0))\n",
    "\n",
    "data['brand'] = data['brand'].astype('category').cat.codes\n",
    "data['category'] = data['category'].astype('category').cat.codes\n",
    "data['year'] = data['year'].astype('category').cat.codes\n",
    "data['created_at'] = data['created_at'].map(lambda x: x[:-5])\n",
    "data['created_at'] = data['created_at'].astype('category').cat.codes\n",
    "des = data['description'].values\n",
    "title =  data['title'].values\n",
    "# des\n",
    "# data['brand'].unique()\n",
    "# print(data['created_at'].unique())"
   ]
  },
  {
   "cell_type": "markdown",
   "metadata": {
    "id": "JmyK3Zt1tK8S"
   },
   "source": [
    "Preprocessing"
   ]
  },
  {
   "cell_type": "code",
   "execution_count": 6,
   "metadata": {
    "id": "WGtj5MyjtNXS"
   },
   "outputs": [],
   "source": [
    "from hazm import Normalizer\n",
    "from hazm import *\n",
    "def strip_punc(s):\n",
    "  punctuations = '''!\"#$%&'()*+,-./:;<=>?@[\\]^_`{|}~،؛,»«<>؟!1234567890'''\n",
    "  return ''.join(c for c in s if c not in punctuations)\n",
    "\n",
    "def preprocessing(data):\n",
    "  arr = []\n",
    "  for i in range(len(data)):  \n",
    "    res1 = strip_punc(data[i])\n",
    "    normalizer = Normalizer()\n",
    "    res2 = normalizer.normalize(res1)\n",
    "    stemmer = Stemmer()\n",
    "    res3 = stemmer.stem(res2)\n",
    "    arr.append(res3)\n",
    "  return arr\n",
    "\n",
    "data_description_arr = preprocessing(des)\n",
    "data_title_arr = preprocessing(title)\n",
    "# data_description_arr"
   ]
  },
  {
   "cell_type": "code",
   "execution_count": 7,
   "metadata": {
    "colab": {
     "base_uri": "https://localhost:8080/",
     "height": 619
    },
    "id": "eLONf9BW5H7Q",
    "outputId": "dcc19211-c9d3-4545-c443-284aa61acff8"
   },
   "outputs": [
    {
     "name": "stderr",
     "output_type": "stream",
     "text": [
      "/usr/local/lib/python3.7/dist-packages/sklearn/utils/validation.py:760: DataConversionWarning: A column-vector y was passed when a 1d array was expected. Please change the shape of y to (n_samples, ), for example using ravel().\n",
      "  y = column_or_1d(y, warn=True)\n",
      "/usr/local/lib/python3.7/dist-packages/sklearn/utils/validation.py:760: DataConversionWarning: A column-vector y was passed when a 1d array was expected. Please change the shape of y to (n_samples, ), for example using ravel().\n",
      "  y = column_or_1d(y, warn=True)\n",
      "/usr/local/lib/python3.7/dist-packages/sklearn/utils/validation.py:760: DataConversionWarning: A column-vector y was passed when a 1d array was expected. Please change the shape of y to (n_samples, ), for example using ravel().\n",
      "  y = column_or_1d(y, warn=True)\n",
      "/usr/local/lib/python3.7/dist-packages/sklearn/utils/validation.py:760: DataConversionWarning: A column-vector y was passed when a 1d array was expected. Please change the shape of y to (n_samples, ), for example using ravel().\n",
      "  y = column_or_1d(y, warn=True)\n",
      "/usr/local/lib/python3.7/dist-packages/sklearn/utils/validation.py:760: DataConversionWarning: A column-vector y was passed when a 1d array was expected. Please change the shape of y to (n_samples, ), for example using ravel().\n",
      "  y = column_or_1d(y, warn=True)\n",
      "/usr/local/lib/python3.7/dist-packages/sklearn/utils/validation.py:760: DataConversionWarning: A column-vector y was passed when a 1d array was expected. Please change the shape of y to (n_samples, ), for example using ravel().\n",
      "  y = column_or_1d(y, warn=True)\n"
     ]
    },
    {
     "name": "stdout",
     "output_type": "stream",
     "text": [
      "[0.62529992] [0] [0.01454914] [0.22027143] [0.49597236]\n",
      "[0.62529992 0.         0.00211496 0.01454914 0.22027143 0.49597236]\n"
     ]
    },
    {
     "data": {
      "image/png": "[encoded data removed]",
      "text/plain": [
       "<Figure size 432x288 with 1 Axes>"
      ]
     },
     "metadata": {
      "needs_background": "light",
      "tags": []
     },
     "output_type": "display_data"
    }
   ],
   "source": [
    "from sklearn.feature_selection import VarianceThreshold, mutual_info_classif, mutual_info_regression\n",
    "import matplotlib.pyplot as plt\n",
    "\n",
    "mi_brand = mutual_info_classif(np.array(data['brand']).reshape(-1,1), np.array(data['price']).reshape(-1,1))\n",
    "mi_category = mutual_info_classif(np.array(data['category']).reshape(-1,1), np.array(data['price']).reshape(-1,1)) \n",
    "mi_createdat = mutual_info_classif(np.array(data['created_at']).reshape(-1,1), np.array(data['price']).reshape(-1,1))\n",
    "# mi_description = mutual_info_classif(np.array(data['description']).reshape(-1,1), np.array(data['price']).reshape(-1,1))\n",
    "mi_image_count = mutual_info_classif(np.array(data['image_count']).reshape(-1,1), np.array(data['price']).reshape(-1,1))\n",
    "mi_mileage = mutual_info_classif(np.array(data['mileage']).reshape(-1,1), np.array(data['price']).reshape(-1,1))\n",
    "# mi_title = mutual_info_classif(np.array(data['title']).reshape(-1,1), np.array(data['price']).reshape(-1,1))\n",
    "mi_year = mutual_info_classif(np.array(data['year']).reshape(-1,1), np.array(data['price']).reshape(-1,1))\n",
    "print(mi_brand,mi_category,mi_image_count,mi_mileage,mi_year)\n",
    "\n",
    "fig = plt.figure()\n",
    "ax = fig.add_axes([0,0,1,1])\n",
    "x = ['mi_brand','mi_category','mi_created_at','mi_image_count','mi_mileage','mi_year']\n",
    "y = [float(mi_brand),float(mi_category),float(mi_createdat),float(mi_image_count),float(mi_mileage),float(mi_year)]\n",
    "y = np.array(y)\n",
    "print(y)\n",
    "ax.bar(x,y, width=0.5)\n",
    "plt.show()\n"
   ]
  },
  {
   "cell_type": "code",
   "execution_count": 8,
   "metadata": {
    "colab": {
     "base_uri": "https://localhost:8080/",
     "height": 687
    },
    "id": "5A9uOoDL9wXR",
    "outputId": "ecdcd61c-9ac2-4ec3-f9dd-98ca53253959"
   },
   "outputs": [
    {
     "data": {
      "text/html": [
       "<div>\n",
       "<style scoped>\n",
       "    .dataframe tbody tr th:only-of-type {\n",
       "        vertical-align: middle;\n",
       "    }\n",
       "\n",
       "    .dataframe tbody tr th {\n",
       "        vertical-align: top;\n",
       "    }\n",
       "\n",
       "    .dataframe thead th {\n",
       "        text-align: right;\n",
       "    }\n",
       "</style>\n",
       "<table border=\"1\" class=\"dataframe\">\n",
       "  <thead>\n",
       "    <tr style=\"text-align: right;\">\n",
       "      <th></th>\n",
       "      <th>brand</th>\n",
       "      <th>category</th>\n",
       "      <th>created_at</th>\n",
       "      <th>description</th>\n",
       "      <th>image_count</th>\n",
       "      <th>mileage</th>\n",
       "      <th>price</th>\n",
       "      <th>title</th>\n",
       "      <th>year</th>\n",
       "      <th>از</th>\n",
       "      <th>با</th>\n",
       "      <th>بدون</th>\n",
       "      <th>بدون رنگ</th>\n",
       "      <th>برج</th>\n",
       "      <th>به</th>\n",
       "      <th>بیمه</th>\n",
       "      <th>بیمه تا</th>\n",
       "      <th>تا</th>\n",
       "      <th>تا برج</th>\n",
       "      <th>تخفیف</th>\n",
       "      <th>تخفیف بیمه</th>\n",
       "      <th>تمیز</th>\n",
       "      <th>رنگ</th>\n",
       "      <th>سال</th>\n",
       "      <th>سال تخفیف</th>\n",
       "      <th>سالم</th>\n",
       "      <th>عقب</th>\n",
       "      <th>فقط</th>\n",
       "      <th>فنی</th>\n",
       "      <th>لاستیک</th>\n",
       "      <th>ماشین</th>\n",
       "      <th>مدل</th>\n",
       "      <th>نو</th>\n",
       "      <th>یک</th>\n",
       "      <th>پراید</th>\n",
       "      <th>پژو</th>\n",
       "    </tr>\n",
       "  </thead>\n",
       "  <tbody>\n",
       "    <tr>\n",
       "      <th>1</th>\n",
       "      <td>10.0</td>\n",
       "      <td>0.0</td>\n",
       "      <td>6.0</td>\n",
       "      <td>دوگانه ال پی جی بیمه با تخفیف دارد \\nتودوزی نو...</td>\n",
       "      <td>3.0</td>\n",
       "      <td>180000.0</td>\n",
       "      <td>-1.0</td>\n",
       "      <td>پاترول شش سیلندر چهار درب</td>\n",
       "      <td>0.0</td>\n",
       "      <td>0.0</td>\n",
       "      <td>0.0</td>\n",
       "      <td>0.0</td>\n",
       "      <td>0.0</td>\n",
       "      <td>0.0</td>\n",
       "      <td>0.0</td>\n",
       "      <td>0.0</td>\n",
       "      <td>0.0</td>\n",
       "      <td>0.0</td>\n",
       "      <td>0.0</td>\n",
       "      <td>0.0</td>\n",
       "      <td>0.0</td>\n",
       "      <td>0.0</td>\n",
       "      <td>0.0</td>\n",
       "      <td>0.0</td>\n",
       "      <td>0.0</td>\n",
       "      <td>0.0</td>\n",
       "      <td>0.0</td>\n",
       "      <td>0.0</td>\n",
       "      <td>0.0</td>\n",
       "      <td>0.0</td>\n",
       "      <td>0.0</td>\n",
       "      <td>0.0</td>\n",
       "      <td>0.0</td>\n",
       "      <td>0.0</td>\n",
       "      <td>0.0</td>\n",
       "      <td>0.0</td>\n",
       "    </tr>\n",
       "    <tr>\n",
       "      <th>2</th>\n",
       "      <td>23.0</td>\n",
       "      <td>0.0</td>\n",
       "      <td>6.0</td>\n",
       "      <td>پژو 2000فنی تازه تعمیر بدنه بدون خطو خش تخیف ب...</td>\n",
       "      <td>0.0</td>\n",
       "      <td>290000.0</td>\n",
       "      <td>8500000.0</td>\n",
       "      <td>پژو مدل 81 مشکی</td>\n",
       "      <td>15.0</td>\n",
       "      <td>0.0</td>\n",
       "      <td>0.0</td>\n",
       "      <td>0.0</td>\n",
       "      <td>0.0</td>\n",
       "      <td>0.0</td>\n",
       "      <td>0.0</td>\n",
       "      <td>0.0</td>\n",
       "      <td>0.0</td>\n",
       "      <td>0.0</td>\n",
       "      <td>0.0</td>\n",
       "      <td>0.0</td>\n",
       "      <td>0.0</td>\n",
       "      <td>0.0</td>\n",
       "      <td>0.0</td>\n",
       "      <td>0.0</td>\n",
       "      <td>0.0</td>\n",
       "      <td>0.0</td>\n",
       "      <td>0.0</td>\n",
       "      <td>0.0</td>\n",
       "      <td>0.0</td>\n",
       "      <td>0.0</td>\n",
       "      <td>0.0</td>\n",
       "      <td>0.0</td>\n",
       "      <td>0.0</td>\n",
       "      <td>0.0</td>\n",
       "      <td>0.0</td>\n",
       "      <td>0.0</td>\n",
       "    </tr>\n",
       "    <tr>\n",
       "      <th>3</th>\n",
       "      <td>13.0</td>\n",
       "      <td>0.0</td>\n",
       "      <td>6.0</td>\n",
       "      <td>سلام.\\nماشین کاملا سالم همه چی فابریک متور زد ...</td>\n",
       "      <td>3.0</td>\n",
       "      <td>175000.0</td>\n",
       "      <td>19500000.0</td>\n",
       "      <td>پاترول 2در</td>\n",
       "      <td>6.0</td>\n",
       "      <td>0.0</td>\n",
       "      <td>0.0</td>\n",
       "      <td>0.0</td>\n",
       "      <td>0.0</td>\n",
       "      <td>0.0</td>\n",
       "      <td>0.0</td>\n",
       "      <td>0.0</td>\n",
       "      <td>0.0</td>\n",
       "      <td>0.0</td>\n",
       "      <td>0.0</td>\n",
       "      <td>0.0</td>\n",
       "      <td>0.0</td>\n",
       "      <td>0.0</td>\n",
       "      <td>0.0</td>\n",
       "      <td>0.0</td>\n",
       "      <td>0.0</td>\n",
       "      <td>0.0</td>\n",
       "      <td>0.0</td>\n",
       "      <td>0.0</td>\n",
       "      <td>0.0</td>\n",
       "      <td>0.0</td>\n",
       "      <td>0.0</td>\n",
       "      <td>0.0</td>\n",
       "      <td>0.0</td>\n",
       "      <td>0.0</td>\n",
       "      <td>0.0</td>\n",
       "      <td>0.0</td>\n",
       "    </tr>\n",
       "    <tr>\n",
       "      <th>4</th>\n",
       "      <td>11.0</td>\n",
       "      <td>0.0</td>\n",
       "      <td>4.0</td>\n",
       "      <td>سمند ال ایکس بدون رنگ تمامی سرویس ها انجام شده...</td>\n",
       "      <td>4.0</td>\n",
       "      <td>80000.0</td>\n",
       "      <td>23900000.0</td>\n",
       "      <td>سمند دوگانه کارخانه</td>\n",
       "      <td>25.0</td>\n",
       "      <td>0.0</td>\n",
       "      <td>0.0</td>\n",
       "      <td>0.0</td>\n",
       "      <td>0.0</td>\n",
       "      <td>0.0</td>\n",
       "      <td>0.0</td>\n",
       "      <td>0.0</td>\n",
       "      <td>0.0</td>\n",
       "      <td>0.0</td>\n",
       "      <td>0.0</td>\n",
       "      <td>0.0</td>\n",
       "      <td>0.0</td>\n",
       "      <td>0.0</td>\n",
       "      <td>0.0</td>\n",
       "      <td>0.0</td>\n",
       "      <td>0.0</td>\n",
       "      <td>0.0</td>\n",
       "      <td>0.0</td>\n",
       "      <td>0.0</td>\n",
       "      <td>0.0</td>\n",
       "      <td>0.0</td>\n",
       "      <td>0.0</td>\n",
       "      <td>0.0</td>\n",
       "      <td>0.0</td>\n",
       "      <td>0.0</td>\n",
       "      <td>0.0</td>\n",
       "      <td>0.0</td>\n",
       "    </tr>\n",
       "    <tr>\n",
       "      <th>5</th>\n",
       "      <td>23.0</td>\n",
       "      <td>0.0</td>\n",
       "      <td>4.0</td>\n",
       "      <td>بیمه یکسال ده سال تخفیف دور رنگ شاسی پلمپ سالم</td>\n",
       "      <td>3.0</td>\n",
       "      <td>125000.0</td>\n",
       "      <td>8500000.0</td>\n",
       "      <td>پژو405 مدل84</td>\n",
       "      <td>18.0</td>\n",
       "      <td>0.0</td>\n",
       "      <td>0.0</td>\n",
       "      <td>0.0</td>\n",
       "      <td>0.0</td>\n",
       "      <td>0.0</td>\n",
       "      <td>0.0</td>\n",
       "      <td>0.0</td>\n",
       "      <td>0.0</td>\n",
       "      <td>0.0</td>\n",
       "      <td>0.0</td>\n",
       "      <td>0.0</td>\n",
       "      <td>0.0</td>\n",
       "      <td>0.0</td>\n",
       "      <td>0.0</td>\n",
       "      <td>0.0</td>\n",
       "      <td>0.0</td>\n",
       "      <td>0.0</td>\n",
       "      <td>0.0</td>\n",
       "      <td>0.0</td>\n",
       "      <td>0.0</td>\n",
       "      <td>0.0</td>\n",
       "      <td>0.0</td>\n",
       "      <td>0.0</td>\n",
       "      <td>0.0</td>\n",
       "      <td>0.0</td>\n",
       "      <td>0.0</td>\n",
       "      <td>0.0</td>\n",
       "    </tr>\n",
       "    <tr>\n",
       "      <th>...</th>\n",
       "      <td>...</td>\n",
       "      <td>...</td>\n",
       "      <td>...</td>\n",
       "      <td>...</td>\n",
       "      <td>...</td>\n",
       "      <td>...</td>\n",
       "      <td>...</td>\n",
       "      <td>...</td>\n",
       "      <td>...</td>\n",
       "      <td>...</td>\n",
       "      <td>...</td>\n",
       "      <td>...</td>\n",
       "      <td>...</td>\n",
       "      <td>...</td>\n",
       "      <td>...</td>\n",
       "      <td>...</td>\n",
       "      <td>...</td>\n",
       "      <td>...</td>\n",
       "      <td>...</td>\n",
       "      <td>...</td>\n",
       "      <td>...</td>\n",
       "      <td>...</td>\n",
       "      <td>...</td>\n",
       "      <td>...</td>\n",
       "      <td>...</td>\n",
       "      <td>...</td>\n",
       "      <td>...</td>\n",
       "      <td>...</td>\n",
       "      <td>...</td>\n",
       "      <td>...</td>\n",
       "      <td>...</td>\n",
       "      <td>...</td>\n",
       "      <td>...</td>\n",
       "      <td>...</td>\n",
       "      <td>...</td>\n",
       "      <td>...</td>\n",
       "    </tr>\n",
       "    <tr>\n",
       "      <th>120446</th>\n",
       "      <td>0.0</td>\n",
       "      <td>0.0</td>\n",
       "      <td>0.0</td>\n",
       "      <td>0</td>\n",
       "      <td>0.0</td>\n",
       "      <td>0.0</td>\n",
       "      <td>0.0</td>\n",
       "      <td>0</td>\n",
       "      <td>0.0</td>\n",
       "      <td>0.0</td>\n",
       "      <td>0.0</td>\n",
       "      <td>0.0</td>\n",
       "      <td>0.0</td>\n",
       "      <td>0.0</td>\n",
       "      <td>0.0</td>\n",
       "      <td>0.0</td>\n",
       "      <td>0.0</td>\n",
       "      <td>0.0</td>\n",
       "      <td>0.0</td>\n",
       "      <td>0.0</td>\n",
       "      <td>0.0</td>\n",
       "      <td>0.0</td>\n",
       "      <td>0.0</td>\n",
       "      <td>0.0</td>\n",
       "      <td>0.0</td>\n",
       "      <td>0.0</td>\n",
       "      <td>0.0</td>\n",
       "      <td>0.0</td>\n",
       "      <td>0.0</td>\n",
       "      <td>0.0</td>\n",
       "      <td>0.0</td>\n",
       "      <td>1.0</td>\n",
       "      <td>0.0</td>\n",
       "      <td>0.0</td>\n",
       "      <td>1.0</td>\n",
       "      <td>0.0</td>\n",
       "    </tr>\n",
       "    <tr>\n",
       "      <th>120447</th>\n",
       "      <td>0.0</td>\n",
       "      <td>0.0</td>\n",
       "      <td>0.0</td>\n",
       "      <td>0</td>\n",
       "      <td>0.0</td>\n",
       "      <td>0.0</td>\n",
       "      <td>0.0</td>\n",
       "      <td>0</td>\n",
       "      <td>0.0</td>\n",
       "      <td>0.0</td>\n",
       "      <td>0.0</td>\n",
       "      <td>0.0</td>\n",
       "      <td>0.0</td>\n",
       "      <td>0.0</td>\n",
       "      <td>0.0</td>\n",
       "      <td>0.0</td>\n",
       "      <td>0.0</td>\n",
       "      <td>0.0</td>\n",
       "      <td>0.0</td>\n",
       "      <td>0.0</td>\n",
       "      <td>0.0</td>\n",
       "      <td>0.0</td>\n",
       "      <td>0.0</td>\n",
       "      <td>0.0</td>\n",
       "      <td>0.0</td>\n",
       "      <td>0.0</td>\n",
       "      <td>0.0</td>\n",
       "      <td>0.0</td>\n",
       "      <td>0.0</td>\n",
       "      <td>0.0</td>\n",
       "      <td>0.0</td>\n",
       "      <td>0.0</td>\n",
       "      <td>0.0</td>\n",
       "      <td>0.0</td>\n",
       "      <td>0.0</td>\n",
       "      <td>0.0</td>\n",
       "    </tr>\n",
       "    <tr>\n",
       "      <th>120448</th>\n",
       "      <td>0.0</td>\n",
       "      <td>0.0</td>\n",
       "      <td>0.0</td>\n",
       "      <td>0</td>\n",
       "      <td>0.0</td>\n",
       "      <td>0.0</td>\n",
       "      <td>0.0</td>\n",
       "      <td>0</td>\n",
       "      <td>0.0</td>\n",
       "      <td>0.0</td>\n",
       "      <td>0.0</td>\n",
       "      <td>0.0</td>\n",
       "      <td>0.0</td>\n",
       "      <td>0.0</td>\n",
       "      <td>0.0</td>\n",
       "      <td>0.0</td>\n",
       "      <td>0.0</td>\n",
       "      <td>0.0</td>\n",
       "      <td>0.0</td>\n",
       "      <td>0.0</td>\n",
       "      <td>0.0</td>\n",
       "      <td>0.0</td>\n",
       "      <td>0.0</td>\n",
       "      <td>0.0</td>\n",
       "      <td>0.0</td>\n",
       "      <td>0.0</td>\n",
       "      <td>0.0</td>\n",
       "      <td>0.0</td>\n",
       "      <td>0.0</td>\n",
       "      <td>0.0</td>\n",
       "      <td>0.0</td>\n",
       "      <td>1.0</td>\n",
       "      <td>0.0</td>\n",
       "      <td>0.0</td>\n",
       "      <td>0.0</td>\n",
       "      <td>0.0</td>\n",
       "    </tr>\n",
       "    <tr>\n",
       "      <th>120449</th>\n",
       "      <td>0.0</td>\n",
       "      <td>0.0</td>\n",
       "      <td>0.0</td>\n",
       "      <td>0</td>\n",
       "      <td>0.0</td>\n",
       "      <td>0.0</td>\n",
       "      <td>0.0</td>\n",
       "      <td>0</td>\n",
       "      <td>0.0</td>\n",
       "      <td>0.0</td>\n",
       "      <td>0.0</td>\n",
       "      <td>0.0</td>\n",
       "      <td>0.0</td>\n",
       "      <td>0.0</td>\n",
       "      <td>0.0</td>\n",
       "      <td>0.0</td>\n",
       "      <td>0.0</td>\n",
       "      <td>0.0</td>\n",
       "      <td>0.0</td>\n",
       "      <td>0.0</td>\n",
       "      <td>0.0</td>\n",
       "      <td>0.0</td>\n",
       "      <td>0.0</td>\n",
       "      <td>0.0</td>\n",
       "      <td>0.0</td>\n",
       "      <td>0.0</td>\n",
       "      <td>0.0</td>\n",
       "      <td>0.0</td>\n",
       "      <td>0.0</td>\n",
       "      <td>0.0</td>\n",
       "      <td>0.0</td>\n",
       "      <td>0.0</td>\n",
       "      <td>0.0</td>\n",
       "      <td>0.0</td>\n",
       "      <td>1.0</td>\n",
       "      <td>0.0</td>\n",
       "    </tr>\n",
       "    <tr>\n",
       "      <th>120450</th>\n",
       "      <td>0.0</td>\n",
       "      <td>0.0</td>\n",
       "      <td>0.0</td>\n",
       "      <td>0</td>\n",
       "      <td>0.0</td>\n",
       "      <td>0.0</td>\n",
       "      <td>0.0</td>\n",
       "      <td>0</td>\n",
       "      <td>0.0</td>\n",
       "      <td>0.0</td>\n",
       "      <td>0.0</td>\n",
       "      <td>0.0</td>\n",
       "      <td>0.0</td>\n",
       "      <td>0.0</td>\n",
       "      <td>0.0</td>\n",
       "      <td>0.0</td>\n",
       "      <td>0.0</td>\n",
       "      <td>0.0</td>\n",
       "      <td>0.0</td>\n",
       "      <td>0.0</td>\n",
       "      <td>0.0</td>\n",
       "      <td>0.0</td>\n",
       "      <td>0.0</td>\n",
       "      <td>0.0</td>\n",
       "      <td>0.0</td>\n",
       "      <td>0.0</td>\n",
       "      <td>0.0</td>\n",
       "      <td>0.0</td>\n",
       "      <td>0.0</td>\n",
       "      <td>0.0</td>\n",
       "      <td>0.0</td>\n",
       "      <td>1.0</td>\n",
       "      <td>0.0</td>\n",
       "      <td>0.0</td>\n",
       "      <td>1.0</td>\n",
       "      <td>0.0</td>\n",
       "    </tr>\n",
       "  </tbody>\n",
       "</table>\n",
       "<p>361353 rows × 36 columns</p>\n",
       "</div>"
      ],
      "text/plain": [
       "        brand  category  created_at  ...   یک  پراید  پژو\n",
       "1        10.0       0.0         6.0  ...  0.0    0.0  0.0\n",
       "2        23.0       0.0         6.0  ...  0.0    0.0  0.0\n",
       "3        13.0       0.0         6.0  ...  0.0    0.0  0.0\n",
       "4        11.0       0.0         4.0  ...  0.0    0.0  0.0\n",
       "5        23.0       0.0         4.0  ...  0.0    0.0  0.0\n",
       "...       ...       ...         ...  ...  ...    ...  ...\n",
       "120446    0.0       0.0         0.0  ...  0.0    1.0  0.0\n",
       "120447    0.0       0.0         0.0  ...  0.0    0.0  0.0\n",
       "120448    0.0       0.0         0.0  ...  0.0    0.0  0.0\n",
       "120449    0.0       0.0         0.0  ...  0.0    1.0  0.0\n",
       "120450    0.0       0.0         0.0  ...  0.0    1.0  0.0\n",
       "\n",
       "[361353 rows x 36 columns]"
      ]
     },
     "execution_count": 8,
     "metadata": {
      "tags": []
     },
     "output_type": "execute_result"
    }
   ],
   "source": [
    "from sklearn.feature_extraction.text import CountVectorizer\n",
    "\n",
    "vectorizer1 = CountVectorizer(min_df=0.1,max_df=0.9,ngram_range=(1,3))\n",
    "desc_tokens = vectorizer1.fit_transform(data_description_arr)\n",
    "\n",
    "vectorizer2 = CountVectorizer(min_df=0.1,max_df=0.9,ngram_range=(1,3))\n",
    "title_tokens = vectorizer2.fit_transform(data_title_arr)\n",
    "\n",
    "desc_df = pd.DataFrame(desc_tokens.toarray(),columns=vectorizer1.get_feature_names())\n",
    "title_df = pd.DataFrame(title_tokens.toarray(),columns=vectorizer2.get_feature_names())\n",
    "\n",
    "data = pd.concat([data,desc_df,title_df])\n",
    "data = data.fillna(0)\n",
    "data"
   ]
  },
  {
   "cell_type": "markdown",
   "metadata": {
    "id": "xIwM7wmyE92Q"
   },
   "source": [
    "Create model"
   ]
  },
  {
   "cell_type": "code",
   "execution_count": 9,
   "metadata": {
    "id": "AehXsTGZE8nK"
   },
   "outputs": [],
   "source": [
    "from sklearn.model_selection import train_test_split\n",
    "\n",
    "y = data['price']\n",
    "X = data.drop(['price','description','title','category'],axis=1)\n",
    "X_train, X_test, y_train, y_test = train_test_split(X, y, test_size = 0.2, random_state = False)"
   ]
  },
  {
   "cell_type": "markdown",
   "metadata": {
    "id": "LUTcHr51q1qU"
   },
   "source": [
    "Decision Tree"
   ]
  },
  {
   "cell_type": "code",
   "execution_count": 10,
   "metadata": {
    "colab": {
     "base_uri": "https://localhost:8080/"
    },
    "id": "K7uSaJ9okHVU",
    "outputId": "86f9b718-2116-4bdd-ab65-e87e00fb4424"
   },
   "outputs": [
    {
     "name": "stdout",
     "output_type": "stream",
     "text": [
      "41\n"
     ]
    }
   ],
   "source": [
    "\n",
    "from sklearn.tree import DecisionTreeClassifier\n",
    "from sklearn.metrics import mean_squared_error\n",
    "dtclassifier = DecisionTreeClassifier()\n",
    "dtclassifier.fit(X_train, y_train)\n",
    "y_pred = dtclassifier.predict(X_test)\n",
    "mse = mean_squared_error(y_test,y_pred)\n",
    "mean_squared_error(y_test,y_pred,squared=False)\n",
    "print(dtclassifier.tree_.max_depth)"
   ]
  },
  {
   "cell_type": "code",
   "execution_count": 11,
   "metadata": {
    "colab": {
     "base_uri": "https://localhost:8080/",
     "height": 1000
    },
    "id": "luspseSjOCIY",
    "outputId": "34605cce-bf05-47e7-c565-5a7be9c0d3b8"
   },
   "outputs": [
    {
     "name": "stdout",
     "output_type": "stream",
     "text": [
      "Rmse_train Score: 18925575.230948877\n",
      "Rmse_test Score: 18689445.172588147\n",
      "Rmse_train Score: 18925575.231198102\n",
      "Rmse_test Score: 18689445.172735333\n",
      "Rmse_train Score: 18925575.231198102\n",
      "Rmse_test Score: 18689445.172735333\n",
      "Rmse_train Score: 18925518.203588165\n",
      "Rmse_test Score: 18689445.172735333\n",
      "Rmse_train Score: 18925071.621186018\n",
      "Rmse_test Score: 18689085.060940575\n",
      "Rmse_train Score: 18925360.360508665\n",
      "Rmse_test Score: 18689323.754235856\n",
      "Rmse_train Score: 18916640.902356394\n",
      "Rmse_test Score: 18683040.36728665\n",
      "Rmse_train Score: 18742645.969891306\n",
      "Rmse_test Score: 18499763.80981665\n",
      "Rmse_train Score: 18631872.74798595\n",
      "Rmse_test Score: 18394128.718691047\n",
      "Rmse_train Score: 18215609.15056842\n",
      "Rmse_test Score: 18014087.82698056\n",
      "Rmse_train Score: 17795212.864540026\n",
      "Rmse_test Score: 17782358.430041675\n",
      "Rmse_train Score: 17525667.544023506\n",
      "Rmse_test Score: 17523146.148382787\n",
      "Rmse_train Score: 16713206.443638353\n",
      "Rmse_test Score: 16913947.63735018\n",
      "Rmse_train Score: 16129080.50119926\n",
      "Rmse_test Score: 16656582.435298672\n",
      "Rmse_train Score: 15349727.625141975\n",
      "Rmse_test Score: 16208412.993711792\n",
      "Rmse_train Score: 14521853.66340932\n",
      "Rmse_test Score: 15812706.739950353\n",
      "Rmse_train Score: 13460009.903808488\n",
      "Rmse_test Score: 15389008.24327238\n",
      "Rmse_train Score: 12436477.112869844\n",
      "Rmse_test Score: 15207820.878012078\n",
      "Rmse_train Score: 11319337.590377748\n",
      "Rmse_test Score: 14993654.208000775\n",
      "Rmse_train Score: 10321615.318925306\n",
      "Rmse_test Score: 14699301.251170287\n",
      "Rmse_train Score: 9320280.502534484\n",
      "Rmse_test Score: 14622890.41757167\n",
      "Rmse_train Score: 8515481.251061391\n",
      "Rmse_test Score: 14519683.716894953\n",
      "Rmse_train Score: 7770520.02315112\n",
      "Rmse_test Score: 14273259.590455426\n",
      "Rmse_train Score: 7210151.273299949\n",
      "Rmse_test Score: 14114236.595997171\n",
      "Rmse_train Score: 6617359.716943497\n",
      "Rmse_test Score: 13775008.287871795\n",
      "Rmse_train Score: 6188946.847099857\n",
      "Rmse_test Score: 13766001.7958214\n",
      "Rmse_train Score: 5762620.663967356\n",
      "Rmse_test Score: 13883884.959301785\n",
      "Rmse_train Score: 5542713.163467403\n",
      "Rmse_test Score: 13709623.77492225\n",
      "Rmse_train Score: 5368061.377088692\n",
      "Rmse_test Score: 13659153.749075724\n",
      "Rmse_train Score: 5242896.8317157505\n",
      "Rmse_test Score: 13756384.192491718\n",
      "Rmse_train Score: 5179508.07461347\n",
      "Rmse_test Score: 13866782.876364063\n",
      "Rmse_train Score: 5134893.080969761\n",
      "Rmse_test Score: 13690628.640201828\n",
      "Rmse_train Score: 5102935.896070995\n",
      "Rmse_test Score: 13810017.221662078\n",
      "Rmse_train Score: 5085260.821630638\n",
      "Rmse_test Score: 13684142.552431818\n",
      "Rmse_train Score: 5064593.404148873\n",
      "Rmse_test Score: 13781685.226111155\n",
      "Rmse_train Score: 5032378.423591494\n",
      "Rmse_test Score: 13929308.422340687\n",
      "Rmse_train Score: 5025492.573331986\n",
      "Rmse_test Score: 13775299.297252323\n",
      "Rmse_train Score: 5014838.880547625\n",
      "Rmse_test Score: 13823471.432208063\n",
      "Rmse_train Score: 5006349.966247317\n",
      "Rmse_test Score: 13686672.228707157\n",
      "Rmse_train Score: 5005881.164173927\n",
      "Rmse_test Score: 13896593.375153825\n",
      "Rmse_train Score: 5005562.152719757\n",
      "Rmse_test Score: 13670955.57186149\n",
      "Rmse_train Score: 5005089.0885384735\n",
      "Rmse_test Score: 13717768.648631494\n",
      "Rmse_train Score: 5005089.0885384735\n",
      "Rmse_test Score: 13629121.856402505\n",
      "Rmse_train Score: 5005089.0885384735\n",
      "Rmse_test Score: 13729173.273238454\n",
      "Rmse_train Score: 5005089.0885384735\n",
      "Rmse_test Score: 13781317.634098457\n",
      "Rmse_train Score: 5005089.0885384735\n",
      "Rmse_test Score: 13780329.877256818\n",
      "Rmse_train Score: 5005089.0885384735\n",
      "Rmse_test Score: 13815951.484472219\n",
      "Rmse_train Score: 5005089.0885384735\n",
      "Rmse_test Score: 13704329.74264594\n",
      "Rmse_train Score: 5005089.0885384735\n",
      "Rmse_test Score: 13797152.514235798\n",
      "Rmse_train Score: 5005089.0885384735\n",
      "Rmse_test Score: 13726731.881172247\n"
     ]
    },
    {
     "data": {
      "image/png": "[encoded data removed]",
      "text/plain": [
       "<Figure size 432x288 with 1 Axes>"
      ]
     },
     "metadata": {
      "needs_background": "light",
      "tags": []
     },
     "output_type": "display_data"
    }
   ],
   "source": [
    "from sklearn.tree import DecisionTreeClassifier\n",
    "from sklearn.metrics import mean_squared_error\n",
    "from matplotlib.legend_handler import HandlerLine2D\n",
    "\n",
    "Rmse_test = []\n",
    "Rmse_train = []\n",
    "max_depths = np.linspace(1, 50, 50, endpoint=True)\n",
    "\n",
    "for max_depth in max_depths:\n",
    "  dtclassifier = DecisionTreeClassifier(max_depth=max_depth,min_samples_split=2)\n",
    "  dtclassifier.fit(X_train, y_train)\n",
    "  y_pred = dtclassifier.predict(X_test)\n",
    "  y_pred_train = dtclassifier.predict(X_train)\n",
    "  mse = mean_squared_error(y_test,y_pred)\n",
    "  rmse_test = mean_squared_error(y_test,y_pred,squared=False)\n",
    "  rmse_train = mean_squared_error(y_train,y_pred_train,squared=False)\n",
    "\n",
    "  Rmse_test.append(rmse_test)\n",
    "  Rmse_train.append(rmse_train)\n",
    "  print('Rmse_train Score:', rmse_train)\n",
    "  print('Rmse_test Score:',rmse_test)\n",
    "\n",
    "\n",
    "line1, = plt.plot(max_depths, Rmse_train, 'b', label='RMSE train')\n",
    "line2, = plt.plot(max_depths, Rmse_test, 'r', label='RMSE test')\n",
    "plt.legend(handler_map={line1: HandlerLine2D(numpoints=2)})\n",
    "\n",
    "plt.ylabel('Score')\n",
    "plt.xlabel('Tree depth')\n",
    "plt.show()"
   ]
  },
  {
   "cell_type": "code",
   "execution_count": 12,
   "metadata": {
    "colab": {
     "base_uri": "https://localhost:8080/",
     "height": 738
    },
    "id": "4vVut20m8CtY",
    "outputId": "f966a82b-2948-452c-9de2-7de889bbb70c"
   },
   "outputs": [
    {
     "name": "stdout",
     "output_type": "stream",
     "text": [
      "RMSE Score: 13658418.78832932\n",
      "MSE Score: 186552403797387.38\n",
      "RMSE Score: 13659675.427619036\n",
      "MSE Score: 186586732787899.28\n",
      "RMSE Score: 13725702.006582407\n",
      "MSE Score: 188394895573500.3\n",
      "RMSE Score: 14010778.192244565\n",
      "MSE Score: 196301905552275.88\n",
      "RMSE Score: 14476362.362155031\n",
      "MSE Score: 209565067240418.8\n",
      "RMSE Score: 14806893.211369986\n",
      "MSE Score: 219244086572914.6\n",
      "RMSE Score: 14936415.852691356\n",
      "MSE Score: 223096518524529.66\n",
      "RMSE Score: 15160405.081564356\n",
      "MSE Score: 229837882237122.3\n",
      "RMSE Score: 15277837.116676677\n",
      "MSE Score: 233412306963703.53\n",
      "RMSE Score: 15635979.986965131\n",
      "MSE Score: 244483870152774.1\n",
      "RMSE Score: 15804030.580022467\n",
      "MSE Score: 249767382574285.28\n",
      "RMSE Score: 15925241.419932587\n",
      "MSE Score: 253613314283136.47\n"
     ]
    },
    {
     "data": {
      "image/png": "[encoded data removed]",
      "text/plain": [
       "<Figure size 432x288 with 1 Axes>"
      ]
     },
     "metadata": {
      "needs_background": "light",
      "tags": []
     },
     "output_type": "display_data"
    }
   ],
   "source": [
    "from sklearn.tree import DecisionTreeClassifier\n",
    "from sklearn.metrics import mean_squared_error\n",
    "\n",
    "Rmse = []\n",
    "Mse = []\n",
    "min_samples_splits = [2,3,4,5,10,15,20,25,30,35,40,45]\n",
    "\n",
    "for min_samples_split in min_samples_splits:\n",
    "  dtclassifier = DecisionTreeClassifier(max_depth=42,min_samples_split=min_samples_split)\n",
    "  dtclassifier.fit(X_train, y_train)\n",
    "  y_pred = dtclassifier.predict(X_test)\n",
    "  mse = mean_squared_error(y_test,y_pred)\n",
    "  rmse = mean_squared_error(y_test,y_pred,squared=False)\n",
    "  Rmse.append(rmse)\n",
    "  Mse.append(mse)\n",
    "  print('RMSE Score:', rmse)\n",
    "  print('MSE Score:', mse)\n",
    "plt.plot(min_samples_splits, Rmse, 'b', label='RMSE')\n",
    "plt.ylabel('Score')\n",
    "plt.xlabel('min samples split')\n",
    "plt.show()"
   ]
  },
  {
   "cell_type": "markdown",
   "metadata": {
    "id": "upg4ixcyq_WM"
   },
   "source": [
    "Linear Regression"
   ]
  },
  {
   "cell_type": "code",
   "execution_count": 13,
   "metadata": {
    "colab": {
     "base_uri": "https://localhost:8080/"
    },
    "id": "EVORAdPMPuT-",
    "outputId": "83515405-fdec-42a0-dd62-e971f05c360b"
   },
   "outputs": [
    {
     "data": {
      "text/plain": [
       "13735635.807216046"
      ]
     },
     "execution_count": 13,
     "metadata": {
      "tags": []
     },
     "output_type": "execute_result"
    }
   ],
   "source": [
    "from sklearn.linear_model import LinearRegression\n",
    "lr = LinearRegression().fit(X_train, y_train)\n",
    "coef = lr.coef_\n",
    "intercept = lr.intercept_\n",
    "y_pred = lr.predict(X_test)\n",
    "lr.score(X_train, y_train)\n",
    "mse = mean_squared_error(y_test,y_pred)\n",
    "rmse = mean_squared_error(y_test,y_pred,squared=False)\n",
    "rmse"
   ]
  },
  {
   "cell_type": "markdown",
   "metadata": {
    "id": "0oseDJsMrDj-"
   },
   "source": [
    "Random Forest"
   ]
  },
  {
   "cell_type": "code",
   "execution_count": 14,
   "metadata": {
    "colab": {
     "base_uri": "https://localhost:8080/",
     "height": 402
    },
    "id": "QhMc2l-sadaC",
    "outputId": "172556e4-fc64-42b5-86f9-a8e5502d38a6"
   },
   "outputs": [
    {
     "name": "stdout",
     "output_type": "stream",
     "text": [
      "Rmse_train Score: 18925575.094937544\n",
      "Rmse_test Score: 18689445.033343326\n",
      "Rmse_train Score: 18925575.230869036\n",
      "Rmse_test Score: 18689445.172420606\n",
      "Rmse_train Score: 18922040.329567824\n",
      "Rmse_test Score: 18689379.429148108\n"
     ]
    },
    {
     "data": {
      "image/png": "[encoded data removed]",
      "text/plain": [
       "<Figure size 432x288 with 1 Axes>"
      ]
     },
     "metadata": {
      "needs_background": "light",
      "tags": []
     },
     "output_type": "display_data"
    }
   ],
   "source": [
    "from sklearn.ensemble import RandomForestClassifier\n",
    "from sklearn.metrics import mean_squared_error\n",
    "Rmse_test = []\n",
    "Rmse_train = []\n",
    "max_depths = [2,5,10]\n",
    "\n",
    "for max_depth in max_depths:\n",
    "\n",
    "  clf = RandomForestClassifier(max_depth=max_depth, random_state=0)\n",
    "  clf.fit(X_train, y_train)\n",
    "  y_pred = clf.predict(X_test)\n",
    "  y_pred_train = clf.predict(X_train)\n",
    "  mse = mean_squared_error(y_test,y_pred)\n",
    "  rmse_test = mean_squared_error(y_test,y_pred,squared=False)\n",
    "  rmse_train = mean_squared_error(y_train,y_pred_train,squared=False)\n",
    "  Rmse_test.append(rmse_test)\n",
    "  Rmse_train.append(rmse_train)\n",
    "  \n",
    "  print('Rmse_train Score:', rmse_train)\n",
    "  print('Rmse_test Score:',rmse_test)\n",
    "\n",
    "\n",
    "line1, = plt.plot(max_depths, Rmse_train, 'b', label='RMSE train')\n",
    "line2, = plt.plot(max_depths, Rmse_test, 'r', label='RMSE test')\n",
    "plt.legend(handler_map={line1: HandlerLine2D(numpoints=2)})\n",
    "\n",
    "plt.ylabel('Score')\n",
    "plt.xlabel('Tree depth')\n",
    "plt.show()"
   ]
  },
  {
   "cell_type": "markdown",
   "metadata": {
    "id": "t3-m_LZsrGUv"
   },
   "source": [
    "KNN"
   ]
  },
  {
   "cell_type": "code",
   "execution_count": 15,
   "metadata": {
    "colab": {
     "base_uri": "https://localhost:8080/"
    },
    "id": "jEyGizeuNR5I",
    "outputId": "e3864599-15d1-4697-d669-b1f747934dc9"
   },
   "outputs": [
    {
     "data": {
      "text/plain": [
       "17045764.18711257"
      ]
     },
     "execution_count": 15,
     "metadata": {
      "tags": []
     },
     "output_type": "execute_result"
    }
   ],
   "source": [
    "from sklearn.neighbors import KNeighborsClassifier\n",
    "from sklearn.metrics import mean_squared_error\n",
    "\n",
    "knn = KNeighborsClassifier(n_neighbors=10)\n",
    "knn.fit(X_train, y_train)\n",
    "y_pred = knn.predict(X_test)\n",
    "mse = mean_squared_error(y_test,y_pred)\n",
    "rmse = mean_squared_error(y_test,y_pred,squared=False)\n",
    "rmse"
   ]
  }
 ],
 "metadata": {
  "accelerator": "GPU",
  "colab": {
   "collapsed_sections": [],
   "name": "Untitled7.ipynb",
   "provenance": []
  },
  "kernelspec": {
   "display_name": "Python 3",
   "language": "python",
   "name": "python3"
  },
  "language_info": {
   "codemirror_mode": {
    "name": "ipython",
    "version": 3
   },
   "file_extension": ".py",
   "mimetype": "text/x-python",
   "name": "python",
   "nbconvert_exporter": "python",
   "pygments_lexer": "ipython3",
   "version": "3.7.6"
  }
 },
 "nbformat": 4,
 "nbformat_minor": 1
}
