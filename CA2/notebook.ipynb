{
  "cells": [
    {
      "cell_type": "code",
      "execution_count": null,
      "metadata": {
        "colab": {
          "base_uri": "https://localhost:8080/"
        },
        "id": "qFZBhqHy-KTy",
        "outputId": "f1978661-8e37-445b-ab76-6b63fbc0a001"
      },
      "outputs": [
        {
          "name": "stdout",
          "output_type": "stream",
          "text": [
            "NVIDIA-SMI has failed because it couldn't communicate with the NVIDIA driver. Make sure that the latest NVIDIA driver is installed and running.\n",
            "\n"
          ]
        }
      ],
      "source": [
        "!nvidia-smi"
      ]
    },
    {
      "cell_type": "code",
      "execution_count": null,
      "metadata": {
        "colab": {
          "base_uri": "https://localhost:8080/"
        },
        "id": "18WbajWNoJeM",
        "outputId": "4634b09e-8f21-423e-97e8-0408a6340e9a"
      },
      "outputs": [
        {
          "name": "stdout",
          "output_type": "stream",
          "text": [
            "Requirement already satisfied: hazm in /usr/local/lib/python3.7/dist-packages (0.7.0)\n",
            "Requirement already satisfied: libwapiti>=0.2.1; platform_system != \"Windows\" in /usr/local/lib/python3.7/dist-packages (from hazm) (0.2.1)\n",
            "Requirement already satisfied: nltk==3.3 in /usr/local/lib/python3.7/dist-packages (from hazm) (3.3)\n",
            "Requirement already satisfied: six in /usr/local/lib/python3.7/dist-packages (from libwapiti>=0.2.1; platform_system != \"Windows\"->hazm) (1.15.0)\n"
          ]
        }
      ],
      "source": [
        "!pip install hazm"
      ]
    },
    {
      "cell_type": "code",
      "execution_count": null,
      "metadata": {
        "id": "HTjk8Zg2nxJM"
      },
      "outputs": [],
      "source": [
        "from __future__ import unicode_literals\n",
        "import pandas as pd\n",
        "import numpy as np\n",
        "import sklearn\n",
        "import hazm\n",
        "from hazm.utils import stopwords_list"
      ]
    },
    {
      "cell_type": "markdown",
      "metadata": {
        "id": "L9cBefR8tG1O"
      },
      "source": [
        "Load Data"
      ]
    },
    {
      "cell_type": "code",
      "execution_count": null,
      "metadata": {
        "colab": {
          "base_uri": "https://localhost:8080/"
        },
        "id": "FNg3ohlqDMVV",
        "outputId": "b70e31e8-2a8e-4ff5-ae85-64f22151186c"
      },
      "outputs": [
        {
          "name": "stdout",
          "output_type": "stream",
          "text": [
            "Drive already mounted at /content/drive; to attempt to forcibly remount, call drive.mount(\"/content/drive\", force_remount=True).\n"
          ]
        }
      ],
      "source": [
        "from google.colab import drive\n",
        "drive.mount('/content/drive')"
      ]
    },
    {
      "cell_type": "code",
      "execution_count": null,
      "metadata": {
        "id": "zqiX__JeDksw"
      },
      "outputs": [],
      "source": [
        "!cp \"/content/drive/My Drive/vehicles.csv\" \"vehicles.csv\""
      ]
    },
    {
      "cell_type": "code",
      "execution_count": null,
      "metadata": {
        "colab": {
          "base_uri": "https://localhost:8080/"
        },
        "id": "Wj0ETCMqm2Xb",
        "outputId": "bfa9601e-4f26-4c17-e9b2-3b7c28fa1b3e"
      },
      "outputs": [
        {
          "name": "stdout",
          "output_type": "stream",
          "text": [
            "Index(['brand', 'category', 'created_at', 'description', 'image_count',\n",
            "       'mileage', 'price', 'title', 'year'],\n",
            "      dtype='object')\n",
            "(130443, 9)\n",
            "brand           object\n",
            "category        object\n",
            "created_at      object\n",
            "description     object\n",
            "image_count      int64\n",
            "mileage        float64\n",
            "price            int64\n",
            "title           object\n",
            "year            object\n",
            "dtype: object\n"
          ]
        }
      ],
      "source": [
        "data = pd.read_csv(\"vehicles.csv\")\n",
        "print(data.columns)\n",
        "print(data.shape)\n",
        "data = data.dropna(axis=0, how='any')\n",
        "print(data.dtypes)\n",
        "# print(data['brand'].isnull().sum(axis = 0))\n",
        "# print(data['category'].isnull().sum(axis = 0))\n",
        "# print(data['created_at'].isnull().sum(axis = 0))\n",
        "# print(data['description'].isnull().sum(axis = 0))\n",
        "# print(data['image_count'].isnull().sum(axis = 0))\n",
        "# print(data['mileage'].isnull().sum(axis = 0))\n",
        "# print(data['price'].isnull().sum(axis = 0))\n",
        "# print(data['title'].isnull().sum(axis = 0))\n",
        "# print(data['year'].isnull().sum(axis = 0))\n",
        "\n",
        "data['brand'] = data['brand'].astype('category').cat.codes\n",
        "data['category'] = data['category'].astype('category').cat.codes\n",
        "data['year'] = data['year'].astype('category').cat.codes\n",
        "data['created_at'] = data['created_at'].map(lambda x: x[:-5])\n",
        "data['created_at'] = data['created_at'].astype('category').cat.codes\n",
        "des = data['description'].values\n",
        "title =  data['title'].values\n",
        "# des\n",
        "# data['brand'].unique()\n",
        "# print(data['created_at'].unique())"
      ]
    },
    {
      "cell_type": "markdown",
      "metadata": {
        "id": "JmyK3Zt1tK8S"
      },
      "source": [
        "Preprocessing"
      ]
    },
    {
      "cell_type": "code",
      "execution_count": null,
      "metadata": {
        "id": "WGtj5MyjtNXS"
      },
      "outputs": [],
      "source": [
        "from hazm import Normalizer\n",
        "from hazm import *\n",
        "def strip_punc(s):\n",
        "  punctuations = '''!\"#$%&'()*+,-./:;<=>?@[\\]^_`{|}~،؛,»«<>؟!1234567890'''\n",
        "  return ''.join(c for c in s if c not in punctuations)\n",
        "\n",
        "def preprocessing(data):\n",
        "  arr = []\n",
        "  for i in range(len(data)):\n",
        "    res1 = strip_punc(data[i])\n",
        "    normalizer = Normalizer()\n",
        "    res2 = normalizer.normalize(res1)\n",
        "    stemmer = Stemmer()\n",
        "    res3 = stemmer.stem(res2)\n",
        "    arr.append(res3)\n",
        "  return arr\n",
        "\n",
        "data_description_arr = preprocessing(des)\n",
        "data_title_arr = preprocessing(title)\n",
        "# data_description_arr"
      ]
    },
    {
      "cell_type": "code",
      "execution_count": null,
      "metadata": {
        "colab": {
          "base_uri": "https://localhost:8080/",
          "height": 619
        },
        "id": "eLONf9BW5H7Q",
        "outputId": "799cceb3-3898-499b-8323-6534744b99c3"
      },
      "outputs": [
        {
          "name": "stderr",
          "output_type": "stream",
          "text": [
            "/usr/local/lib/python3.7/dist-packages/sklearn/utils/validation.py:760: DataConversionWarning: A column-vector y was passed when a 1d array was expected. Please change the shape of y to (n_samples, ), for example using ravel().\n",
            "  y = column_or_1d(y, warn=True)\n",
            "/usr/local/lib/python3.7/dist-packages/sklearn/utils/validation.py:760: DataConversionWarning: A column-vector y was passed when a 1d array was expected. Please change the shape of y to (n_samples, ), for example using ravel().\n",
            "  y = column_or_1d(y, warn=True)\n",
            "/usr/local/lib/python3.7/dist-packages/sklearn/utils/validation.py:760: DataConversionWarning: A column-vector y was passed when a 1d array was expected. Please change the shape of y to (n_samples, ), for example using ravel().\n",
            "  y = column_or_1d(y, warn=True)\n",
            "/usr/local/lib/python3.7/dist-packages/sklearn/utils/validation.py:760: DataConversionWarning: A column-vector y was passed when a 1d array was expected. Please change the shape of y to (n_samples, ), for example using ravel().\n",
            "  y = column_or_1d(y, warn=True)\n",
            "/usr/local/lib/python3.7/dist-packages/sklearn/utils/validation.py:760: DataConversionWarning: A column-vector y was passed when a 1d array was expected. Please change the shape of y to (n_samples, ), for example using ravel().\n",
            "  y = column_or_1d(y, warn=True)\n",
            "/usr/local/lib/python3.7/dist-packages/sklearn/utils/validation.py:760: DataConversionWarning: A column-vector y was passed when a 1d array was expected. Please change the shape of y to (n_samples, ), for example using ravel().\n",
            "  y = column_or_1d(y, warn=True)\n"
          ]
        },
        {
          "name": "stdout",
          "output_type": "stream",
          "text": [
            "[0.62874837] [0.0010547] [0.01304546] [0.21899653] [0.49807196]\n",
            "[0.62874837 0.0010547  0.00555215 0.01304546 0.21899653 0.49807196]\n"
          ]
        },
        {
          "data": {
            "image/png": "[encoded data removed]",
            "text/plain": [
              "<Figure size 432x288 with 1 Axes>"
            ]
          },
          "metadata": {
            "tags": []
          },
          "output_type": "display_data"
        }
      ],
      "source": [
        "from sklearn.feature_selection import VarianceThreshold, mutual_info_classif, mutual_info_regression\n",
        "import matplotlib.pyplot as plt\n",
        "\n",
        "mi_brand = mutual_info_classif(np.array(data['brand']).reshape(-1,1), np.array(data['price']).reshape(-1,1))\n",
        "mi_category = mutual_info_classif(np.array(data['category']).reshape(-1,1), np.array(data['price']).reshape(-1,1))\n",
        "mi_createdat = mutual_info_classif(np.array(data['created_at']).reshape(-1,1), np.array(data['price']).reshape(-1,1))\n",
        "# mi_description = mutual_info_classif(np.array(data['description']).reshape(-1,1), np.array(data['price']).reshape(-1,1))\n",
        "mi_image_count = mutual_info_classif(np.array(data['image_count']).reshape(-1,1), np.array(data['price']).reshape(-1,1))\n",
        "mi_mileage = mutual_info_classif(np.array(data['mileage']).reshape(-1,1), np.array(data['price']).reshape(-1,1))\n",
        "# mi_title = mutual_info_classif(np.array(data['title']).reshape(-1,1), np.array(data['price']).reshape(-1,1))\n",
        "mi_year = mutual_info_classif(np.array(data['year']).reshape(-1,1), np.array(data['price']).reshape(-1,1))\n",
        "print(mi_brand,mi_category,mi_image_count,mi_mileage,mi_year)\n",
        "\n",
        "fig = plt.figure()\n",
        "ax = fig.add_axes([0,0,1,1])\n",
        "x = ['mi_brand','mi_category','mi_created_at','mi_image_count','mi_mileage','mi_year']\n",
        "y = [float(mi_brand),float(mi_category),float(mi_createdat),float(mi_image_count),float(mi_mileage),float(mi_year)]\n",
        "y = np.array(y)\n",
        "print(y)\n",
        "ax.bar(x,y, width=0.5)\n",
        "plt.show()\n"
      ]
    },
    {
      "cell_type": "code",
      "execution_count": null,
      "metadata": {
        "colab": {
          "base_uri": "https://localhost:8080/",
          "height": 687
        },
        "id": "5A9uOoDL9wXR",
        "outputId": "864bcdbf-7f34-4fca-ca4b-089bd25f0c70"
      },
      "outputs": [
        {
          "data": {
            "text/html": [
              "<div>\n",
              "<style scoped>\n",
              "    .dataframe tbody tr th:only-of-type {\n",
              "        vertical-align: middle;\n",
              "    }\n",
              "\n",
              "    .dataframe tbody tr th {\n",
              "        vertical-align: top;\n",
              "    }\n",
              "\n",
              "    .dataframe thead th {\n",
              "        text-align: right;\n",
              "    }\n",
              "</style>\n",
              "<table border=\"1\" class=\"dataframe\">\n",
              "  <thead>\n",
              "    <tr style=\"text-align: right;\">\n",
              "      <th></th>\n",
              "      <th>brand</th>\n",
              "      <th>category</th>\n",
              "      <th>created_at</th>\n",
              "      <th>description</th>\n",
              "      <th>image_count</th>\n",
              "      <th>mileage</th>\n",
              "      <th>price</th>\n",
              "      <th>title</th>\n",
              "      <th>year</th>\n",
              "      <th>از</th>\n",
              "      <th>با</th>\n",
              "      <th>بدون</th>\n",
              "      <th>بدون رنگ</th>\n",
              "      <th>برج</th>\n",
              "      <th>به</th>\n",
              "      <th>بیمه</th>\n",
              "      <th>بیمه تا</th>\n",
              "      <th>تا</th>\n",
              "      <th>تا برج</th>\n",
              "      <th>تخفیف</th>\n",
              "      <th>تخفیف بیمه</th>\n",
              "      <th>تمیز</th>\n",
              "      <th>رنگ</th>\n",
              "      <th>سال</th>\n",
              "      <th>سال تخفیف</th>\n",
              "      <th>سالم</th>\n",
              "      <th>عقب</th>\n",
              "      <th>فقط</th>\n",
              "      <th>فنی</th>\n",
              "      <th>لاستیک</th>\n",
              "      <th>ماشین</th>\n",
              "      <th>مدل</th>\n",
              "      <th>نو</th>\n",
              "      <th>یک</th>\n",
              "      <th>پراید</th>\n",
              "      <th>پژو</th>\n",
              "    </tr>\n",
              "  </thead>\n",
              "  <tbody>\n",
              "    <tr>\n",
              "      <th>1</th>\n",
              "      <td>10.0</td>\n",
              "      <td>0.0</td>\n",
              "      <td>6.0</td>\n",
              "      <td>دوگانه ال پی جی بیمه با تخفیف دارد \\nتودوزی نو...</td>\n",
              "      <td>3.0</td>\n",
              "      <td>180000.0</td>\n",
              "      <td>-1.0</td>\n",
              "      <td>پاترول شش سیلندر چهار درب</td>\n",
              "      <td>0.0</td>\n",
              "      <td>0.0</td>\n",
              "      <td>0.0</td>\n",
              "      <td>0.0</td>\n",
              "      <td>0.0</td>\n",
              "      <td>0.0</td>\n",
              "      <td>0.0</td>\n",
              "      <td>0.0</td>\n",
              "      <td>0.0</td>\n",
              "      <td>0.0</td>\n",
              "      <td>0.0</td>\n",
              "      <td>0.0</td>\n",
              "      <td>0.0</td>\n",
              "      <td>0.0</td>\n",
              "      <td>0.0</td>\n",
              "      <td>0.0</td>\n",
              "      <td>0.0</td>\n",
              "      <td>0.0</td>\n",
              "      <td>0.0</td>\n",
              "      <td>0.0</td>\n",
              "      <td>0.0</td>\n",
              "      <td>0.0</td>\n",
              "      <td>0.0</td>\n",
              "      <td>0.0</td>\n",
              "      <td>0.0</td>\n",
              "      <td>0.0</td>\n",
              "      <td>0.0</td>\n",
              "      <td>0.0</td>\n",
              "    </tr>\n",
              "    <tr>\n",
              "      <th>2</th>\n",
              "      <td>23.0</td>\n",
              "      <td>0.0</td>\n",
              "      <td>6.0</td>\n",
              "      <td>پژو 2000فنی تازه تعمیر بدنه بدون خطو خش تخیف ب...</td>\n",
              "      <td>0.0</td>\n",
              "      <td>290000.0</td>\n",
              "      <td>8500000.0</td>\n",
              "      <td>پژو مدل 81 مشکی</td>\n",
              "      <td>15.0</td>\n",
              "      <td>0.0</td>\n",
              "      <td>0.0</td>\n",
              "      <td>0.0</td>\n",
              "      <td>0.0</td>\n",
              "      <td>0.0</td>\n",
              "      <td>0.0</td>\n",
              "      <td>0.0</td>\n",
              "      <td>0.0</td>\n",
              "      <td>0.0</td>\n",
              "      <td>0.0</td>\n",
              "      <td>0.0</td>\n",
              "      <td>0.0</td>\n",
              "      <td>0.0</td>\n",
              "      <td>0.0</td>\n",
              "      <td>0.0</td>\n",
              "      <td>0.0</td>\n",
              "      <td>0.0</td>\n",
              "      <td>0.0</td>\n",
              "      <td>0.0</td>\n",
              "      <td>0.0</td>\n",
              "      <td>0.0</td>\n",
              "      <td>0.0</td>\n",
              "      <td>0.0</td>\n",
              "      <td>0.0</td>\n",
              "      <td>0.0</td>\n",
              "      <td>0.0</td>\n",
              "      <td>0.0</td>\n",
              "    </tr>\n",
              "    <tr>\n",
              "      <th>3</th>\n",
              "      <td>13.0</td>\n",
              "      <td>0.0</td>\n",
              "      <td>6.0</td>\n",
              "      <td>سلام.\\nماشین کاملا سالم همه چی فابریک متور زد ...</td>\n",
              "      <td>3.0</td>\n",
              "      <td>175000.0</td>\n",
              "      <td>19500000.0</td>\n",
              "      <td>پاترول 2در</td>\n",
              "      <td>6.0</td>\n",
              "      <td>0.0</td>\n",
              "      <td>0.0</td>\n",
              "      <td>0.0</td>\n",
              "      <td>0.0</td>\n",
              "      <td>0.0</td>\n",
              "      <td>0.0</td>\n",
              "      <td>0.0</td>\n",
              "      <td>0.0</td>\n",
              "      <td>0.0</td>\n",
              "      <td>0.0</td>\n",
              "      <td>0.0</td>\n",
              "      <td>0.0</td>\n",
              "      <td>0.0</td>\n",
              "      <td>0.0</td>\n",
              "      <td>0.0</td>\n",
              "      <td>0.0</td>\n",
              "      <td>0.0</td>\n",
              "      <td>0.0</td>\n",
              "      <td>0.0</td>\n",
              "      <td>0.0</td>\n",
              "      <td>0.0</td>\n",
              "      <td>0.0</td>\n",
              "      <td>0.0</td>\n",
              "      <td>0.0</td>\n",
              "      <td>0.0</td>\n",
              "      <td>0.0</td>\n",
              "      <td>0.0</td>\n",
              "    </tr>\n",
              "    <tr>\n",
              "      <th>4</th>\n",
              "      <td>11.0</td>\n",
              "      <td>0.0</td>\n",
              "      <td>4.0</td>\n",
              "      <td>سمند ال ایکس بدون رنگ تمامی سرویس ها انجام شده...</td>\n",
              "      <td>4.0</td>\n",
              "      <td>80000.0</td>\n",
              "      <td>23900000.0</td>\n",
              "      <td>سمند دوگانه کارخانه</td>\n",
              "      <td>25.0</td>\n",
              "      <td>0.0</td>\n",
              "      <td>0.0</td>\n",
              "      <td>0.0</td>\n",
              "      <td>0.0</td>\n",
              "      <td>0.0</td>\n",
              "      <td>0.0</td>\n",
              "      <td>0.0</td>\n",
              "      <td>0.0</td>\n",
              "      <td>0.0</td>\n",
              "      <td>0.0</td>\n",
              "      <td>0.0</td>\n",
              "      <td>0.0</td>\n",
              "      <td>0.0</td>\n",
              "      <td>0.0</td>\n",
              "      <td>0.0</td>\n",
              "      <td>0.0</td>\n",
              "      <td>0.0</td>\n",
              "      <td>0.0</td>\n",
              "      <td>0.0</td>\n",
              "      <td>0.0</td>\n",
              "      <td>0.0</td>\n",
              "      <td>0.0</td>\n",
              "      <td>0.0</td>\n",
              "      <td>0.0</td>\n",
              "      <td>0.0</td>\n",
              "      <td>0.0</td>\n",
              "      <td>0.0</td>\n",
              "    </tr>\n",
              "    <tr>\n",
              "      <th>5</th>\n",
              "      <td>23.0</td>\n",
              "      <td>0.0</td>\n",
              "      <td>4.0</td>\n",
              "      <td>بیمه یکسال ده سال تخفیف دور رنگ شاسی پلمپ سالم</td>\n",
              "      <td>3.0</td>\n",
              "      <td>125000.0</td>\n",
              "      <td>8500000.0</td>\n",
              "      <td>پژو405 مدل84</td>\n",
              "      <td>18.0</td>\n",
              "      <td>0.0</td>\n",
              "      <td>0.0</td>\n",
              "      <td>0.0</td>\n",
              "      <td>0.0</td>\n",
              "      <td>0.0</td>\n",
              "      <td>0.0</td>\n",
              "      <td>0.0</td>\n",
              "      <td>0.0</td>\n",
              "      <td>0.0</td>\n",
              "      <td>0.0</td>\n",
              "      <td>0.0</td>\n",
              "      <td>0.0</td>\n",
              "      <td>0.0</td>\n",
              "      <td>0.0</td>\n",
              "      <td>0.0</td>\n",
              "      <td>0.0</td>\n",
              "      <td>0.0</td>\n",
              "      <td>0.0</td>\n",
              "      <td>0.0</td>\n",
              "      <td>0.0</td>\n",
              "      <td>0.0</td>\n",
              "      <td>0.0</td>\n",
              "      <td>0.0</td>\n",
              "      <td>0.0</td>\n",
              "      <td>0.0</td>\n",
              "      <td>0.0</td>\n",
              "      <td>0.0</td>\n",
              "    </tr>\n",
              "    <tr>\n",
              "      <th>...</th>\n",
              "      <td>...</td>\n",
              "      <td>...</td>\n",
              "      <td>...</td>\n",
              "      <td>...</td>\n",
              "      <td>...</td>\n",
              "      <td>...</td>\n",
              "      <td>...</td>\n",
              "      <td>...</td>\n",
              "      <td>...</td>\n",
              "      <td>...</td>\n",
              "      <td>...</td>\n",
              "      <td>...</td>\n",
              "      <td>...</td>\n",
              "      <td>...</td>\n",
              "      <td>...</td>\n",
              "      <td>...</td>\n",
              "      <td>...</td>\n",
              "      <td>...</td>\n",
              "      <td>...</td>\n",
              "      <td>...</td>\n",
              "      <td>...</td>\n",
              "      <td>...</td>\n",
              "      <td>...</td>\n",
              "      <td>...</td>\n",
              "      <td>...</td>\n",
              "      <td>...</td>\n",
              "      <td>...</td>\n",
              "      <td>...</td>\n",
              "      <td>...</td>\n",
              "      <td>...</td>\n",
              "      <td>...</td>\n",
              "      <td>...</td>\n",
              "      <td>...</td>\n",
              "      <td>...</td>\n",
              "      <td>...</td>\n",
              "      <td>...</td>\n",
              "    </tr>\n",
              "    <tr>\n",
              "      <th>120446</th>\n",
              "      <td>0.0</td>\n",
              "      <td>0.0</td>\n",
              "      <td>0.0</td>\n",
              "      <td>0</td>\n",
              "      <td>0.0</td>\n",
              "      <td>0.0</td>\n",
              "      <td>0.0</td>\n",
              "      <td>0</td>\n",
              "      <td>0.0</td>\n",
              "      <td>0.0</td>\n",
              "      <td>0.0</td>\n",
              "      <td>0.0</td>\n",
              "      <td>0.0</td>\n",
              "      <td>0.0</td>\n",
              "      <td>0.0</td>\n",
              "      <td>0.0</td>\n",
              "      <td>0.0</td>\n",
              "      <td>0.0</td>\n",
              "      <td>0.0</td>\n",
              "      <td>0.0</td>\n",
              "      <td>0.0</td>\n",
              "      <td>0.0</td>\n",
              "      <td>0.0</td>\n",
              "      <td>0.0</td>\n",
              "      <td>0.0</td>\n",
              "      <td>0.0</td>\n",
              "      <td>0.0</td>\n",
              "      <td>0.0</td>\n",
              "      <td>0.0</td>\n",
              "      <td>0.0</td>\n",
              "      <td>0.0</td>\n",
              "      <td>1.0</td>\n",
              "      <td>0.0</td>\n",
              "      <td>0.0</td>\n",
              "      <td>1.0</td>\n",
              "      <td>0.0</td>\n",
              "    </tr>\n",
              "    <tr>\n",
              "      <th>120447</th>\n",
              "      <td>0.0</td>\n",
              "      <td>0.0</td>\n",
              "      <td>0.0</td>\n",
              "      <td>0</td>\n",
              "      <td>0.0</td>\n",
              "      <td>0.0</td>\n",
              "      <td>0.0</td>\n",
              "      <td>0</td>\n",
              "      <td>0.0</td>\n",
              "      <td>0.0</td>\n",
              "      <td>0.0</td>\n",
              "      <td>0.0</td>\n",
              "      <td>0.0</td>\n",
              "      <td>0.0</td>\n",
              "      <td>0.0</td>\n",
              "      <td>0.0</td>\n",
              "      <td>0.0</td>\n",
              "      <td>0.0</td>\n",
              "      <td>0.0</td>\n",
              "      <td>0.0</td>\n",
              "      <td>0.0</td>\n",
              "      <td>0.0</td>\n",
              "      <td>0.0</td>\n",
              "      <td>0.0</td>\n",
              "      <td>0.0</td>\n",
              "      <td>0.0</td>\n",
              "      <td>0.0</td>\n",
              "      <td>0.0</td>\n",
              "      <td>0.0</td>\n",
              "      <td>0.0</td>\n",
              "      <td>0.0</td>\n",
              "      <td>0.0</td>\n",
              "      <td>0.0</td>\n",
              "      <td>0.0</td>\n",
              "      <td>0.0</td>\n",
              "      <td>0.0</td>\n",
              "    </tr>\n",
              "    <tr>\n",
              "      <th>120448</th>\n",
              "      <td>0.0</td>\n",
              "      <td>0.0</td>\n",
              "      <td>0.0</td>\n",
              "      <td>0</td>\n",
              "      <td>0.0</td>\n",
              "      <td>0.0</td>\n",
              "      <td>0.0</td>\n",
              "      <td>0</td>\n",
              "      <td>0.0</td>\n",
              "      <td>0.0</td>\n",
              "      <td>0.0</td>\n",
              "      <td>0.0</td>\n",
              "      <td>0.0</td>\n",
              "      <td>0.0</td>\n",
              "      <td>0.0</td>\n",
              "      <td>0.0</td>\n",
              "      <td>0.0</td>\n",
              "      <td>0.0</td>\n",
              "      <td>0.0</td>\n",
              "      <td>0.0</td>\n",
              "      <td>0.0</td>\n",
              "      <td>0.0</td>\n",
              "      <td>0.0</td>\n",
              "      <td>0.0</td>\n",
              "      <td>0.0</td>\n",
              "      <td>0.0</td>\n",
              "      <td>0.0</td>\n",
              "      <td>0.0</td>\n",
              "      <td>0.0</td>\n",
              "      <td>0.0</td>\n",
              "      <td>0.0</td>\n",
              "      <td>1.0</td>\n",
              "      <td>0.0</td>\n",
              "      <td>0.0</td>\n",
              "      <td>0.0</td>\n",
              "      <td>0.0</td>\n",
              "    </tr>\n",
              "    <tr>\n",
              "      <th>120449</th>\n",
              "      <td>0.0</td>\n",
              "      <td>0.0</td>\n",
              "      <td>0.0</td>\n",
              "      <td>0</td>\n",
              "      <td>0.0</td>\n",
              "      <td>0.0</td>\n",
              "      <td>0.0</td>\n",
              "      <td>0</td>\n",
              "      <td>0.0</td>\n",
              "      <td>0.0</td>\n",
              "      <td>0.0</td>\n",
              "      <td>0.0</td>\n",
              "      <td>0.0</td>\n",
              "      <td>0.0</td>\n",
              "      <td>0.0</td>\n",
              "      <td>0.0</td>\n",
              "      <td>0.0</td>\n",
              "      <td>0.0</td>\n",
              "      <td>0.0</td>\n",
              "      <td>0.0</td>\n",
              "      <td>0.0</td>\n",
              "      <td>0.0</td>\n",
              "      <td>0.0</td>\n",
              "      <td>0.0</td>\n",
              "      <td>0.0</td>\n",
              "      <td>0.0</td>\n",
              "      <td>0.0</td>\n",
              "      <td>0.0</td>\n",
              "      <td>0.0</td>\n",
              "      <td>0.0</td>\n",
              "      <td>0.0</td>\n",
              "      <td>0.0</td>\n",
              "      <td>0.0</td>\n",
              "      <td>0.0</td>\n",
              "      <td>1.0</td>\n",
              "      <td>0.0</td>\n",
              "    </tr>\n",
              "    <tr>\n",
              "      <th>120450</th>\n",
              "      <td>0.0</td>\n",
              "      <td>0.0</td>\n",
              "      <td>0.0</td>\n",
              "      <td>0</td>\n",
              "      <td>0.0</td>\n",
              "      <td>0.0</td>\n",
              "      <td>0.0</td>\n",
              "      <td>0</td>\n",
              "      <td>0.0</td>\n",
              "      <td>0.0</td>\n",
              "      <td>0.0</td>\n",
              "      <td>0.0</td>\n",
              "      <td>0.0</td>\n",
              "      <td>0.0</td>\n",
              "      <td>0.0</td>\n",
              "      <td>0.0</td>\n",
              "      <td>0.0</td>\n",
              "      <td>0.0</td>\n",
              "      <td>0.0</td>\n",
              "      <td>0.0</td>\n",
              "      <td>0.0</td>\n",
              "      <td>0.0</td>\n",
              "      <td>0.0</td>\n",
              "      <td>0.0</td>\n",
              "      <td>0.0</td>\n",
              "      <td>0.0</td>\n",
              "      <td>0.0</td>\n",
              "      <td>0.0</td>\n",
              "      <td>0.0</td>\n",
              "      <td>0.0</td>\n",
              "      <td>0.0</td>\n",
              "      <td>1.0</td>\n",
              "      <td>0.0</td>\n",
              "      <td>0.0</td>\n",
              "      <td>1.0</td>\n",
              "      <td>0.0</td>\n",
              "    </tr>\n",
              "  </tbody>\n",
              "</table>\n",
              "<p>361353 rows × 36 columns</p>\n",
              "</div>"
            ],
            "text/plain": [
              "        brand  category  created_at  ...   یک  پراید  پژو\n",
              "1        10.0       0.0         6.0  ...  0.0    0.0  0.0\n",
              "2        23.0       0.0         6.0  ...  0.0    0.0  0.0\n",
              "3        13.0       0.0         6.0  ...  0.0    0.0  0.0\n",
              "4        11.0       0.0         4.0  ...  0.0    0.0  0.0\n",
              "5        23.0       0.0         4.0  ...  0.0    0.0  0.0\n",
              "...       ...       ...         ...  ...  ...    ...  ...\n",
              "120446    0.0       0.0         0.0  ...  0.0    1.0  0.0\n",
              "120447    0.0       0.0         0.0  ...  0.0    0.0  0.0\n",
              "120448    0.0       0.0         0.0  ...  0.0    0.0  0.0\n",
              "120449    0.0       0.0         0.0  ...  0.0    1.0  0.0\n",
              "120450    0.0       0.0         0.0  ...  0.0    1.0  0.0\n",
              "\n",
              "[361353 rows x 36 columns]"
            ]
          },
          "execution_count": 21,
          "metadata": {
            "tags": []
          },
          "output_type": "execute_result"
        }
      ],
      "source": [
        "from sklearn.feature_extraction.text import CountVectorizer\n",
        "\n",
        "vectorizer1 = CountVectorizer(min_df=0.1,max_df=0.9,ngram_range=(1,3))\n",
        "desc_tokens = vectorizer1.fit_transform(data_description_arr)\n",
        "\n",
        "vectorizer2 = CountVectorizer(min_df=0.1,max_df=0.9,ngram_range=(1,3))\n",
        "title_tokens = vectorizer2.fit_transform(data_title_arr)\n",
        "\n",
        "desc_df = pd.DataFrame(desc_tokens.toarray(),columns=vectorizer1.get_feature_names())\n",
        "title_df = pd.DataFrame(title_tokens.toarray(),columns=vectorizer2.get_feature_names())\n",
        "\n",
        "data = pd.concat([data,desc_df,title_df])\n",
        "data = data.fillna(0)\n",
        "data"
      ]
    },
    {
      "cell_type": "markdown",
      "metadata": {
        "id": "xIwM7wmyE92Q"
      },
      "source": [
        "Create model"
      ]
    },
    {
      "cell_type": "code",
      "execution_count": null,
      "metadata": {
        "id": "AehXsTGZE8nK"
      },
      "outputs": [],
      "source": [
        "from sklearn.model_selection import train_test_split\n",
        "\n",
        "y = data['price']\n",
        "X = data.drop(['price','description','title','category'],axis=1)\n",
        "X_train, X_test, y_train, y_test = train_test_split(X, y, test_size = 0.2, random_state = False)"
      ]
    },
    {
      "cell_type": "markdown",
      "metadata": {
        "id": "LUTcHr51q1qU"
      },
      "source": [
        "Decision Tree"
      ]
    },
    {
      "cell_type": "code",
      "execution_count": null,
      "metadata": {
        "colab": {
          "background_save": true
        },
        "id": "K7uSaJ9okHVU",
        "outputId": "7fa9a69e-71bf-4566-9b75-3517907010ea"
      },
      "outputs": [
        {
          "name": "stdout",
          "output_type": "stream",
          "text": [
            "40\n"
          ]
        }
      ],
      "source": [
        "\n",
        "from sklearn.tree import DecisionTreeClassifier\n",
        "from sklearn.metrics import mean_squared_error\n",
        "dtclassifier = DecisionTreeClassifier()\n",
        "dtclassifier.fit(X_train, y_train)\n",
        "y_pred = dtclassifier.predict(X_test)\n",
        "mse = mean_squared_error(y_test,y_pred)\n",
        "mean_squared_error(y_test,y_pred,squared=False)\n",
        "print(dtclassifier.tree_.max_depth)"
      ]
    },
    {
      "cell_type": "code",
      "execution_count": null,
      "metadata": {
        "colab": {
          "base_uri": "https://localhost:8080/",
          "height": 1000
        },
        "id": "luspseSjOCIY",
        "outputId": "364b03da-6fd7-40e2-99bb-d2bb4e3f10f0"
      },
      "outputs": [
        {
          "name": "stdout",
          "output_type": "stream",
          "text": [
            "Rmse_train Score: 18925575.230948877\n",
            "Rmse_test Score: 18689445.172588147\n",
            "Rmse_train Score: 18925575.231198102\n",
            "Rmse_test Score: 18689445.172735333\n",
            "Rmse_train Score: 18925575.231198102\n",
            "Rmse_test Score: 18689445.172735333\n",
            "Rmse_train Score: 18925518.203588165\n",
            "Rmse_test Score: 18689445.172735333\n",
            "Rmse_train Score: 18925071.621186018\n",
            "Rmse_test Score: 18689142.90214439\n",
            "Rmse_train Score: 18924555.27751507\n",
            "Rmse_test Score: 18689323.754235856\n",
            "Rmse_train Score: 18916640.902356394\n",
            "Rmse_test Score: 18683098.227204297\n",
            "Rmse_train Score: 18742645.969891306\n",
            "Rmse_test Score: 18499763.80981665\n",
            "Rmse_train Score: 18632075.558208097\n",
            "Rmse_test Score: 18394241.41902767\n",
            "Rmse_train Score: 18217037.418860562\n",
            "Rmse_test Score: 18019535.114638124\n",
            "Rmse_train Score: 17802509.46614586\n",
            "Rmse_test Score: 17777766.36099964\n",
            "Rmse_train Score: 17517793.482878085\n",
            "Rmse_test Score: 17529326.693164513\n",
            "Rmse_train Score: 16694368.134185245\n",
            "Rmse_test Score: 16993258.59432894\n",
            "Rmse_train Score: 16130727.591795309\n",
            "Rmse_test Score: 16659954.47216623\n",
            "Rmse_train Score: 15370905.16439865\n",
            "Rmse_test Score: 16364406.181866253\n",
            "Rmse_train Score: 14454275.585159855\n",
            "Rmse_test Score: 15715869.760328773\n",
            "Rmse_train Score: 13416031.03670419\n",
            "Rmse_test Score: 15360815.911007507\n",
            "Rmse_train Score: 12330221.274549805\n",
            "Rmse_test Score: 15336691.795898922\n",
            "Rmse_train Score: 11338396.726949649\n",
            "Rmse_test Score: 14971553.73265486\n",
            "Rmse_train Score: 10264488.396231519\n",
            "Rmse_test Score: 14764458.392332362\n",
            "Rmse_train Score: 9299278.539551074\n",
            "Rmse_test Score: 14322545.199316246\n",
            "Rmse_train Score: 8526002.962977933\n",
            "Rmse_test Score: 14403326.656016832\n",
            "Rmse_train Score: 7801811.882521619\n",
            "Rmse_test Score: 14031567.543849047\n",
            "Rmse_train Score: 7185471.65034733\n",
            "Rmse_test Score: 14140884.484358631\n",
            "Rmse_train Score: 6630203.726167155\n",
            "Rmse_test Score: 14018099.403980488\n",
            "Rmse_train Score: 6184775.682452668\n",
            "Rmse_test Score: 13744014.749468239\n",
            "Rmse_train Score: 5767021.135039199\n",
            "Rmse_test Score: 13887914.051151391\n",
            "Rmse_train Score: 5540254.178211183\n",
            "Rmse_test Score: 13803179.986843372\n",
            "Rmse_train Score: 5380107.213477674\n",
            "Rmse_test Score: 13734841.36268801\n",
            "Rmse_train Score: 5261349.463642859\n",
            "Rmse_test Score: 13805669.960211473\n",
            "Rmse_train Score: 5190025.4340970265\n",
            "Rmse_test Score: 13651303.692469964\n",
            "Rmse_train Score: 5135163.82119271\n",
            "Rmse_test Score: 13809787.279298177\n",
            "Rmse_train Score: 5116366.917652364\n",
            "Rmse_test Score: 13926049.563361747\n",
            "Rmse_train Score: 5086169.586367751\n",
            "Rmse_test Score: 13848184.337639146\n",
            "Rmse_train Score: 5068411.975653047\n",
            "Rmse_test Score: 13890591.338170614\n",
            "Rmse_train Score: 5033270.557556816\n",
            "Rmse_test Score: 13710261.782440715\n",
            "Rmse_train Score: 5029033.463773273\n",
            "Rmse_test Score: 13779472.305145869\n",
            "Rmse_train Score: 5011673.653736398\n",
            "Rmse_test Score: 13650875.80820425\n",
            "Rmse_train Score: 5006037.832606535\n",
            "Rmse_test Score: 13822096.784494499\n",
            "Rmse_train Score: 5005089.434109344\n",
            "Rmse_test Score: 13818402.442231243\n",
            "Rmse_train Score: 5005089.434109344\n",
            "Rmse_test Score: 13793942.439428171\n",
            "Rmse_train Score: 5005089.0885384735\n",
            "Rmse_test Score: 13593114.489596685\n",
            "Rmse_train Score: 5005089.0885384735\n",
            "Rmse_test Score: 13837479.564130995\n",
            "Rmse_train Score: 5005089.0885384735\n",
            "Rmse_test Score: 13884230.008555865\n",
            "Rmse_train Score: 5005089.0885384735\n",
            "Rmse_test Score: 13747357.913984453\n",
            "Rmse_train Score: 5005089.0885384735\n",
            "Rmse_test Score: 13785486.228411056\n",
            "Rmse_train Score: 5005089.0885384735\n",
            "Rmse_test Score: 13722761.439435951\n",
            "Rmse_train Score: 5005089.0885384735\n",
            "Rmse_test Score: 13775167.075604672\n",
            "Rmse_train Score: 5005089.0885384735\n",
            "Rmse_test Score: 14038107.884153076\n",
            "Rmse_train Score: 5005089.0885384735\n",
            "Rmse_test Score: 13664046.979450172\n"
          ]
        },
        {
          "data": {
            "image/png": "[encoded data removed]",
            "text/plain": [
              "<Figure size 432x288 with 1 Axes>"
            ]
          },
          "metadata": {
            "tags": []
          },
          "output_type": "display_data"
        }
      ],
      "source": [
        "from sklearn.tree import DecisionTreeClassifier\n",
        "from sklearn.metrics import mean_squared_error\n",
        "from matplotlib.legend_handler import HandlerLine2D\n",
        "\n",
        "Rmse_test = []\n",
        "Rmse_train = []\n",
        "max_depths = np.linspace(1, 50, 50, endpoint=True)\n",
        "\n",
        "for max_depth in max_depths:\n",
        "  dtclassifier = DecisionTreeClassifier(max_depth=max_depth,min_samples_split=2)\n",
        "  dtclassifier.fit(X_train, y_train)\n",
        "  y_pred = dtclassifier.predict(X_test)\n",
        "  y_pred_train = dtclassifier.predict(X_train)\n",
        "  mse = mean_squared_error(y_test,y_pred)\n",
        "  rmse_test = mean_squared_error(y_test,y_pred,squared=False)\n",
        "  rmse_train = mean_squared_error(y_train,y_pred_train,squared=False)\n",
        "\n",
        "  Rmse_test.append(rmse_test)\n",
        "  Rmse_train.append(rmse_train)\n",
        "  print('Rmse_train Score:', rmse_train)\n",
        "  print('Rmse_test Score:',rmse_test)\n",
        "\n",
        "\n",
        "line1, = plt.plot(max_depths, Rmse_train, 'b', label='RMSE train')\n",
        "line2, = plt.plot(max_depths, Rmse_test, 'r', label='RMSE test')\n",
        "plt.legend(handler_map={line1: HandlerLine2D(numpoints=2)})\n",
        "\n",
        "plt.ylabel('Score')\n",
        "plt.xlabel('Tree depth')\n",
        "plt.show()"
      ]
    },
    {
      "cell_type": "code",
      "execution_count": null,
      "metadata": {
        "colab": {
          "base_uri": "https://localhost:8080/",
          "height": 738
        },
        "id": "4vVut20m8CtY",
        "outputId": "40cbaf30-dad9-4d15-a7c7-532639da6af6"
      },
      "outputs": [
        {
          "name": "stdout",
          "output_type": "stream",
          "text": [
            "RMSE Score: 13717802.385351252\n",
            "MSE Score: 188178102283548.47\n",
            "RMSE Score: 13636114.743628142\n",
            "MSE Score: 185943625301392.8\n",
            "RMSE Score: 13729999.724466413\n",
            "MSE Score: 188512892433847.78\n",
            "RMSE Score: 13893448.131079948\n",
            "MSE Score: 193027900971008.88\n",
            "RMSE Score: 14517319.091099055\n",
            "MSE Score: 210752553592789.1\n",
            "RMSE Score: 14803905.404264115\n",
            "MSE Score: 219155615218400.25\n",
            "RMSE Score: 14940018.562774656\n",
            "MSE Score: 223204154656051.28\n",
            "RMSE Score: 15158423.671586627\n",
            "MSE Score: 229777808207317.8\n",
            "RMSE Score: 15280442.897727318\n",
            "MSE Score: 233491935150705.22\n",
            "RMSE Score: 15638999.356156856\n",
            "MSE Score: 244578300861874.56\n",
            "RMSE Score: 15804006.817624241\n",
            "MSE Score: 249766631491513.47\n",
            "RMSE Score: 15925402.636160584\n",
            "MSE Score: 253618449123830.5\n"
          ]
        },
        {
          "data": {
            "image/png": "[encoded data removed]",
            "text/plain": [
              "<Figure size 432x288 with 1 Axes>"
            ]
          },
          "metadata": {
            "tags": []
          },
          "output_type": "display_data"
        }
      ],
      "source": [
        "from sklearn.tree import DecisionTreeClassifier\n",
        "from sklearn.metrics import mean_squared_error\n",
        "\n",
        "Rmse = []\n",
        "Mse = []\n",
        "min_samples_splits = [2,3,4,5,10,15,20,25,30,35,40,45]\n",
        "\n",
        "for min_samples_split in min_samples_splits:\n",
        "  dtclassifier = DecisionTreeClassifier(max_depth=42,min_samples_split=min_samples_split)\n",
        "  dtclassifier.fit(X_train, y_train)\n",
        "  y_pred = dtclassifier.predict(X_test)\n",
        "  mse = mean_squared_error(y_test,y_pred)\n",
        "  rmse = mean_squared_error(y_test,y_pred,squared=False)\n",
        "  Rmse.append(rmse)\n",
        "  Mse.append(mse)\n",
        "  print('RMSE Score:', rmse)\n",
        "  print('MSE Score:', mse)\n",
        "plt.plot(min_samples_splits, Rmse, 'b', label='RMSE')\n",
        "plt.ylabel('Score')\n",
        "plt.xlabel('min samples split')\n",
        "plt.show()"
      ]
    },
    {
      "cell_type": "markdown",
      "metadata": {
        "id": "upg4ixcyq_WM"
      },
      "source": [
        "Linear Regression"
      ]
    },
    {
      "cell_type": "code",
      "execution_count": null,
      "metadata": {
        "colab": {
          "base_uri": "https://localhost:8080/"
        },
        "id": "EVORAdPMPuT-",
        "outputId": "8aa56846-361c-4b46-92f8-e5a462343c95"
      },
      "outputs": [
        {
          "data": {
            "text/plain": [
              "13860931.545627901"
            ]
          },
          "execution_count": 22,
          "metadata": {
            "tags": []
          },
          "output_type": "execute_result"
        }
      ],
      "source": [
        "from sklearn.linear_model import LinearRegression\n",
        "lr = LinearRegression().fit(X_train, y_train)\n",
        "coef = lr.coef_\n",
        "intercept = lr.intercept_\n",
        "y_pred = lr.predict(X_test)\n",
        "lr.score(X_train, y_train)\n",
        "mse = mean_squared_error(y_test,y_pred)\n",
        "rmse = mean_squared_error(y_test,y_pred,squared=False)\n",
        "rmse"
      ]
    },
    {
      "cell_type": "markdown",
      "metadata": {
        "id": "0oseDJsMrDj-"
      },
      "source": [
        "Random Forest"
      ]
    },
    {
      "cell_type": "code",
      "execution_count": null,
      "metadata": {
        "colab": {
          "base_uri": "https://localhost:8080/",
          "height": 404
        },
        "id": "QhMc2l-sadaC",
        "outputId": "4318e54d-94be-40a5-cffb-f5b5b61007fd"
      },
      "outputs": [
        {
          "ename": "KeyboardInterrupt",
          "evalue": "ignored",
          "output_type": "error",
          "traceback": [
            "\u001b[0;31m---------------------------------------------------------------------------\u001b[0m",
            "\u001b[0;31mKeyboardInterrupt\u001b[0m                         Traceback (most recent call last)",
            "\u001b[0;32m<ipython-input-12-cdf417f06356>\u001b[0m in \u001b[0;36m<module>\u001b[0;34m()\u001b[0m\n\u001b[1;32m     10\u001b[0m   \u001b[0mclf\u001b[0m\u001b[0;34m.\u001b[0m\u001b[0mfit\u001b[0m\u001b[0;34m(\u001b[0m\u001b[0mX_train\u001b[0m\u001b[0;34m,\u001b[0m \u001b[0my_train\u001b[0m\u001b[0;34m)\u001b[0m\u001b[0;34m\u001b[0m\u001b[0;34m\u001b[0m\u001b[0m\n\u001b[1;32m     11\u001b[0m   \u001b[0my_pred\u001b[0m \u001b[0;34m=\u001b[0m \u001b[0mclf\u001b[0m\u001b[0;34m.\u001b[0m\u001b[0mpredict\u001b[0m\u001b[0;34m(\u001b[0m\u001b[0mX_test\u001b[0m\u001b[0;34m)\u001b[0m\u001b[0;34m\u001b[0m\u001b[0;34m\u001b[0m\u001b[0m\n\u001b[0;32m---> 12\u001b[0;31m   \u001b[0my_pred_train\u001b[0m \u001b[0;34m=\u001b[0m \u001b[0mclf\u001b[0m\u001b[0;34m.\u001b[0m\u001b[0mpredict\u001b[0m\u001b[0;34m(\u001b[0m\u001b[0mX_train\u001b[0m\u001b[0;34m)\u001b[0m\u001b[0;34m\u001b[0m\u001b[0;34m\u001b[0m\u001b[0m\n\u001b[0m\u001b[1;32m     13\u001b[0m   \u001b[0mmse\u001b[0m \u001b[0;34m=\u001b[0m \u001b[0mmean_squared_error\u001b[0m\u001b[0;34m(\u001b[0m\u001b[0my_test\u001b[0m\u001b[0;34m,\u001b[0m\u001b[0my_pred\u001b[0m\u001b[0;34m)\u001b[0m\u001b[0;34m\u001b[0m\u001b[0;34m\u001b[0m\u001b[0m\n\u001b[1;32m     14\u001b[0m   \u001b[0mrmse_test\u001b[0m \u001b[0;34m=\u001b[0m \u001b[0mmean_squared_error\u001b[0m\u001b[0;34m(\u001b[0m\u001b[0my_test\u001b[0m\u001b[0;34m,\u001b[0m\u001b[0my_pred\u001b[0m\u001b[0;34m,\u001b[0m\u001b[0msquared\u001b[0m\u001b[0;34m=\u001b[0m\u001b[0;32mFalse\u001b[0m\u001b[0;34m)\u001b[0m\u001b[0;34m\u001b[0m\u001b[0;34m\u001b[0m\u001b[0m\n",
            "\u001b[0;32m/usr/local/lib/python3.7/dist-packages/sklearn/ensemble/_forest.py\u001b[0m in \u001b[0;36mpredict\u001b[0;34m(self, X)\u001b[0m\n\u001b[1;32m    610\u001b[0m             \u001b[0mThe\u001b[0m \u001b[0mpredicted\u001b[0m \u001b[0mclasses\u001b[0m\u001b[0;34m.\u001b[0m\u001b[0;34m\u001b[0m\u001b[0;34m\u001b[0m\u001b[0m\n\u001b[1;32m    611\u001b[0m         \"\"\"\n\u001b[0;32m--> 612\u001b[0;31m         \u001b[0mproba\u001b[0m \u001b[0;34m=\u001b[0m \u001b[0mself\u001b[0m\u001b[0;34m.\u001b[0m\u001b[0mpredict_proba\u001b[0m\u001b[0;34m(\u001b[0m\u001b[0mX\u001b[0m\u001b[0;34m)\u001b[0m\u001b[0;34m\u001b[0m\u001b[0;34m\u001b[0m\u001b[0m\n\u001b[0m\u001b[1;32m    613\u001b[0m \u001b[0;34m\u001b[0m\u001b[0m\n\u001b[1;32m    614\u001b[0m         \u001b[0;32mif\u001b[0m \u001b[0mself\u001b[0m\u001b[0;34m.\u001b[0m\u001b[0mn_outputs_\u001b[0m \u001b[0;34m==\u001b[0m \u001b[0;36m1\u001b[0m\u001b[0;34m:\u001b[0m\u001b[0;34m\u001b[0m\u001b[0;34m\u001b[0m\u001b[0m\n",
            "\u001b[0;32m/usr/local/lib/python3.7/dist-packages/sklearn/ensemble/_forest.py\u001b[0m in \u001b[0;36mpredict_proba\u001b[0;34m(self, X)\u001b[0m\n\u001b[1;32m    667\u001b[0m             delayed(_accumulate_prediction)(e.predict_proba, X, all_proba,\n\u001b[1;32m    668\u001b[0m                                             lock)\n\u001b[0;32m--> 669\u001b[0;31m             for e in self.estimators_)\n\u001b[0m\u001b[1;32m    670\u001b[0m \u001b[0;34m\u001b[0m\u001b[0m\n\u001b[1;32m    671\u001b[0m         \u001b[0;32mfor\u001b[0m \u001b[0mproba\u001b[0m \u001b[0;32min\u001b[0m \u001b[0mall_proba\u001b[0m\u001b[0;34m:\u001b[0m\u001b[0;34m\u001b[0m\u001b[0;34m\u001b[0m\u001b[0m\n",
            "\u001b[0;32m/usr/local/lib/python3.7/dist-packages/joblib/parallel.py\u001b[0m in \u001b[0;36m__call__\u001b[0;34m(self, iterable)\u001b[0m\n\u001b[1;32m   1042\u001b[0m                 \u001b[0mself\u001b[0m\u001b[0;34m.\u001b[0m\u001b[0m_iterating\u001b[0m \u001b[0;34m=\u001b[0m \u001b[0mself\u001b[0m\u001b[0;34m.\u001b[0m\u001b[0m_original_iterator\u001b[0m \u001b[0;32mis\u001b[0m \u001b[0;32mnot\u001b[0m \u001b[0;32mNone\u001b[0m\u001b[0;34m\u001b[0m\u001b[0;34m\u001b[0m\u001b[0m\n\u001b[1;32m   1043\u001b[0m \u001b[0;34m\u001b[0m\u001b[0m\n\u001b[0;32m-> 1044\u001b[0;31m             \u001b[0;32mwhile\u001b[0m \u001b[0mself\u001b[0m\u001b[0;34m.\u001b[0m\u001b[0mdispatch_one_batch\u001b[0m\u001b[0;34m(\u001b[0m\u001b[0miterator\u001b[0m\u001b[0;34m)\u001b[0m\u001b[0;34m:\u001b[0m\u001b[0;34m\u001b[0m\u001b[0;34m\u001b[0m\u001b[0m\n\u001b[0m\u001b[1;32m   1045\u001b[0m                 \u001b[0;32mpass\u001b[0m\u001b[0;34m\u001b[0m\u001b[0;34m\u001b[0m\u001b[0m\n\u001b[1;32m   1046\u001b[0m \u001b[0;34m\u001b[0m\u001b[0m\n",
            "\u001b[0;32m/usr/local/lib/python3.7/dist-packages/joblib/parallel.py\u001b[0m in \u001b[0;36mdispatch_one_batch\u001b[0;34m(self, iterator)\u001b[0m\n\u001b[1;32m    857\u001b[0m                 \u001b[0;32mreturn\u001b[0m \u001b[0;32mFalse\u001b[0m\u001b[0;34m\u001b[0m\u001b[0;34m\u001b[0m\u001b[0m\n\u001b[1;32m    858\u001b[0m             \u001b[0;32melse\u001b[0m\u001b[0;34m:\u001b[0m\u001b[0;34m\u001b[0m\u001b[0;34m\u001b[0m\u001b[0m\n\u001b[0;32m--> 859\u001b[0;31m                 \u001b[0mself\u001b[0m\u001b[0;34m.\u001b[0m\u001b[0m_dispatch\u001b[0m\u001b[0;34m(\u001b[0m\u001b[0mtasks\u001b[0m\u001b[0;34m)\u001b[0m\u001b[0;34m\u001b[0m\u001b[0;34m\u001b[0m\u001b[0m\n\u001b[0m\u001b[1;32m    860\u001b[0m                 \u001b[0;32mreturn\u001b[0m \u001b[0;32mTrue\u001b[0m\u001b[0;34m\u001b[0m\u001b[0;34m\u001b[0m\u001b[0m\n\u001b[1;32m    861\u001b[0m \u001b[0;34m\u001b[0m\u001b[0m\n",
            "\u001b[0;32m/usr/local/lib/python3.7/dist-packages/joblib/parallel.py\u001b[0m in \u001b[0;36m_dispatch\u001b[0;34m(self, batch)\u001b[0m\n\u001b[1;32m    775\u001b[0m         \u001b[0;32mwith\u001b[0m \u001b[0mself\u001b[0m\u001b[0;34m.\u001b[0m\u001b[0m_lock\u001b[0m\u001b[0;34m:\u001b[0m\u001b[0;34m\u001b[0m\u001b[0;34m\u001b[0m\u001b[0m\n\u001b[1;32m    776\u001b[0m             \u001b[0mjob_idx\u001b[0m \u001b[0;34m=\u001b[0m \u001b[0mlen\u001b[0m\u001b[0;34m(\u001b[0m\u001b[0mself\u001b[0m\u001b[0;34m.\u001b[0m\u001b[0m_jobs\u001b[0m\u001b[0;34m)\u001b[0m\u001b[0;34m\u001b[0m\u001b[0;34m\u001b[0m\u001b[0m\n\u001b[0;32m--> 777\u001b[0;31m             \u001b[0mjob\u001b[0m \u001b[0;34m=\u001b[0m \u001b[0mself\u001b[0m\u001b[0;34m.\u001b[0m\u001b[0m_backend\u001b[0m\u001b[0;34m.\u001b[0m\u001b[0mapply_async\u001b[0m\u001b[0;34m(\u001b[0m\u001b[0mbatch\u001b[0m\u001b[0;34m,\u001b[0m \u001b[0mcallback\u001b[0m\u001b[0;34m=\u001b[0m\u001b[0mcb\u001b[0m\u001b[0;34m)\u001b[0m\u001b[0;34m\u001b[0m\u001b[0;34m\u001b[0m\u001b[0m\n\u001b[0m\u001b[1;32m    778\u001b[0m             \u001b[0;31m# A job can complete so quickly than its callback is\u001b[0m\u001b[0;34m\u001b[0m\u001b[0;34m\u001b[0m\u001b[0;34m\u001b[0m\u001b[0m\n\u001b[1;32m    779\u001b[0m             \u001b[0;31m# called before we get here, causing self._jobs to\u001b[0m\u001b[0;34m\u001b[0m\u001b[0;34m\u001b[0m\u001b[0;34m\u001b[0m\u001b[0m\n",
            "\u001b[0;32m/usr/local/lib/python3.7/dist-packages/joblib/_parallel_backends.py\u001b[0m in \u001b[0;36mapply_async\u001b[0;34m(self, func, callback)\u001b[0m\n\u001b[1;32m    206\u001b[0m     \u001b[0;32mdef\u001b[0m \u001b[0mapply_async\u001b[0m\u001b[0;34m(\u001b[0m\u001b[0mself\u001b[0m\u001b[0;34m,\u001b[0m \u001b[0mfunc\u001b[0m\u001b[0;34m,\u001b[0m \u001b[0mcallback\u001b[0m\u001b[0;34m=\u001b[0m\u001b[0;32mNone\u001b[0m\u001b[0;34m)\u001b[0m\u001b[0;34m:\u001b[0m\u001b[0;34m\u001b[0m\u001b[0;34m\u001b[0m\u001b[0m\n\u001b[1;32m    207\u001b[0m         \u001b[0;34m\"\"\"Schedule a func to be run\"\"\"\u001b[0m\u001b[0;34m\u001b[0m\u001b[0;34m\u001b[0m\u001b[0m\n\u001b[0;32m--> 208\u001b[0;31m         \u001b[0mresult\u001b[0m \u001b[0;34m=\u001b[0m \u001b[0mImmediateResult\u001b[0m\u001b[0;34m(\u001b[0m\u001b[0mfunc\u001b[0m\u001b[0;34m)\u001b[0m\u001b[0;34m\u001b[0m\u001b[0;34m\u001b[0m\u001b[0m\n\u001b[0m\u001b[1;32m    209\u001b[0m         \u001b[0;32mif\u001b[0m \u001b[0mcallback\u001b[0m\u001b[0;34m:\u001b[0m\u001b[0;34m\u001b[0m\u001b[0;34m\u001b[0m\u001b[0m\n\u001b[1;32m    210\u001b[0m             \u001b[0mcallback\u001b[0m\u001b[0;34m(\u001b[0m\u001b[0mresult\u001b[0m\u001b[0;34m)\u001b[0m\u001b[0;34m\u001b[0m\u001b[0;34m\u001b[0m\u001b[0m\n",
            "\u001b[0;32m/usr/local/lib/python3.7/dist-packages/joblib/_parallel_backends.py\u001b[0m in \u001b[0;36m__init__\u001b[0;34m(self, batch)\u001b[0m\n\u001b[1;32m    570\u001b[0m         \u001b[0;31m# Don't delay the application, to avoid keeping the input\u001b[0m\u001b[0;34m\u001b[0m\u001b[0;34m\u001b[0m\u001b[0;34m\u001b[0m\u001b[0m\n\u001b[1;32m    571\u001b[0m         \u001b[0;31m# arguments in memory\u001b[0m\u001b[0;34m\u001b[0m\u001b[0;34m\u001b[0m\u001b[0;34m\u001b[0m\u001b[0m\n\u001b[0;32m--> 572\u001b[0;31m         \u001b[0mself\u001b[0m\u001b[0;34m.\u001b[0m\u001b[0mresults\u001b[0m \u001b[0;34m=\u001b[0m \u001b[0mbatch\u001b[0m\u001b[0;34m(\u001b[0m\u001b[0;34m)\u001b[0m\u001b[0;34m\u001b[0m\u001b[0;34m\u001b[0m\u001b[0m\n\u001b[0m\u001b[1;32m    573\u001b[0m \u001b[0;34m\u001b[0m\u001b[0m\n\u001b[1;32m    574\u001b[0m     \u001b[0;32mdef\u001b[0m \u001b[0mget\u001b[0m\u001b[0;34m(\u001b[0m\u001b[0mself\u001b[0m\u001b[0;34m)\u001b[0m\u001b[0;34m:\u001b[0m\u001b[0;34m\u001b[0m\u001b[0;34m\u001b[0m\u001b[0m\n",
            "\u001b[0;32m/usr/local/lib/python3.7/dist-packages/joblib/parallel.py\u001b[0m in \u001b[0;36m__call__\u001b[0;34m(self)\u001b[0m\n\u001b[1;32m    261\u001b[0m         \u001b[0;32mwith\u001b[0m \u001b[0mparallel_backend\u001b[0m\u001b[0;34m(\u001b[0m\u001b[0mself\u001b[0m\u001b[0;34m.\u001b[0m\u001b[0m_backend\u001b[0m\u001b[0;34m,\u001b[0m \u001b[0mn_jobs\u001b[0m\u001b[0;34m=\u001b[0m\u001b[0mself\u001b[0m\u001b[0;34m.\u001b[0m\u001b[0m_n_jobs\u001b[0m\u001b[0;34m)\u001b[0m\u001b[0;34m:\u001b[0m\u001b[0;34m\u001b[0m\u001b[0;34m\u001b[0m\u001b[0m\n\u001b[1;32m    262\u001b[0m             return [func(*args, **kwargs)\n\u001b[0;32m--> 263\u001b[0;31m                     for func, args, kwargs in self.items]\n\u001b[0m\u001b[1;32m    264\u001b[0m \u001b[0;34m\u001b[0m\u001b[0m\n\u001b[1;32m    265\u001b[0m     \u001b[0;32mdef\u001b[0m \u001b[0m__reduce__\u001b[0m\u001b[0;34m(\u001b[0m\u001b[0mself\u001b[0m\u001b[0;34m)\u001b[0m\u001b[0;34m:\u001b[0m\u001b[0;34m\u001b[0m\u001b[0;34m\u001b[0m\u001b[0m\n",
            "\u001b[0;32m/usr/local/lib/python3.7/dist-packages/joblib/parallel.py\u001b[0m in \u001b[0;36m<listcomp>\u001b[0;34m(.0)\u001b[0m\n\u001b[1;32m    261\u001b[0m         \u001b[0;32mwith\u001b[0m \u001b[0mparallel_backend\u001b[0m\u001b[0;34m(\u001b[0m\u001b[0mself\u001b[0m\u001b[0;34m.\u001b[0m\u001b[0m_backend\u001b[0m\u001b[0;34m,\u001b[0m \u001b[0mn_jobs\u001b[0m\u001b[0;34m=\u001b[0m\u001b[0mself\u001b[0m\u001b[0;34m.\u001b[0m\u001b[0m_n_jobs\u001b[0m\u001b[0;34m)\u001b[0m\u001b[0;34m:\u001b[0m\u001b[0;34m\u001b[0m\u001b[0;34m\u001b[0m\u001b[0m\n\u001b[1;32m    262\u001b[0m             return [func(*args, **kwargs)\n\u001b[0;32m--> 263\u001b[0;31m                     for func, args, kwargs in self.items]\n\u001b[0m\u001b[1;32m    264\u001b[0m \u001b[0;34m\u001b[0m\u001b[0m\n\u001b[1;32m    265\u001b[0m     \u001b[0;32mdef\u001b[0m \u001b[0m__reduce__\u001b[0m\u001b[0;34m(\u001b[0m\u001b[0mself\u001b[0m\u001b[0;34m)\u001b[0m\u001b[0;34m:\u001b[0m\u001b[0;34m\u001b[0m\u001b[0;34m\u001b[0m\u001b[0m\n",
            "\u001b[0;32m/usr/local/lib/python3.7/dist-packages/sklearn/ensemble/_forest.py\u001b[0m in \u001b[0;36m_accumulate_prediction\u001b[0;34m(predict, X, out, lock)\u001b[0m\n\u001b[1;32m    447\u001b[0m     \u001b[0mcomplains\u001b[0m \u001b[0mthat\u001b[0m \u001b[0mit\u001b[0m \u001b[0mcannot\u001b[0m \u001b[0mpickle\u001b[0m \u001b[0mit\u001b[0m \u001b[0mwhen\u001b[0m \u001b[0mplaced\u001b[0m \u001b[0mthere\u001b[0m\u001b[0;34m.\u001b[0m\u001b[0;34m\u001b[0m\u001b[0;34m\u001b[0m\u001b[0m\n\u001b[1;32m    448\u001b[0m     \"\"\"\n\u001b[0;32m--> 449\u001b[0;31m     \u001b[0mprediction\u001b[0m \u001b[0;34m=\u001b[0m \u001b[0mpredict\u001b[0m\u001b[0;34m(\u001b[0m\u001b[0mX\u001b[0m\u001b[0;34m,\u001b[0m \u001b[0mcheck_input\u001b[0m\u001b[0;34m=\u001b[0m\u001b[0;32mFalse\u001b[0m\u001b[0;34m)\u001b[0m\u001b[0;34m\u001b[0m\u001b[0;34m\u001b[0m\u001b[0m\n\u001b[0m\u001b[1;32m    450\u001b[0m     \u001b[0;32mwith\u001b[0m \u001b[0mlock\u001b[0m\u001b[0;34m:\u001b[0m\u001b[0;34m\u001b[0m\u001b[0;34m\u001b[0m\u001b[0m\n\u001b[1;32m    451\u001b[0m         \u001b[0;32mif\u001b[0m \u001b[0mlen\u001b[0m\u001b[0;34m(\u001b[0m\u001b[0mout\u001b[0m\u001b[0;34m)\u001b[0m \u001b[0;34m==\u001b[0m \u001b[0;36m1\u001b[0m\u001b[0;34m:\u001b[0m\u001b[0;34m\u001b[0m\u001b[0;34m\u001b[0m\u001b[0m\n",
            "\u001b[0;32m/usr/local/lib/python3.7/dist-packages/sklearn/tree/_classes.py\u001b[0m in \u001b[0;36mpredict_proba\u001b[0;34m(self, X, check_input)\u001b[0m\n\u001b[1;32m    904\u001b[0m         \u001b[0mcheck_is_fitted\u001b[0m\u001b[0;34m(\u001b[0m\u001b[0mself\u001b[0m\u001b[0;34m)\u001b[0m\u001b[0;34m\u001b[0m\u001b[0;34m\u001b[0m\u001b[0m\n\u001b[1;32m    905\u001b[0m         \u001b[0mX\u001b[0m \u001b[0;34m=\u001b[0m \u001b[0mself\u001b[0m\u001b[0;34m.\u001b[0m\u001b[0m_validate_X_predict\u001b[0m\u001b[0;34m(\u001b[0m\u001b[0mX\u001b[0m\u001b[0;34m,\u001b[0m \u001b[0mcheck_input\u001b[0m\u001b[0;34m)\u001b[0m\u001b[0;34m\u001b[0m\u001b[0;34m\u001b[0m\u001b[0m\n\u001b[0;32m--> 906\u001b[0;31m         \u001b[0mproba\u001b[0m \u001b[0;34m=\u001b[0m \u001b[0mself\u001b[0m\u001b[0;34m.\u001b[0m\u001b[0mtree_\u001b[0m\u001b[0;34m.\u001b[0m\u001b[0mpredict\u001b[0m\u001b[0;34m(\u001b[0m\u001b[0mX\u001b[0m\u001b[0;34m)\u001b[0m\u001b[0;34m\u001b[0m\u001b[0;34m\u001b[0m\u001b[0m\n\u001b[0m\u001b[1;32m    907\u001b[0m \u001b[0;34m\u001b[0m\u001b[0m\n\u001b[1;32m    908\u001b[0m         \u001b[0;32mif\u001b[0m \u001b[0mself\u001b[0m\u001b[0;34m.\u001b[0m\u001b[0mn_outputs_\u001b[0m \u001b[0;34m==\u001b[0m \u001b[0;36m1\u001b[0m\u001b[0;34m:\u001b[0m\u001b[0;34m\u001b[0m\u001b[0;34m\u001b[0m\u001b[0m\n",
            "\u001b[0;31mKeyboardInterrupt\u001b[0m: "
          ]
        }
      ],
      "source": [
        "from sklearn.ensemble import RandomForestClassifier\n",
        "from sklearn.metrics import mean_squared_error\n",
        "Rmse_test = []\n",
        "Rmse_train = []\n",
        "max_depths = [2,5,10]\n",
        "\n",
        "for max_depth in max_depths:\n",
        "\n",
        "  clf = RandomForestClassifier(max_depth=max_depth, random_state=0)\n",
        "  clf.fit(X_train, y_train)\n",
        "  y_pred = clf.predict(X_test)\n",
        "  y_pred_train = clf.predict(X_train)\n",
        "  mse = mean_squared_error(y_test,y_pred)\n",
        "  rmse_test = mean_squared_error(y_test,y_pred,squared=False)\n",
        "  rmse_train = mean_squared_error(y_train,y_pred_train,squared=False)\n",
        "  Rmse_test.append(rmse_test)\n",
        "  Rmse_train.append(rmse_train)\n",
        "\n",
        "  print('Rmse_train Score:', rmse_train)\n",
        "  print('Rmse_test Score:',rmse_test)\n",
        "\n",
        "\n",
        "line1, = plt.plot(max_depths, Rmse_train, 'b', label='RMSE train')\n",
        "line2, = plt.plot(max_depths, Rmse_test, 'r', label='RMSE test')\n",
        "plt.legend(handler_map={line1: HandlerLine2D(numpoints=2)})\n",
        "\n",
        "plt.ylabel('Score')\n",
        "plt.xlabel('Tree depth')\n",
        "plt.show()"
      ]
    },
    {
      "cell_type": "markdown",
      "metadata": {
        "id": "t3-m_LZsrGUv"
      },
      "source": [
        "KNN"
      ]
    },
    {
      "cell_type": "code",
      "execution_count": null,
      "metadata": {
        "colab": {
          "base_uri": "https://localhost:8080/"
        },
        "id": "jEyGizeuNR5I",
        "outputId": "6a977c4c-00ac-482c-fa79-9b828e5d2696"
      },
      "outputs": [
        {
          "data": {
            "text/plain": [
              "17271214.410133738"
            ]
          },
          "execution_count": 24,
          "metadata": {
            "tags": []
          },
          "output_type": "execute_result"
        }
      ],
      "source": [
        "from sklearn.neighbors import KNeighborsClassifier\n",
        "from sklearn.metrics import mean_squared_error\n",
        "\n",
        "knn = KNeighborsClassifier(n_neighbors=10)\n",
        "knn.fit(X_train, y_train)\n",
        "y_pred = knn.predict(X_test)\n",
        "mse = mean_squared_error(y_test,y_pred)\n",
        "rmse = mean_squared_error(y_test,y_pred,squared=False)\n",
        "rmse"
      ]
    }
  ],
  "metadata": {
    "accelerator": "GPU",
    "colab": {
      "provenance": []
    },
    "kernelspec": {
      "display_name": "Python 3",
      "name": "python3"
    },
    "language_info": {
      "name": "python"
    }
  },
  "nbformat": 4,
  "nbformat_minor": 0
}