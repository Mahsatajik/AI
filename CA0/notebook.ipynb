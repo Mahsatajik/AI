{
  "cells": [
    {
      "cell_type": "code",
      "execution_count": null,
      "metadata": {
        "id": "sVLeIYdE-Xni"
      },
      "outputs": [],
      "source": [
        "import pandas as pd\n",
        "import numpy as np\n",
        "import matplotlib.pyplot as plt"
      ]
    },
    {
      "cell_type": "markdown",
      "metadata": {
        "id": "eBoIzdlr-Xnl"
      },
      "source": [
        "## Part 1"
      ]
    },
    {
      "cell_type": "code",
      "execution_count": null,
      "metadata": {
        "id": "afrpOT0B-Xnn"
      },
      "outputs": [],
      "source": [
        "df = pd.read_csv('car_price_dataset.csv')"
      ]
    },
    {
      "cell_type": "code",
      "execution_count": null,
      "metadata": {
        "id": "6TIueA0e-Xno",
        "outputId": "bc2e4e05-5332-40c5-ceeb-ce06c52e18f7"
      },
      "outputs": [
        {
          "data": {
            "text/html": [
              "<div>\n",
              "<style scoped>\n",
              "    .dataframe tbody tr th:only-of-type {\n",
              "        vertical-align: middle;\n",
              "    }\n",
              "\n",
              "    .dataframe tbody tr th {\n",
              "        vertical-align: top;\n",
              "    }\n",
              "\n",
              "    .dataframe thead th {\n",
              "        text-align: right;\n",
              "    }\n",
              "</style>\n",
              "<table border=\"1\" class=\"dataframe\">\n",
              "  <thead>\n",
              "    <tr style=\"text-align: right;\">\n",
              "      <th></th>\n",
              "      <th>car_ID</th>\n",
              "      <th>CarName</th>\n",
              "      <th>fueltype</th>\n",
              "      <th>carlength</th>\n",
              "      <th>carwidth</th>\n",
              "      <th>carheight</th>\n",
              "      <th>curbweight</th>\n",
              "      <th>cylindernumber</th>\n",
              "      <th>enginesize</th>\n",
              "      <th>horsepower</th>\n",
              "      <th>citympg</th>\n",
              "      <th>highwaympg</th>\n",
              "      <th>price</th>\n",
              "    </tr>\n",
              "  </thead>\n",
              "  <tbody>\n",
              "    <tr>\n",
              "      <th>0</th>\n",
              "      <td>1</td>\n",
              "      <td>alfa-romero giulia</td>\n",
              "      <td>gas</td>\n",
              "      <td>168.8</td>\n",
              "      <td>64.1</td>\n",
              "      <td>48.8</td>\n",
              "      <td>2548</td>\n",
              "      <td>four</td>\n",
              "      <td>130.0</td>\n",
              "      <td>111.0</td>\n",
              "      <td>21</td>\n",
              "      <td>27</td>\n",
              "      <td>13495.0</td>\n",
              "    </tr>\n",
              "    <tr>\n",
              "      <th>1</th>\n",
              "      <td>2</td>\n",
              "      <td>alfa-romero stelvio</td>\n",
              "      <td>gas</td>\n",
              "      <td>168.8</td>\n",
              "      <td>64.1</td>\n",
              "      <td>48.8</td>\n",
              "      <td>2548</td>\n",
              "      <td>four</td>\n",
              "      <td>130.0</td>\n",
              "      <td>111.0</td>\n",
              "      <td>21</td>\n",
              "      <td>27</td>\n",
              "      <td>16500.0</td>\n",
              "    </tr>\n",
              "    <tr>\n",
              "      <th>2</th>\n",
              "      <td>3</td>\n",
              "      <td>alfa-romero Quadrifoglio</td>\n",
              "      <td>gas</td>\n",
              "      <td>171.2</td>\n",
              "      <td>65.5</td>\n",
              "      <td>52.4</td>\n",
              "      <td>2823</td>\n",
              "      <td>six</td>\n",
              "      <td>152.0</td>\n",
              "      <td>154.0</td>\n",
              "      <td>19</td>\n",
              "      <td>26</td>\n",
              "      <td>16500.0</td>\n",
              "    </tr>\n",
              "    <tr>\n",
              "      <th>3</th>\n",
              "      <td>4</td>\n",
              "      <td>audi 100 ls</td>\n",
              "      <td>gas</td>\n",
              "      <td>176.6</td>\n",
              "      <td>66.2</td>\n",
              "      <td>54.3</td>\n",
              "      <td>2337</td>\n",
              "      <td>four</td>\n",
              "      <td>109.0</td>\n",
              "      <td>NaN</td>\n",
              "      <td>24</td>\n",
              "      <td>30</td>\n",
              "      <td>13950.0</td>\n",
              "    </tr>\n",
              "    <tr>\n",
              "      <th>4</th>\n",
              "      <td>5</td>\n",
              "      <td>audi 100ls</td>\n",
              "      <td>gas</td>\n",
              "      <td>176.6</td>\n",
              "      <td>66.4</td>\n",
              "      <td>54.3</td>\n",
              "      <td>2824</td>\n",
              "      <td>five</td>\n",
              "      <td>136.0</td>\n",
              "      <td>115.0</td>\n",
              "      <td>18</td>\n",
              "      <td>22</td>\n",
              "      <td>NaN</td>\n",
              "    </tr>\n",
              "  </tbody>\n",
              "</table>\n",
              "</div>"
            ],
            "text/plain": [
              "   car_ID                   CarName fueltype  carlength  carwidth  carheight  \\\n",
              "0       1        alfa-romero giulia      gas      168.8      64.1       48.8   \n",
              "1       2       alfa-romero stelvio      gas      168.8      64.1       48.8   \n",
              "2       3  alfa-romero Quadrifoglio      gas      171.2      65.5       52.4   \n",
              "3       4               audi 100 ls      gas      176.6      66.2       54.3   \n",
              "4       5                audi 100ls      gas      176.6      66.4       54.3   \n",
              "\n",
              "   curbweight cylindernumber  enginesize  horsepower  citympg  highwaympg  \\\n",
              "0        2548           four       130.0       111.0       21          27   \n",
              "1        2548           four       130.0       111.0       21          27   \n",
              "2        2823            six       152.0       154.0       19          26   \n",
              "3        2337           four       109.0         NaN       24          30   \n",
              "4        2824           five       136.0       115.0       18          22   \n",
              "\n",
              "     price  \n",
              "0  13495.0  \n",
              "1  16500.0  \n",
              "2  16500.0  \n",
              "3  13950.0  \n",
              "4      NaN  "
            ]
          },
          "execution_count": 139,
          "metadata": {},
          "output_type": "execute_result"
        }
      ],
      "source": [
        "df.head()"
      ]
    },
    {
      "cell_type": "code",
      "execution_count": null,
      "metadata": {
        "id": "FcAQSWMW-Xnp",
        "outputId": "06c55114-0585-4da7-a4e7-a16556194d66"
      },
      "outputs": [
        {
          "data": {
            "text/html": [
              "<div>\n",
              "<style scoped>\n",
              "    .dataframe tbody tr th:only-of-type {\n",
              "        vertical-align: middle;\n",
              "    }\n",
              "\n",
              "    .dataframe tbody tr th {\n",
              "        vertical-align: top;\n",
              "    }\n",
              "\n",
              "    .dataframe thead th {\n",
              "        text-align: right;\n",
              "    }\n",
              "</style>\n",
              "<table border=\"1\" class=\"dataframe\">\n",
              "  <thead>\n",
              "    <tr style=\"text-align: right;\">\n",
              "      <th></th>\n",
              "      <th>car_ID</th>\n",
              "      <th>CarName</th>\n",
              "      <th>fueltype</th>\n",
              "      <th>carlength</th>\n",
              "      <th>carwidth</th>\n",
              "      <th>carheight</th>\n",
              "      <th>curbweight</th>\n",
              "      <th>cylindernumber</th>\n",
              "      <th>enginesize</th>\n",
              "      <th>horsepower</th>\n",
              "      <th>citympg</th>\n",
              "      <th>highwaympg</th>\n",
              "      <th>price</th>\n",
              "    </tr>\n",
              "  </thead>\n",
              "  <tbody>\n",
              "    <tr>\n",
              "      <th>200</th>\n",
              "      <td>201</td>\n",
              "      <td>volvo 145e (sw)</td>\n",
              "      <td>gas</td>\n",
              "      <td>188.8</td>\n",
              "      <td>68.9</td>\n",
              "      <td>55.5</td>\n",
              "      <td>2952</td>\n",
              "      <td>four</td>\n",
              "      <td>141.0</td>\n",
              "      <td>114.0</td>\n",
              "      <td>23</td>\n",
              "      <td>28</td>\n",
              "      <td>16845.0</td>\n",
              "    </tr>\n",
              "    <tr>\n",
              "      <th>201</th>\n",
              "      <td>202</td>\n",
              "      <td>volvo 144ea</td>\n",
              "      <td>gas</td>\n",
              "      <td>188.8</td>\n",
              "      <td>68.8</td>\n",
              "      <td>55.5</td>\n",
              "      <td>3049</td>\n",
              "      <td>four</td>\n",
              "      <td>141.0</td>\n",
              "      <td>160.0</td>\n",
              "      <td>19</td>\n",
              "      <td>25</td>\n",
              "      <td>19045.0</td>\n",
              "    </tr>\n",
              "    <tr>\n",
              "      <th>202</th>\n",
              "      <td>203</td>\n",
              "      <td>volvo 244dl</td>\n",
              "      <td>gas</td>\n",
              "      <td>188.8</td>\n",
              "      <td>68.9</td>\n",
              "      <td>55.5</td>\n",
              "      <td>3012</td>\n",
              "      <td>six</td>\n",
              "      <td>173.0</td>\n",
              "      <td>134.0</td>\n",
              "      <td>18</td>\n",
              "      <td>23</td>\n",
              "      <td>21485.0</td>\n",
              "    </tr>\n",
              "    <tr>\n",
              "      <th>203</th>\n",
              "      <td>204</td>\n",
              "      <td>volvo 246</td>\n",
              "      <td>diesel</td>\n",
              "      <td>188.8</td>\n",
              "      <td>68.9</td>\n",
              "      <td>55.5</td>\n",
              "      <td>3217</td>\n",
              "      <td>six</td>\n",
              "      <td>145.0</td>\n",
              "      <td>106.0</td>\n",
              "      <td>26</td>\n",
              "      <td>27</td>\n",
              "      <td>22470.0</td>\n",
              "    </tr>\n",
              "    <tr>\n",
              "      <th>204</th>\n",
              "      <td>205</td>\n",
              "      <td>volvo 264gl</td>\n",
              "      <td>gas</td>\n",
              "      <td>188.8</td>\n",
              "      <td>68.9</td>\n",
              "      <td>55.5</td>\n",
              "      <td>3062</td>\n",
              "      <td>four</td>\n",
              "      <td>141.0</td>\n",
              "      <td>114.0</td>\n",
              "      <td>19</td>\n",
              "      <td>25</td>\n",
              "      <td>22625.0</td>\n",
              "    </tr>\n",
              "  </tbody>\n",
              "</table>\n",
              "</div>"
            ],
            "text/plain": [
              "     car_ID          CarName fueltype  carlength  carwidth  carheight  \\\n",
              "200     201  volvo 145e (sw)      gas      188.8      68.9       55.5   \n",
              "201     202      volvo 144ea      gas      188.8      68.8       55.5   \n",
              "202     203      volvo 244dl      gas      188.8      68.9       55.5   \n",
              "203     204        volvo 246   diesel      188.8      68.9       55.5   \n",
              "204     205      volvo 264gl      gas      188.8      68.9       55.5   \n",
              "\n",
              "     curbweight cylindernumber  enginesize  horsepower  citympg  highwaympg  \\\n",
              "200        2952           four       141.0       114.0       23          28   \n",
              "201        3049           four       141.0       160.0       19          25   \n",
              "202        3012            six       173.0       134.0       18          23   \n",
              "203        3217            six       145.0       106.0       26          27   \n",
              "204        3062           four       141.0       114.0       19          25   \n",
              "\n",
              "       price  \n",
              "200  16845.0  \n",
              "201  19045.0  \n",
              "202  21485.0  \n",
              "203  22470.0  \n",
              "204  22625.0  "
            ]
          },
          "execution_count": 140,
          "metadata": {},
          "output_type": "execute_result"
        }
      ],
      "source": [
        "df.tail()"
      ]
    },
    {
      "cell_type": "code",
      "execution_count": null,
      "metadata": {
        "scrolled": true,
        "id": "xenvnzRV-Xnp",
        "outputId": "d321324c-771d-4cc2-c9da-72cb6344c9be"
      },
      "outputs": [
        {
          "data": {
            "text/html": [
              "<div>\n",
              "<style scoped>\n",
              "    .dataframe tbody tr th:only-of-type {\n",
              "        vertical-align: middle;\n",
              "    }\n",
              "\n",
              "    .dataframe tbody tr th {\n",
              "        vertical-align: top;\n",
              "    }\n",
              "\n",
              "    .dataframe thead th {\n",
              "        text-align: right;\n",
              "    }\n",
              "</style>\n",
              "<table border=\"1\" class=\"dataframe\">\n",
              "  <thead>\n",
              "    <tr style=\"text-align: right;\">\n",
              "      <th></th>\n",
              "      <th>car_ID</th>\n",
              "      <th>carlength</th>\n",
              "      <th>carwidth</th>\n",
              "      <th>carheight</th>\n",
              "      <th>curbweight</th>\n",
              "      <th>enginesize</th>\n",
              "      <th>horsepower</th>\n",
              "      <th>citympg</th>\n",
              "      <th>highwaympg</th>\n",
              "      <th>price</th>\n",
              "    </tr>\n",
              "  </thead>\n",
              "  <tbody>\n",
              "    <tr>\n",
              "      <th>count</th>\n",
              "      <td>205.000000</td>\n",
              "      <td>205.000000</td>\n",
              "      <td>205.000000</td>\n",
              "      <td>205.000000</td>\n",
              "      <td>205.000000</td>\n",
              "      <td>191.000000</td>\n",
              "      <td>182.000000</td>\n",
              "      <td>205.000000</td>\n",
              "      <td>205.000000</td>\n",
              "      <td>185.000000</td>\n",
              "    </tr>\n",
              "    <tr>\n",
              "      <th>mean</th>\n",
              "      <td>103.000000</td>\n",
              "      <td>174.049268</td>\n",
              "      <td>65.907805</td>\n",
              "      <td>53.724878</td>\n",
              "      <td>2555.565854</td>\n",
              "      <td>125.418848</td>\n",
              "      <td>105.747253</td>\n",
              "      <td>25.219512</td>\n",
              "      <td>30.751220</td>\n",
              "      <td>13392.181984</td>\n",
              "    </tr>\n",
              "    <tr>\n",
              "      <th>std</th>\n",
              "      <td>59.322565</td>\n",
              "      <td>12.337289</td>\n",
              "      <td>2.145204</td>\n",
              "      <td>2.443522</td>\n",
              "      <td>520.680204</td>\n",
              "      <td>39.229587</td>\n",
              "      <td>40.288214</td>\n",
              "      <td>6.542142</td>\n",
              "      <td>6.886443</td>\n",
              "      <td>8235.838288</td>\n",
              "    </tr>\n",
              "    <tr>\n",
              "      <th>min</th>\n",
              "      <td>1.000000</td>\n",
              "      <td>141.100000</td>\n",
              "      <td>60.300000</td>\n",
              "      <td>47.800000</td>\n",
              "      <td>1488.000000</td>\n",
              "      <td>61.000000</td>\n",
              "      <td>52.000000</td>\n",
              "      <td>13.000000</td>\n",
              "      <td>16.000000</td>\n",
              "      <td>5118.000000</td>\n",
              "    </tr>\n",
              "    <tr>\n",
              "      <th>25%</th>\n",
              "      <td>52.000000</td>\n",
              "      <td>166.300000</td>\n",
              "      <td>64.100000</td>\n",
              "      <td>52.000000</td>\n",
              "      <td>2145.000000</td>\n",
              "      <td>97.000000</td>\n",
              "      <td>72.250000</td>\n",
              "      <td>19.000000</td>\n",
              "      <td>25.000000</td>\n",
              "      <td>7788.000000</td>\n",
              "    </tr>\n",
              "    <tr>\n",
              "      <th>50%</th>\n",
              "      <td>103.000000</td>\n",
              "      <td>173.200000</td>\n",
              "      <td>65.500000</td>\n",
              "      <td>54.100000</td>\n",
              "      <td>2414.000000</td>\n",
              "      <td>119.000000</td>\n",
              "      <td>95.000000</td>\n",
              "      <td>24.000000</td>\n",
              "      <td>30.000000</td>\n",
              "      <td>10295.000000</td>\n",
              "    </tr>\n",
              "    <tr>\n",
              "      <th>75%</th>\n",
              "      <td>154.000000</td>\n",
              "      <td>183.100000</td>\n",
              "      <td>66.900000</td>\n",
              "      <td>55.500000</td>\n",
              "      <td>2935.000000</td>\n",
              "      <td>141.000000</td>\n",
              "      <td>121.000000</td>\n",
              "      <td>30.000000</td>\n",
              "      <td>34.000000</td>\n",
              "      <td>16503.000000</td>\n",
              "    </tr>\n",
              "    <tr>\n",
              "      <th>max</th>\n",
              "      <td>205.000000</td>\n",
              "      <td>208.100000</td>\n",
              "      <td>72.300000</td>\n",
              "      <td>59.800000</td>\n",
              "      <td>4066.000000</td>\n",
              "      <td>326.000000</td>\n",
              "      <td>288.000000</td>\n",
              "      <td>49.000000</td>\n",
              "      <td>54.000000</td>\n",
              "      <td>45400.000000</td>\n",
              "    </tr>\n",
              "  </tbody>\n",
              "</table>\n",
              "</div>"
            ],
            "text/plain": [
              "           car_ID   carlength    carwidth   carheight   curbweight  \\\n",
              "count  205.000000  205.000000  205.000000  205.000000   205.000000   \n",
              "mean   103.000000  174.049268   65.907805   53.724878  2555.565854   \n",
              "std     59.322565   12.337289    2.145204    2.443522   520.680204   \n",
              "min      1.000000  141.100000   60.300000   47.800000  1488.000000   \n",
              "25%     52.000000  166.300000   64.100000   52.000000  2145.000000   \n",
              "50%    103.000000  173.200000   65.500000   54.100000  2414.000000   \n",
              "75%    154.000000  183.100000   66.900000   55.500000  2935.000000   \n",
              "max    205.000000  208.100000   72.300000   59.800000  4066.000000   \n",
              "\n",
              "       enginesize  horsepower     citympg  highwaympg         price  \n",
              "count  191.000000  182.000000  205.000000  205.000000    185.000000  \n",
              "mean   125.418848  105.747253   25.219512   30.751220  13392.181984  \n",
              "std     39.229587   40.288214    6.542142    6.886443   8235.838288  \n",
              "min     61.000000   52.000000   13.000000   16.000000   5118.000000  \n",
              "25%     97.000000   72.250000   19.000000   25.000000   7788.000000  \n",
              "50%    119.000000   95.000000   24.000000   30.000000  10295.000000  \n",
              "75%    141.000000  121.000000   30.000000   34.000000  16503.000000  \n",
              "max    326.000000  288.000000   49.000000   54.000000  45400.000000  "
            ]
          },
          "execution_count": 141,
          "metadata": {},
          "output_type": "execute_result"
        }
      ],
      "source": [
        "df.describe()"
      ]
    },
    {
      "cell_type": "markdown",
      "metadata": {
        "id": "VuNrYrWa-Xnq"
      },
      "source": [
        "توضیح هر یک از خروجی ها\n",
        "\n",
        "df.head() : Returns the first few rows of the dataframe, which is 5 rows by default,it can be changed to another number, for example 10 -> df.head(10)\n",
        "\n",
        "df.tail() : Returns the last few rows of the dataframe, which is 5 rows by default,it can be changed to another number, for example 10 -> df.tail(10)\n",
        "\n",
        "df.describe() : Returns some statistical information for each column like count,mean,std,min,max,first quartile,third quartile"
      ]
    },
    {
      "cell_type": "markdown",
      "metadata": {
        "id": "c6B3VHY7-Xnq"
      },
      "source": [
        "## Part 2"
      ]
    },
    {
      "cell_type": "code",
      "execution_count": null,
      "metadata": {
        "id": "-bCj3R8O-Xnr",
        "outputId": "07231d42-3542-4650-8028-86d6db4cfa7a"
      },
      "outputs": [
        {
          "name": "stdout",
          "output_type": "stream",
          "text": [
            "<class 'pandas.core.frame.DataFrame'>\n",
            "RangeIndex: 205 entries, 0 to 204\n",
            "Data columns (total 13 columns):\n",
            " #   Column          Non-Null Count  Dtype  \n",
            "---  ------          --------------  -----  \n",
            " 0   car_ID          205 non-null    int64  \n",
            " 1   CarName         205 non-null    object \n",
            " 2   fueltype        205 non-null    object \n",
            " 3   carlength       205 non-null    float64\n",
            " 4   carwidth        205 non-null    float64\n",
            " 5   carheight       205 non-null    float64\n",
            " 6   curbweight      205 non-null    int64  \n",
            " 7   cylindernumber  205 non-null    object \n",
            " 8   enginesize      191 non-null    float64\n",
            " 9   horsepower      182 non-null    float64\n",
            " 10  citympg         205 non-null    int64  \n",
            " 11  highwaympg      205 non-null    int64  \n",
            " 12  price           185 non-null    float64\n",
            "dtypes: float64(6), int64(4), object(3)\n",
            "memory usage: 20.9+ KB\n"
          ]
        }
      ],
      "source": [
        "df.info()"
      ]
    },
    {
      "cell_type": "code",
      "execution_count": null,
      "metadata": {
        "id": "IQOseTRM-Xnr",
        "outputId": "b53bd94d-b329-4212-dace-24478f432012"
      },
      "outputs": [
        {
          "data": {
            "text/html": [
              "<div>\n",
              "<style scoped>\n",
              "    .dataframe tbody tr th:only-of-type {\n",
              "        vertical-align: middle;\n",
              "    }\n",
              "\n",
              "    .dataframe tbody tr th {\n",
              "        vertical-align: top;\n",
              "    }\n",
              "\n",
              "    .dataframe thead th {\n",
              "        text-align: right;\n",
              "    }\n",
              "</style>\n",
              "<table border=\"1\" class=\"dataframe\">\n",
              "  <thead>\n",
              "    <tr style=\"text-align: right;\">\n",
              "      <th></th>\n",
              "      <th>car_ID</th>\n",
              "      <th>CarName</th>\n",
              "      <th>fueltype</th>\n",
              "      <th>carlength</th>\n",
              "      <th>carwidth</th>\n",
              "      <th>carheight</th>\n",
              "      <th>curbweight</th>\n",
              "      <th>cylindernumber</th>\n",
              "      <th>enginesize</th>\n",
              "      <th>horsepower</th>\n",
              "      <th>citympg</th>\n",
              "      <th>highwaympg</th>\n",
              "      <th>price</th>\n",
              "    </tr>\n",
              "  </thead>\n",
              "  <tbody>\n",
              "    <tr>\n",
              "      <th>0</th>\n",
              "      <td>1</td>\n",
              "      <td>alfa-romero giulia</td>\n",
              "      <td>0</td>\n",
              "      <td>168.8</td>\n",
              "      <td>64.1</td>\n",
              "      <td>48.8</td>\n",
              "      <td>2548</td>\n",
              "      <td>four</td>\n",
              "      <td>130.0</td>\n",
              "      <td>111.0</td>\n",
              "      <td>21</td>\n",
              "      <td>27</td>\n",
              "      <td>13495.0</td>\n",
              "    </tr>\n",
              "    <tr>\n",
              "      <th>1</th>\n",
              "      <td>2</td>\n",
              "      <td>alfa-romero stelvio</td>\n",
              "      <td>0</td>\n",
              "      <td>168.8</td>\n",
              "      <td>64.1</td>\n",
              "      <td>48.8</td>\n",
              "      <td>2548</td>\n",
              "      <td>four</td>\n",
              "      <td>130.0</td>\n",
              "      <td>111.0</td>\n",
              "      <td>21</td>\n",
              "      <td>27</td>\n",
              "      <td>16500.0</td>\n",
              "    </tr>\n",
              "    <tr>\n",
              "      <th>2</th>\n",
              "      <td>3</td>\n",
              "      <td>alfa-romero Quadrifoglio</td>\n",
              "      <td>0</td>\n",
              "      <td>171.2</td>\n",
              "      <td>65.5</td>\n",
              "      <td>52.4</td>\n",
              "      <td>2823</td>\n",
              "      <td>six</td>\n",
              "      <td>152.0</td>\n",
              "      <td>154.0</td>\n",
              "      <td>19</td>\n",
              "      <td>26</td>\n",
              "      <td>16500.0</td>\n",
              "    </tr>\n",
              "    <tr>\n",
              "      <th>3</th>\n",
              "      <td>4</td>\n",
              "      <td>audi 100 ls</td>\n",
              "      <td>0</td>\n",
              "      <td>176.6</td>\n",
              "      <td>66.2</td>\n",
              "      <td>54.3</td>\n",
              "      <td>2337</td>\n",
              "      <td>four</td>\n",
              "      <td>109.0</td>\n",
              "      <td>NaN</td>\n",
              "      <td>24</td>\n",
              "      <td>30</td>\n",
              "      <td>13950.0</td>\n",
              "    </tr>\n",
              "    <tr>\n",
              "      <th>4</th>\n",
              "      <td>5</td>\n",
              "      <td>audi 100ls</td>\n",
              "      <td>0</td>\n",
              "      <td>176.6</td>\n",
              "      <td>66.4</td>\n",
              "      <td>54.3</td>\n",
              "      <td>2824</td>\n",
              "      <td>five</td>\n",
              "      <td>136.0</td>\n",
              "      <td>115.0</td>\n",
              "      <td>18</td>\n",
              "      <td>22</td>\n",
              "      <td>NaN</td>\n",
              "    </tr>\n",
              "    <tr>\n",
              "      <th>...</th>\n",
              "      <td>...</td>\n",
              "      <td>...</td>\n",
              "      <td>...</td>\n",
              "      <td>...</td>\n",
              "      <td>...</td>\n",
              "      <td>...</td>\n",
              "      <td>...</td>\n",
              "      <td>...</td>\n",
              "      <td>...</td>\n",
              "      <td>...</td>\n",
              "      <td>...</td>\n",
              "      <td>...</td>\n",
              "      <td>...</td>\n",
              "    </tr>\n",
              "    <tr>\n",
              "      <th>200</th>\n",
              "      <td>201</td>\n",
              "      <td>volvo 145e (sw)</td>\n",
              "      <td>0</td>\n",
              "      <td>188.8</td>\n",
              "      <td>68.9</td>\n",
              "      <td>55.5</td>\n",
              "      <td>2952</td>\n",
              "      <td>four</td>\n",
              "      <td>141.0</td>\n",
              "      <td>114.0</td>\n",
              "      <td>23</td>\n",
              "      <td>28</td>\n",
              "      <td>16845.0</td>\n",
              "    </tr>\n",
              "    <tr>\n",
              "      <th>201</th>\n",
              "      <td>202</td>\n",
              "      <td>volvo 144ea</td>\n",
              "      <td>0</td>\n",
              "      <td>188.8</td>\n",
              "      <td>68.8</td>\n",
              "      <td>55.5</td>\n",
              "      <td>3049</td>\n",
              "      <td>four</td>\n",
              "      <td>141.0</td>\n",
              "      <td>160.0</td>\n",
              "      <td>19</td>\n",
              "      <td>25</td>\n",
              "      <td>19045.0</td>\n",
              "    </tr>\n",
              "    <tr>\n",
              "      <th>202</th>\n",
              "      <td>203</td>\n",
              "      <td>volvo 244dl</td>\n",
              "      <td>0</td>\n",
              "      <td>188.8</td>\n",
              "      <td>68.9</td>\n",
              "      <td>55.5</td>\n",
              "      <td>3012</td>\n",
              "      <td>six</td>\n",
              "      <td>173.0</td>\n",
              "      <td>134.0</td>\n",
              "      <td>18</td>\n",
              "      <td>23</td>\n",
              "      <td>21485.0</td>\n",
              "    </tr>\n",
              "    <tr>\n",
              "      <th>203</th>\n",
              "      <td>204</td>\n",
              "      <td>volvo 246</td>\n",
              "      <td>1</td>\n",
              "      <td>188.8</td>\n",
              "      <td>68.9</td>\n",
              "      <td>55.5</td>\n",
              "      <td>3217</td>\n",
              "      <td>six</td>\n",
              "      <td>145.0</td>\n",
              "      <td>106.0</td>\n",
              "      <td>26</td>\n",
              "      <td>27</td>\n",
              "      <td>22470.0</td>\n",
              "    </tr>\n",
              "    <tr>\n",
              "      <th>204</th>\n",
              "      <td>205</td>\n",
              "      <td>volvo 264gl</td>\n",
              "      <td>0</td>\n",
              "      <td>188.8</td>\n",
              "      <td>68.9</td>\n",
              "      <td>55.5</td>\n",
              "      <td>3062</td>\n",
              "      <td>four</td>\n",
              "      <td>141.0</td>\n",
              "      <td>114.0</td>\n",
              "      <td>19</td>\n",
              "      <td>25</td>\n",
              "      <td>22625.0</td>\n",
              "    </tr>\n",
              "  </tbody>\n",
              "</table>\n",
              "<p>205 rows × 13 columns</p>\n",
              "</div>"
            ],
            "text/plain": [
              "     car_ID                   CarName  fueltype  carlength  carwidth  \\\n",
              "0         1        alfa-romero giulia         0      168.8      64.1   \n",
              "1         2       alfa-romero stelvio         0      168.8      64.1   \n",
              "2         3  alfa-romero Quadrifoglio         0      171.2      65.5   \n",
              "3         4               audi 100 ls         0      176.6      66.2   \n",
              "4         5                audi 100ls         0      176.6      66.4   \n",
              "..      ...                       ...       ...        ...       ...   \n",
              "200     201           volvo 145e (sw)         0      188.8      68.9   \n",
              "201     202               volvo 144ea         0      188.8      68.8   \n",
              "202     203               volvo 244dl         0      188.8      68.9   \n",
              "203     204                 volvo 246         1      188.8      68.9   \n",
              "204     205               volvo 264gl         0      188.8      68.9   \n",
              "\n",
              "     carheight  curbweight cylindernumber  enginesize  horsepower  citympg  \\\n",
              "0         48.8        2548           four       130.0       111.0       21   \n",
              "1         48.8        2548           four       130.0       111.0       21   \n",
              "2         52.4        2823            six       152.0       154.0       19   \n",
              "3         54.3        2337           four       109.0         NaN       24   \n",
              "4         54.3        2824           five       136.0       115.0       18   \n",
              "..         ...         ...            ...         ...         ...      ...   \n",
              "200       55.5        2952           four       141.0       114.0       23   \n",
              "201       55.5        3049           four       141.0       160.0       19   \n",
              "202       55.5        3012            six       173.0       134.0       18   \n",
              "203       55.5        3217            six       145.0       106.0       26   \n",
              "204       55.5        3062           four       141.0       114.0       19   \n",
              "\n",
              "     highwaympg    price  \n",
              "0            27  13495.0  \n",
              "1            27  16500.0  \n",
              "2            26  16500.0  \n",
              "3            30  13950.0  \n",
              "4            22      NaN  \n",
              "..          ...      ...  \n",
              "200          28  16845.0  \n",
              "201          25  19045.0  \n",
              "202          23  21485.0  \n",
              "203          27  22470.0  \n",
              "204          25  22625.0  \n",
              "\n",
              "[205 rows x 13 columns]"
            ]
          },
          "execution_count": 143,
          "metadata": {},
          "output_type": "execute_result"
        }
      ],
      "source": [
        "#df.columns\n",
        "df['fueltype'] = df.fueltype.astype('category')\n",
        "df['fueltype'] = df.fueltype.replace({'gas': 0,'diesel': 1})\n",
        "df"
      ]
    },
    {
      "cell_type": "markdown",
      "metadata": {
        "id": "ZtheYf4s-Xnr"
      },
      "source": [
        "## Part 3"
      ]
    },
    {
      "cell_type": "code",
      "execution_count": null,
      "metadata": {
        "id": "dEL1KDOd-Xnr",
        "outputId": "4d6b5311-cdb8-4357-caff-8ba012193ba8"
      },
      "outputs": [
        {
          "data": {
            "text/plain": [
              "car_ID             0\n",
              "CarName            0\n",
              "fueltype           0\n",
              "carlength          0\n",
              "carwidth           0\n",
              "carheight          0\n",
              "curbweight         0\n",
              "cylindernumber     0\n",
              "enginesize        14\n",
              "horsepower        23\n",
              "citympg            0\n",
              "highwaympg         0\n",
              "price             20\n",
              "dtype: int64"
            ]
          },
          "execution_count": 144,
          "metadata": {},
          "output_type": "execute_result"
        }
      ],
      "source": [
        "df.isna().sum()"
      ]
    },
    {
      "cell_type": "code",
      "execution_count": null,
      "metadata": {
        "id": "YENlpOt6-Xnr",
        "outputId": "3a747bee-4e15-4c68-ab6c-93aa0f224411"
      },
      "outputs": [
        {
          "data": {
            "text/plain": [
              "car_ID             0\n",
              "CarName            0\n",
              "fueltype           0\n",
              "carlength          0\n",
              "carwidth           0\n",
              "carheight          0\n",
              "curbweight         0\n",
              "cylindernumber     0\n",
              "enginesize         0\n",
              "horsepower         0\n",
              "citympg            0\n",
              "highwaympg         0\n",
              "price             20\n",
              "dtype: int64"
            ]
          },
          "execution_count": 145,
          "metadata": {},
          "output_type": "execute_result"
        }
      ],
      "source": [
        "df.enginesize.fillna(df.enginesize.mean(),inplace = True)\n",
        "df.horsepower.fillna(df.horsepower.mean(),inplace = True)\n",
        "df.isna().sum()"
      ]
    },
    {
      "cell_type": "code",
      "execution_count": null,
      "metadata": {
        "id": "3-9sc1gs-Xns",
        "outputId": "2008b71f-062d-4bc5-b673-3788899b96fe"
      },
      "outputs": [
        {
          "data": {
            "text/html": [
              "<div>\n",
              "<style scoped>\n",
              "    .dataframe tbody tr th:only-of-type {\n",
              "        vertical-align: middle;\n",
              "    }\n",
              "\n",
              "    .dataframe tbody tr th {\n",
              "        vertical-align: top;\n",
              "    }\n",
              "\n",
              "    .dataframe thead th {\n",
              "        text-align: right;\n",
              "    }\n",
              "</style>\n",
              "<table border=\"1\" class=\"dataframe\">\n",
              "  <thead>\n",
              "    <tr style=\"text-align: right;\">\n",
              "      <th></th>\n",
              "      <th>index</th>\n",
              "      <th>car_ID</th>\n",
              "      <th>CarName</th>\n",
              "      <th>fueltype</th>\n",
              "      <th>carlength</th>\n",
              "      <th>carwidth</th>\n",
              "      <th>carheight</th>\n",
              "      <th>curbweight</th>\n",
              "      <th>cylindernumber</th>\n",
              "      <th>enginesize</th>\n",
              "      <th>horsepower</th>\n",
              "      <th>citympg</th>\n",
              "      <th>highwaympg</th>\n",
              "      <th>price</th>\n",
              "    </tr>\n",
              "  </thead>\n",
              "  <tbody>\n",
              "    <tr>\n",
              "      <th>0</th>\n",
              "      <td>0</td>\n",
              "      <td>1</td>\n",
              "      <td>alfa-romero giulia</td>\n",
              "      <td>0</td>\n",
              "      <td>168.8</td>\n",
              "      <td>64.1</td>\n",
              "      <td>48.8</td>\n",
              "      <td>2548</td>\n",
              "      <td>four</td>\n",
              "      <td>130.0</td>\n",
              "      <td>111.000000</td>\n",
              "      <td>21</td>\n",
              "      <td>27</td>\n",
              "      <td>13495.0</td>\n",
              "    </tr>\n",
              "    <tr>\n",
              "      <th>1</th>\n",
              "      <td>1</td>\n",
              "      <td>2</td>\n",
              "      <td>alfa-romero stelvio</td>\n",
              "      <td>0</td>\n",
              "      <td>168.8</td>\n",
              "      <td>64.1</td>\n",
              "      <td>48.8</td>\n",
              "      <td>2548</td>\n",
              "      <td>four</td>\n",
              "      <td>130.0</td>\n",
              "      <td>111.000000</td>\n",
              "      <td>21</td>\n",
              "      <td>27</td>\n",
              "      <td>16500.0</td>\n",
              "    </tr>\n",
              "    <tr>\n",
              "      <th>2</th>\n",
              "      <td>2</td>\n",
              "      <td>3</td>\n",
              "      <td>alfa-romero Quadrifoglio</td>\n",
              "      <td>0</td>\n",
              "      <td>171.2</td>\n",
              "      <td>65.5</td>\n",
              "      <td>52.4</td>\n",
              "      <td>2823</td>\n",
              "      <td>six</td>\n",
              "      <td>152.0</td>\n",
              "      <td>154.000000</td>\n",
              "      <td>19</td>\n",
              "      <td>26</td>\n",
              "      <td>16500.0</td>\n",
              "    </tr>\n",
              "    <tr>\n",
              "      <th>3</th>\n",
              "      <td>3</td>\n",
              "      <td>4</td>\n",
              "      <td>audi 100 ls</td>\n",
              "      <td>0</td>\n",
              "      <td>176.6</td>\n",
              "      <td>66.2</td>\n",
              "      <td>54.3</td>\n",
              "      <td>2337</td>\n",
              "      <td>four</td>\n",
              "      <td>109.0</td>\n",
              "      <td>105.747253</td>\n",
              "      <td>24</td>\n",
              "      <td>30</td>\n",
              "      <td>13950.0</td>\n",
              "    </tr>\n",
              "    <tr>\n",
              "      <th>4</th>\n",
              "      <td>5</td>\n",
              "      <td>6</td>\n",
              "      <td>audi fox</td>\n",
              "      <td>0</td>\n",
              "      <td>177.3</td>\n",
              "      <td>66.3</td>\n",
              "      <td>53.1</td>\n",
              "      <td>2507</td>\n",
              "      <td>five</td>\n",
              "      <td>136.0</td>\n",
              "      <td>110.000000</td>\n",
              "      <td>19</td>\n",
              "      <td>25</td>\n",
              "      <td>15250.0</td>\n",
              "    </tr>\n",
              "    <tr>\n",
              "      <th>...</th>\n",
              "      <td>...</td>\n",
              "      <td>...</td>\n",
              "      <td>...</td>\n",
              "      <td>...</td>\n",
              "      <td>...</td>\n",
              "      <td>...</td>\n",
              "      <td>...</td>\n",
              "      <td>...</td>\n",
              "      <td>...</td>\n",
              "      <td>...</td>\n",
              "      <td>...</td>\n",
              "      <td>...</td>\n",
              "      <td>...</td>\n",
              "      <td>...</td>\n",
              "    </tr>\n",
              "    <tr>\n",
              "      <th>180</th>\n",
              "      <td>200</td>\n",
              "      <td>201</td>\n",
              "      <td>volvo 145e (sw)</td>\n",
              "      <td>0</td>\n",
              "      <td>188.8</td>\n",
              "      <td>68.9</td>\n",
              "      <td>55.5</td>\n",
              "      <td>2952</td>\n",
              "      <td>four</td>\n",
              "      <td>141.0</td>\n",
              "      <td>114.000000</td>\n",
              "      <td>23</td>\n",
              "      <td>28</td>\n",
              "      <td>16845.0</td>\n",
              "    </tr>\n",
              "    <tr>\n",
              "      <th>181</th>\n",
              "      <td>201</td>\n",
              "      <td>202</td>\n",
              "      <td>volvo 144ea</td>\n",
              "      <td>0</td>\n",
              "      <td>188.8</td>\n",
              "      <td>68.8</td>\n",
              "      <td>55.5</td>\n",
              "      <td>3049</td>\n",
              "      <td>four</td>\n",
              "      <td>141.0</td>\n",
              "      <td>160.000000</td>\n",
              "      <td>19</td>\n",
              "      <td>25</td>\n",
              "      <td>19045.0</td>\n",
              "    </tr>\n",
              "    <tr>\n",
              "      <th>182</th>\n",
              "      <td>202</td>\n",
              "      <td>203</td>\n",
              "      <td>volvo 244dl</td>\n",
              "      <td>0</td>\n",
              "      <td>188.8</td>\n",
              "      <td>68.9</td>\n",
              "      <td>55.5</td>\n",
              "      <td>3012</td>\n",
              "      <td>six</td>\n",
              "      <td>173.0</td>\n",
              "      <td>134.000000</td>\n",
              "      <td>18</td>\n",
              "      <td>23</td>\n",
              "      <td>21485.0</td>\n",
              "    </tr>\n",
              "    <tr>\n",
              "      <th>183</th>\n",
              "      <td>203</td>\n",
              "      <td>204</td>\n",
              "      <td>volvo 246</td>\n",
              "      <td>1</td>\n",
              "      <td>188.8</td>\n",
              "      <td>68.9</td>\n",
              "      <td>55.5</td>\n",
              "      <td>3217</td>\n",
              "      <td>six</td>\n",
              "      <td>145.0</td>\n",
              "      <td>106.000000</td>\n",
              "      <td>26</td>\n",
              "      <td>27</td>\n",
              "      <td>22470.0</td>\n",
              "    </tr>\n",
              "    <tr>\n",
              "      <th>184</th>\n",
              "      <td>204</td>\n",
              "      <td>205</td>\n",
              "      <td>volvo 264gl</td>\n",
              "      <td>0</td>\n",
              "      <td>188.8</td>\n",
              "      <td>68.9</td>\n",
              "      <td>55.5</td>\n",
              "      <td>3062</td>\n",
              "      <td>four</td>\n",
              "      <td>141.0</td>\n",
              "      <td>114.000000</td>\n",
              "      <td>19</td>\n",
              "      <td>25</td>\n",
              "      <td>22625.0</td>\n",
              "    </tr>\n",
              "  </tbody>\n",
              "</table>\n",
              "<p>185 rows × 14 columns</p>\n",
              "</div>"
            ],
            "text/plain": [
              "     index  car_ID                   CarName  fueltype  carlength  carwidth  \\\n",
              "0        0       1        alfa-romero giulia         0      168.8      64.1   \n",
              "1        1       2       alfa-romero stelvio         0      168.8      64.1   \n",
              "2        2       3  alfa-romero Quadrifoglio         0      171.2      65.5   \n",
              "3        3       4               audi 100 ls         0      176.6      66.2   \n",
              "4        5       6                  audi fox         0      177.3      66.3   \n",
              "..     ...     ...                       ...       ...        ...       ...   \n",
              "180    200     201           volvo 145e (sw)         0      188.8      68.9   \n",
              "181    201     202               volvo 144ea         0      188.8      68.8   \n",
              "182    202     203               volvo 244dl         0      188.8      68.9   \n",
              "183    203     204                 volvo 246         1      188.8      68.9   \n",
              "184    204     205               volvo 264gl         0      188.8      68.9   \n",
              "\n",
              "     carheight  curbweight cylindernumber  enginesize  horsepower  citympg  \\\n",
              "0         48.8        2548           four       130.0  111.000000       21   \n",
              "1         48.8        2548           four       130.0  111.000000       21   \n",
              "2         52.4        2823            six       152.0  154.000000       19   \n",
              "3         54.3        2337           four       109.0  105.747253       24   \n",
              "4         53.1        2507           five       136.0  110.000000       19   \n",
              "..         ...         ...            ...         ...         ...      ...   \n",
              "180       55.5        2952           four       141.0  114.000000       23   \n",
              "181       55.5        3049           four       141.0  160.000000       19   \n",
              "182       55.5        3012            six       173.0  134.000000       18   \n",
              "183       55.5        3217            six       145.0  106.000000       26   \n",
              "184       55.5        3062           four       141.0  114.000000       19   \n",
              "\n",
              "     highwaympg    price  \n",
              "0            27  13495.0  \n",
              "1            27  16500.0  \n",
              "2            26  16500.0  \n",
              "3            30  13950.0  \n",
              "4            25  15250.0  \n",
              "..          ...      ...  \n",
              "180          28  16845.0  \n",
              "181          25  19045.0  \n",
              "182          23  21485.0  \n",
              "183          27  22470.0  \n",
              "184          25  22625.0  \n",
              "\n",
              "[185 rows x 14 columns]"
            ]
          },
          "execution_count": 146,
          "metadata": {},
          "output_type": "execute_result"
        }
      ],
      "source": [
        "new_df = df.loc[df.price.isna()]\n",
        "new_df = new_df[['car_ID','price','curbweight']]\n",
        "# bad az remove reset index mikhad??\n",
        "df_without_nan = df.dropna(subset=['price']).reset_index()\n",
        "df_without_nan"
      ]
    },
    {
      "cell_type": "markdown",
      "metadata": {
        "id": "mk2vUxdh-Xns"
      },
      "source": [
        "Advantages:\n",
        "No significant loss of data.\n",
        "Disadvantages:\n",
        "Inaccuracy- which will hamper the process of analysis and prediction and mean substitution may considerably change the values of correlations.\n",
        "Replacing the mean with missing values is not a good idea if the data set has a lot of outliers."
      ]
    },
    {
      "cell_type": "markdown",
      "metadata": {
        "id": "Nroq3Dr--Xns"
      },
      "source": [
        "## Part 4"
      ]
    },
    {
      "cell_type": "code",
      "execution_count": null,
      "metadata": {
        "scrolled": true,
        "id": "cY3II6Lo-Xns",
        "outputId": "d3e05441-4e32-4813-b8ff-f109ab2f2c16"
      },
      "outputs": [
        {
          "data": {
            "text/html": [
              "<div>\n",
              "<style scoped>\n",
              "    .dataframe tbody tr th:only-of-type {\n",
              "        vertical-align: middle;\n",
              "    }\n",
              "\n",
              "    .dataframe tbody tr th {\n",
              "        vertical-align: top;\n",
              "    }\n",
              "\n",
              "    .dataframe thead th {\n",
              "        text-align: right;\n",
              "    }\n",
              "</style>\n",
              "<table border=\"1\" class=\"dataframe\">\n",
              "  <thead>\n",
              "    <tr style=\"text-align: right;\">\n",
              "      <th></th>\n",
              "      <th>car_ID</th>\n",
              "      <th>CarName</th>\n",
              "      <th>fueltype</th>\n",
              "      <th>carlength</th>\n",
              "      <th>carwidth</th>\n",
              "      <th>carheight</th>\n",
              "      <th>curbweight</th>\n",
              "      <th>enginesize</th>\n",
              "      <th>horsepower</th>\n",
              "      <th>citympg</th>\n",
              "      <th>highwaympg</th>\n",
              "      <th>price</th>\n",
              "    </tr>\n",
              "    <tr>\n",
              "      <th>cylindernumber</th>\n",
              "      <th></th>\n",
              "      <th></th>\n",
              "      <th></th>\n",
              "      <th></th>\n",
              "      <th></th>\n",
              "      <th></th>\n",
              "      <th></th>\n",
              "      <th></th>\n",
              "      <th></th>\n",
              "      <th></th>\n",
              "      <th></th>\n",
              "      <th></th>\n",
              "    </tr>\n",
              "  </thead>\n",
              "  <tbody>\n",
              "    <tr>\n",
              "      <th>eight</th>\n",
              "      <td>5</td>\n",
              "      <td>5</td>\n",
              "      <td>5</td>\n",
              "      <td>5</td>\n",
              "      <td>5</td>\n",
              "      <td>5</td>\n",
              "      <td>5</td>\n",
              "      <td>5</td>\n",
              "      <td>5</td>\n",
              "      <td>5</td>\n",
              "      <td>5</td>\n",
              "      <td>5</td>\n",
              "    </tr>\n",
              "    <tr>\n",
              "      <th>five</th>\n",
              "      <td>11</td>\n",
              "      <td>11</td>\n",
              "      <td>11</td>\n",
              "      <td>11</td>\n",
              "      <td>11</td>\n",
              "      <td>11</td>\n",
              "      <td>11</td>\n",
              "      <td>11</td>\n",
              "      <td>11</td>\n",
              "      <td>11</td>\n",
              "      <td>11</td>\n",
              "      <td>9</td>\n",
              "    </tr>\n",
              "    <tr>\n",
              "      <th>four</th>\n",
              "      <td>159</td>\n",
              "      <td>159</td>\n",
              "      <td>159</td>\n",
              "      <td>159</td>\n",
              "      <td>159</td>\n",
              "      <td>159</td>\n",
              "      <td>159</td>\n",
              "      <td>159</td>\n",
              "      <td>159</td>\n",
              "      <td>159</td>\n",
              "      <td>159</td>\n",
              "      <td>143</td>\n",
              "    </tr>\n",
              "    <tr>\n",
              "      <th>six</th>\n",
              "      <td>24</td>\n",
              "      <td>24</td>\n",
              "      <td>24</td>\n",
              "      <td>24</td>\n",
              "      <td>24</td>\n",
              "      <td>24</td>\n",
              "      <td>24</td>\n",
              "      <td>24</td>\n",
              "      <td>24</td>\n",
              "      <td>24</td>\n",
              "      <td>24</td>\n",
              "      <td>22</td>\n",
              "    </tr>\n",
              "    <tr>\n",
              "      <th>three</th>\n",
              "      <td>1</td>\n",
              "      <td>1</td>\n",
              "      <td>1</td>\n",
              "      <td>1</td>\n",
              "      <td>1</td>\n",
              "      <td>1</td>\n",
              "      <td>1</td>\n",
              "      <td>1</td>\n",
              "      <td>1</td>\n",
              "      <td>1</td>\n",
              "      <td>1</td>\n",
              "      <td>1</td>\n",
              "    </tr>\n",
              "    <tr>\n",
              "      <th>twelve</th>\n",
              "      <td>1</td>\n",
              "      <td>1</td>\n",
              "      <td>1</td>\n",
              "      <td>1</td>\n",
              "      <td>1</td>\n",
              "      <td>1</td>\n",
              "      <td>1</td>\n",
              "      <td>1</td>\n",
              "      <td>1</td>\n",
              "      <td>1</td>\n",
              "      <td>1</td>\n",
              "      <td>1</td>\n",
              "    </tr>\n",
              "    <tr>\n",
              "      <th>two</th>\n",
              "      <td>4</td>\n",
              "      <td>4</td>\n",
              "      <td>4</td>\n",
              "      <td>4</td>\n",
              "      <td>4</td>\n",
              "      <td>4</td>\n",
              "      <td>4</td>\n",
              "      <td>4</td>\n",
              "      <td>4</td>\n",
              "      <td>4</td>\n",
              "      <td>4</td>\n",
              "      <td>4</td>\n",
              "    </tr>\n",
              "  </tbody>\n",
              "</table>\n",
              "</div>"
            ],
            "text/plain": [
              "                car_ID  CarName  fueltype  carlength  carwidth  carheight  \\\n",
              "cylindernumber                                                              \n",
              "eight                5        5         5          5         5          5   \n",
              "five                11       11        11         11        11         11   \n",
              "four               159      159       159        159       159        159   \n",
              "six                 24       24        24         24        24         24   \n",
              "three                1        1         1          1         1          1   \n",
              "twelve               1        1         1          1         1          1   \n",
              "two                  4        4         4          4         4          4   \n",
              "\n",
              "                curbweight  enginesize  horsepower  citympg  highwaympg  price  \n",
              "cylindernumber                                                                  \n",
              "eight                    5           5           5        5           5      5  \n",
              "five                    11          11          11       11          11      9  \n",
              "four                   159         159         159      159         159    143  \n",
              "six                     24          24          24       24          24     22  \n",
              "three                    1           1           1        1           1      1  \n",
              "twelve                   1           1           1        1           1      1  \n",
              "two                      4           4           4        4           4      4  "
            ]
          },
          "execution_count": 147,
          "metadata": {},
          "output_type": "execute_result"
        }
      ],
      "source": [
        "df.groupby(by='cylindernumber').aggregate('count')"
      ]
    },
    {
      "cell_type": "markdown",
      "metadata": {
        "id": "gfnd8wNK-Xnt"
      },
      "source": [
        "## Part 5"
      ]
    },
    {
      "cell_type": "code",
      "execution_count": null,
      "metadata": {
        "id": "6yfE8sSX-Xnt",
        "outputId": "eec3eea9-9380-4b35-d531-277164632b59"
      },
      "outputs": [
        {
          "data": {
            "text/plain": [
              "car_ID            3\n",
              "CarName           3\n",
              "fueltype          3\n",
              "carlength         3\n",
              "carwidth          3\n",
              "carheight         3\n",
              "curbweight        3\n",
              "cylindernumber    3\n",
              "enginesize        3\n",
              "horsepower        3\n",
              "citympg           3\n",
              "highwaympg        3\n",
              "price             3\n",
              "dtype: int64"
            ]
          },
          "execution_count": 148,
          "metadata": {},
          "output_type": "execute_result"
        }
      ],
      "source": [
        "df.loc[(df.horsepower > 100) & (df.citympg < 15)].count()\n",
        "#df.groupby(by='cylindernumber').aggregate('count')"
      ]
    },
    {
      "cell_type": "markdown",
      "metadata": {
        "id": "nG2uQraL-Xnt"
      },
      "source": [
        "## Part 6"
      ]
    },
    {
      "cell_type": "code",
      "execution_count": null,
      "metadata": {
        "id": "n-In0f9t-Xnu",
        "outputId": "987c2db3-07bf-4d9a-ac9d-29c5c699373b"
      },
      "outputs": [
        {
          "name": "stdout",
          "output_type": "stream",
          "text": [
            "fueltype\n",
            "0    13170.738958\n",
            "1    15326.894737\n",
            "Name: price, dtype: float64\n",
            "Execution time using vectorization:  0.010992288589477539\n"
          ]
        }
      ],
      "source": [
        "import time\n",
        "t1 = time.time()\n",
        "print(df.groupby(by='fueltype').aggregate('mean').price)\n",
        "t2 = time.time()\n",
        "print(\"Execution time using vectorization: \",t2-t1)"
      ]
    },
    {
      "cell_type": "markdown",
      "metadata": {
        "id": "au7QarOJ-Xnu"
      },
      "source": [
        "## Part 7"
      ]
    },
    {
      "cell_type": "code",
      "execution_count": null,
      "metadata": {
        "scrolled": true,
        "id": "eepbqV9c-Xnu",
        "outputId": "b8bb5fc6-db8f-4c13-d9cf-fe839bf6d9d8"
      },
      "outputs": [
        {
          "data": {
            "text/plain": [
              "13170.738957831325"
            ]
          },
          "metadata": {},
          "output_type": "display_data"
        },
        {
          "data": {
            "text/plain": [
              "15326.894736842105"
            ]
          },
          "metadata": {},
          "output_type": "display_data"
        },
        {
          "name": "stdout",
          "output_type": "stream",
          "text": [
            "Execution time using loop:  0.026984214782714844\n"
          ]
        }
      ],
      "source": [
        "sum1 = 0\n",
        "sum2 = 0\n",
        "counter1 = 0\n",
        "counter2 = 0\n",
        "a = time.time()\n",
        "for i in range(len(df_without_nan)):\n",
        "    if (df_without_nan.fueltype[i] == 0):\n",
        "        sum1 += df_without_nan.price[i]\n",
        "        counter1+=1\n",
        "    elif (df_without_nan.fueltype[i] == 1) & (df_without_nan.price[i] != np.nan):\n",
        "        sum2 += df_without_nan.price[i]\n",
        "        counter2+=1\n",
        "b = time.time()\n",
        "display(sum1/counter1)\n",
        "display(sum2/counter2)\n",
        "print(\"Execution time using loop: \",b-a)"
      ]
    },
    {
      "cell_type": "markdown",
      "metadata": {
        "id": "PK9crgas-Xnu"
      },
      "source": [
        "As we can see, the execution time for the state in which we used the loop is longer than the state in which we use vectorization."
      ]
    },
    {
      "cell_type": "markdown",
      "metadata": {
        "id": "Dg2vh5f9-Xnu"
      },
      "source": [
        "## Part 8"
      ]
    },
    {
      "cell_type": "code",
      "execution_count": null,
      "metadata": {
        "id": "U5jH6wPR-Xnu",
        "outputId": "b700081b-a19b-4b3a-c62b-1d060634c44b"
      },
      "outputs": [
        {
          "name": "stderr",
          "output_type": "stream",
          "text": [
            "c:\\users\\mahsa\\appdata\\local\\programs\\python\\python38\\lib\\site-packages\\numpy\\lib\\histograms.py:839: RuntimeWarning: invalid value encountered in greater_equal\n",
            "  keep = (tmp_a >= first_edge)\n",
            "c:\\users\\mahsa\\appdata\\local\\programs\\python\\python38\\lib\\site-packages\\numpy\\lib\\histograms.py:840: RuntimeWarning: invalid value encountered in less_equal\n",
            "  keep &= (tmp_a <= last_edge)\n"
          ]
        },
        {
          "data": {
            "text/plain": [
              "(array([76., 39., 32., 15.,  6.,  2.,  5.,  7.,  2.,  1.]),\n",
              " array([ 5118. ,  9146.2, 13174.4, 17202.6, 21230.8, 25259. , 29287.2,\n",
              "        33315.4, 37343.6, 41371.8, 45400. ]),\n",
              " <a list of 10 Patch objects>)"
            ]
          },
          "execution_count": 151,
          "metadata": {},
          "output_type": "execute_result"
        },
        {
          "data": {
            "image/png": "[encoded data removed]",
            "text/plain": [
              "<Figure size 432x288 with 9 Axes>"
            ]
          },
          "metadata": {
            "needs_background": "light"
          },
          "output_type": "display_data"
        }
      ],
      "source": [
        "fig, axs = plt.subplots(3, 3, sharey=True, tight_layout=True)\n",
        "\n",
        "axs[0][0].hist(df.carlength)\n",
        "axs[0][1].hist(df.carwidth)\n",
        "axs[0][2].hist(df.carheight)\n",
        "axs[1][0].hist(df.curbweight)\n",
        "axs[1][1].hist(df.enginesize)\n",
        "axs[1][2].hist(df.horsepower)\n",
        "axs[2][0].hist(df.citympg)\n",
        "axs[2][1].hist(df.highwaympg)\n",
        "axs[2][2].hist(df.price)"
      ]
    },
    {
      "cell_type": "markdown",
      "metadata": {
        "id": "RMxPFF2n-Xnv"
      },
      "source": [
        "## Part 9"
      ]
    },
    {
      "cell_type": "code",
      "execution_count": null,
      "metadata": {
        "id": "nptfm6cv-Xnv",
        "outputId": "4dd3ae73-0fa5-48a1-97c3-84cded825dbd"
      },
      "outputs": [
        {
          "data": {
            "text/plain": [
              "0      0.012484\n",
              "1      0.377353\n",
              "2      0.377353\n",
              "3      0.067731\n",
              "4           NaN\n",
              "         ...   \n",
              "200    0.419243\n",
              "201    0.686368\n",
              "202    0.982634\n",
              "203    1.102234\n",
              "204    1.121054\n",
              "Name: price, Length: 205, dtype: float64"
            ]
          },
          "metadata": {},
          "output_type": "display_data"
        },
        {
          "data": {
            "text/plain": [
              "0      0.012484\n",
              "1      0.377353\n",
              "2      0.377353\n",
              "3      0.067731\n",
              "4      0.225577\n",
              "         ...   \n",
              "180    0.419243\n",
              "181    0.686368\n",
              "182    0.982634\n",
              "183    1.102234\n",
              "184    1.121054\n",
              "Name: price, Length: 185, dtype: float64"
            ]
          },
          "metadata": {},
          "output_type": "display_data"
        }
      ],
      "source": [
        "normalized_df1 = (df.price-df.price.mean())/df.price.std()\n",
        "normalized_df2 = (df_without_nan.price-df_without_nan.price.mean())/df_without_nan.price.std()\n",
        "display(normalized_df1)\n",
        "display(normalized_df2)"
      ]
    },
    {
      "cell_type": "markdown",
      "metadata": {
        "id": "3wVhodz8-Xnv"
      },
      "source": [
        "## Part 10"
      ]
    },
    {
      "cell_type": "code",
      "execution_count": null,
      "metadata": {
        "id": "H3DK1LgW-Xnv",
        "outputId": "6c07aff0-5652-44b2-fefc-66ea988f5398"
      },
      "outputs": [
        {
          "data": {
            "text/plain": [
              "<matplotlib.collections.PathCollection at 0x216c8bb2b20>"
            ]
          },
          "execution_count": 153,
          "metadata": {},
          "output_type": "execute_result"
        },
        {
          "data": {
            "image/png": "[encoded data removed]",
            "text/plain": [
              "<Figure size 432x288 with 9 Axes>"
            ]
          },
          "metadata": {
            "needs_background": "light"
          },
          "output_type": "display_data"
        }
      ],
      "source": [
        "# a\n",
        "fig, axs = plt.subplots(3, 3, sharey=True, tight_layout=True)\n",
        "axs[0][0].scatter(df.carlength,df.price)\n",
        "axs[0][1].scatter(df.carwidth,df.price)\n",
        "axs[0][2].scatter(df.carheight,df.price)\n",
        "axs[1][0].scatter(df.curbweight,df.price)\n",
        "axs[1][1].scatter(df.enginesize,df.price)\n",
        "axs[1][2].scatter(df.horsepower,df.price)\n",
        "axs[2][0].scatter(df.citympg,df.price)\n",
        "axs[2][1].scatter(df.highwaympg,df.price)"
      ]
    },
    {
      "cell_type": "code",
      "execution_count": null,
      "metadata": {
        "scrolled": true,
        "id": "yi8ygiDr-Xnv",
        "outputId": "e3825760-4ca1-4371-aca0-90af6926bd7d"
      },
      "outputs": [
        {
          "data": {
            "text/plain": [
              "<matplotlib.axes._subplots.AxesSubplot at 0x216c8c04ee0>"
            ]
          },
          "execution_count": 154,
          "metadata": {},
          "output_type": "execute_result"
        },
        {
          "data": {
            "image/png": "[encoded data removed]",
            "text/plain": [
              "<Figure size 432x288 with 2 Axes>"
            ]
          },
          "metadata": {
            "needs_background": "light"
          },
          "output_type": "display_data"
        }
      ],
      "source": [
        "# b\n",
        "import seaborn as sns\n",
        "cor = df.corr()\n",
        "sns.heatmap(cor,annot=True)"
      ]
    },
    {
      "cell_type": "markdown",
      "metadata": {
        "id": "GbLOoFXn-Xnw"
      },
      "source": [
        "curbweight has the highest correlation with the target(price)."
      ]
    },
    {
      "cell_type": "markdown",
      "metadata": {
        "id": "8QCYwfwK-Xnw"
      },
      "source": [
        "## Part 11"
      ]
    },
    {
      "cell_type": "code",
      "execution_count": null,
      "metadata": {
        "scrolled": true,
        "id": "l9zz8skc-Xnw",
        "outputId": "fc2c6786-a4cb-4bfa-8b51-24bbd660e3e4"
      },
      "outputs": [
        {
          "name": "stderr",
          "output_type": "stream",
          "text": [
            "<ipython-input-155-347ba125fb9f>:5: SettingWithCopyWarning: \n",
            "A value is trying to be set on a copy of a slice from a DataFrame.\n",
            "Try using .loc[row_indexer,col_indexer] = value instead\n",
            "\n",
            "See the caveats in the documentation: https://pandas.pydata.org/pandas-docs/stable/user_guide/indexing.html#returning-a-view-versus-a-copy\n",
            "  new_df3['price'] =  normalized_df2.price\n"
          ]
        },
        {
          "data": {
            "text/html": [
              "<div>\n",
              "<style scoped>\n",
              "    .dataframe tbody tr th:only-of-type {\n",
              "        vertical-align: middle;\n",
              "    }\n",
              "\n",
              "    .dataframe tbody tr th {\n",
              "        vertical-align: top;\n",
              "    }\n",
              "\n",
              "    .dataframe thead th {\n",
              "        text-align: right;\n",
              "    }\n",
              "</style>\n",
              "<table border=\"1\" class=\"dataframe\">\n",
              "  <thead>\n",
              "    <tr style=\"text-align: right;\">\n",
              "      <th></th>\n",
              "      <th>curbweight</th>\n",
              "      <th>price</th>\n",
              "    </tr>\n",
              "  </thead>\n",
              "  <tbody>\n",
              "    <tr>\n",
              "      <th>0</th>\n",
              "      <td>2548</td>\n",
              "      <td>0.012484</td>\n",
              "    </tr>\n",
              "    <tr>\n",
              "      <th>1</th>\n",
              "      <td>2548</td>\n",
              "      <td>0.377353</td>\n",
              "    </tr>\n",
              "    <tr>\n",
              "      <th>2</th>\n",
              "      <td>2823</td>\n",
              "      <td>0.377353</td>\n",
              "    </tr>\n",
              "    <tr>\n",
              "      <th>3</th>\n",
              "      <td>2337</td>\n",
              "      <td>0.067731</td>\n",
              "    </tr>\n",
              "    <tr>\n",
              "      <th>4</th>\n",
              "      <td>2507</td>\n",
              "      <td>0.225577</td>\n",
              "    </tr>\n",
              "    <tr>\n",
              "      <th>...</th>\n",
              "      <td>...</td>\n",
              "      <td>...</td>\n",
              "    </tr>\n",
              "    <tr>\n",
              "      <th>180</th>\n",
              "      <td>2952</td>\n",
              "      <td>0.419243</td>\n",
              "    </tr>\n",
              "    <tr>\n",
              "      <th>181</th>\n",
              "      <td>3049</td>\n",
              "      <td>0.686368</td>\n",
              "    </tr>\n",
              "    <tr>\n",
              "      <th>182</th>\n",
              "      <td>3012</td>\n",
              "      <td>0.982634</td>\n",
              "    </tr>\n",
              "    <tr>\n",
              "      <th>183</th>\n",
              "      <td>3217</td>\n",
              "      <td>1.102234</td>\n",
              "    </tr>\n",
              "    <tr>\n",
              "      <th>184</th>\n",
              "      <td>3062</td>\n",
              "      <td>1.121054</td>\n",
              "    </tr>\n",
              "  </tbody>\n",
              "</table>\n",
              "<p>185 rows × 2 columns</p>\n",
              "</div>"
            ],
            "text/plain": [
              "     curbweight     price\n",
              "0          2548  0.012484\n",
              "1          2548  0.377353\n",
              "2          2823  0.377353\n",
              "3          2337  0.067731\n",
              "4          2507  0.225577\n",
              "..          ...       ...\n",
              "180        2952  0.419243\n",
              "181        3049  0.686368\n",
              "182        3012  0.982634\n",
              "183        3217  1.102234\n",
              "184        3062  1.121054\n",
              "\n",
              "[185 rows x 2 columns]"
            ]
          },
          "execution_count": 155,
          "metadata": {},
          "output_type": "execute_result"
        }
      ],
      "source": [
        "new_df2 = df_without_nan[['curbweight','price']]\n",
        "new_df2\n",
        "normalized_df2 = pd.DataFrame(normalized_df2)\n",
        "new_df3 = df_without_nan[['curbweight']]\n",
        "new_df3['price'] =  normalized_df2.price\n",
        "new_df3"
      ]
    },
    {
      "cell_type": "markdown",
      "metadata": {
        "id": "dOTZj1VT-Xnx"
      },
      "source": [
        "## Part 12"
      ]
    },
    {
      "cell_type": "code",
      "execution_count": null,
      "metadata": {
        "id": "FVjUY30e-Xnx"
      },
      "outputs": [],
      "source": [
        "x = new_df3.curbweight\n",
        "y = new_df3.price"
      ]
    },
    {
      "cell_type": "code",
      "execution_count": null,
      "metadata": {
        "id": "41xIjcOo-Xnx"
      },
      "outputs": [],
      "source": [
        "from sklearn.model_selection import train_test_split\n",
        "X_train, X_test, y_train, y_test = train_test_split(x, y, random_state=1)"
      ]
    },
    {
      "cell_type": "code",
      "execution_count": null,
      "metadata": {
        "id": "55euQpcj-Xnx",
        "outputId": "d973e00e-cee8-4028-b550-28d99885ada4"
      },
      "outputs": [
        {
          "data": {
            "text/plain": [
              "LinearRegression()"
            ]
          },
          "execution_count": 158,
          "metadata": {},
          "output_type": "execute_result"
        }
      ],
      "source": [
        "from sklearn.linear_model import LinearRegression\n",
        "X_train = np.array(X_train).reshape((-1, 1))\n",
        "\n",
        "linreg = LinearRegression()\n",
        "linreg.fit(X_train, y_train)"
      ]
    },
    {
      "cell_type": "code",
      "execution_count": null,
      "metadata": {
        "id": "fXTXB3Cs-Xnx",
        "outputId": "0a4e93ad-d8db-4b63-c8f5-99dd7694980f"
      },
      "outputs": [
        {
          "name": "stdout",
          "output_type": "stream",
          "text": [
            "-3.9947613930534907\n",
            "[0.00156081]\n"
          ]
        }
      ],
      "source": [
        "print(linreg.intercept_)\n",
        "print(linreg.coef_)"
      ]
    },
    {
      "cell_type": "code",
      "execution_count": null,
      "metadata": {
        "id": "-tmlmIvM-Xny",
        "outputId": "32976bb2-0753-4f3c-85e0-aa473cf89185"
      },
      "outputs": [
        {
          "data": {
            "text/plain": [
              "<zip at 0x216c8d93f80>"
            ]
          },
          "execution_count": 160,
          "metadata": {},
          "output_type": "execute_result"
        }
      ],
      "source": [
        "zip(x, linreg.coef_)"
      ]
    },
    {
      "cell_type": "code",
      "execution_count": null,
      "metadata": {
        "id": "7dmHWwaB-Xnz",
        "outputId": "5a77b804-c875-4313-b51b-4798b9a8a739"
      },
      "outputs": [
        {
          "data": {
            "text/plain": [
              "array([ 1.47588172,  0.93271944,  1.80365206, -0.34714572, -0.54224711,\n",
              "       -0.36431464,  1.35882088,  0.75322615, -0.42206465, -0.2332065 ,\n",
              "        0.03057059, -0.18169973, -0.08180782, -0.03030105, -0.83567961,\n",
              "       -0.94181477, -1.0448283 , -0.34246328, -0.67335525, -1.00112559,\n",
              "       -1.02922019,  0.23503685, -0.890308  , -0.84660529, -0.15516594,\n",
              "        1.04665865, -1.01517289, -1.12755129, -1.01517289, -0.94961882,\n",
              "       -0.54692954,  0.6486518 ,  0.80473292, -0.42050384,  0.90462483,\n",
              "       -0.0927335 , -0.89655124,  0.21942874,  0.42701662,  0.23035441,\n",
              "       -0.60936199,  0.15387467, -1.67227439,  0.44418554, -0.16297   ,\n",
              "       -0.79509852,  0.78132075])"
            ]
          },
          "execution_count": 161,
          "metadata": {},
          "output_type": "execute_result"
        }
      ],
      "source": [
        "X_test = np.array(X_test).reshape((-1, 1))\n",
        "\n",
        "y_pred = linreg.predict(X_test)\n",
        "y_pred"
      ]
    },
    {
      "cell_type": "code",
      "execution_count": null,
      "metadata": {
        "id": "3jb6rexC-Xnz",
        "outputId": "5db4ef39-69e1-401c-85a7-f1319c57a13b"
      },
      "outputs": [
        {
          "data": {
            "text/plain": [
              "0.28688810545025484"
            ]
          },
          "execution_count": 162,
          "metadata": {},
          "output_type": "execute_result"
        }
      ],
      "source": [
        "from sklearn import metrics\n",
        "metrics.mean_squared_error(y_test, y_pred)"
      ]
    },
    {
      "cell_type": "code",
      "execution_count": null,
      "metadata": {
        "id": "QR4Dz-st-Xnz",
        "outputId": "04f2af7f-f4be-40c6-a875-696f8c74919b"
      },
      "outputs": [
        {
          "data": {
            "text/plain": [
              "0.28688810545025484"
            ]
          },
          "execution_count": 163,
          "metadata": {},
          "output_type": "execute_result"
        }
      ],
      "source": [
        "(1/len(y_test))* ((y_test-y_pred)*(y_test-y_pred)).sum()"
      ]
    },
    {
      "cell_type": "markdown",
      "metadata": {
        "id": "UfDlFYek-Xnz"
      },
      "source": [
        "## Part 13"
      ]
    },
    {
      "cell_type": "code",
      "execution_count": null,
      "metadata": {
        "id": "gZB3e07i-Xnz",
        "outputId": "f022441d-4375-444d-eee6-e452dbc5a987"
      },
      "outputs": [
        {
          "data": {
            "image/png": "[encoded data removed]",
            "text/plain": [
              "<Figure size 432x288 with 1 Axes>"
            ]
          },
          "metadata": {
            "needs_background": "light"
          },
          "output_type": "display_data"
        }
      ],
      "source": [
        "from numpy.polynomial.polynomial import polyfit\n",
        "#plt.scatter(x,y)\n",
        "\n",
        "intercept, slope = polyfit(x, y, 1)\n",
        "plt.plot(x, y, '.',color = 'green')\n",
        "plt.plot(x, intercept + slope * x, '-',color = 'red')\n",
        "plt.show()"
      ]
    },
    {
      "cell_type": "markdown",
      "metadata": {
        "id": "2amp2wsP-Xn0"
      },
      "source": [
        "همانطور که مشخص است خط به خوبی و با خطای کمی به داده ها فیت می شود و در نتیجه محاسبات و روش بکار گرفته شده درست بوده است."
      ]
    },
    {
      "cell_type": "markdown",
      "metadata": {
        "id": "EGQWyuRJ-Xn0"
      },
      "source": [
        "## Part 14"
      ]
    },
    {
      "cell_type": "code",
      "execution_count": null,
      "metadata": {
        "id": "VwDqtRd5-Xn0",
        "outputId": "46c01f86-2475-4af6-98c7-9a61a5f51dcb"
      },
      "outputs": [
        {
          "data": {
            "text/html": [
              "<div>\n",
              "<style scoped>\n",
              "    .dataframe tbody tr th:only-of-type {\n",
              "        vertical-align: middle;\n",
              "    }\n",
              "\n",
              "    .dataframe tbody tr th {\n",
              "        vertical-align: top;\n",
              "    }\n",
              "\n",
              "    .dataframe thead th {\n",
              "        text-align: right;\n",
              "    }\n",
              "</style>\n",
              "<table border=\"1\" class=\"dataframe\">\n",
              "  <thead>\n",
              "    <tr style=\"text-align: right;\">\n",
              "      <th></th>\n",
              "      <th>0</th>\n",
              "    </tr>\n",
              "  </thead>\n",
              "  <tbody>\n",
              "    <tr>\n",
              "      <th>0</th>\n",
              "      <td>0.412969</td>\n",
              "    </tr>\n",
              "    <tr>\n",
              "      <th>1</th>\n",
              "      <td>0.392679</td>\n",
              "    </tr>\n",
              "    <tr>\n",
              "      <th>2</th>\n",
              "      <td>-1.155646</td>\n",
              "    </tr>\n",
              "    <tr>\n",
              "      <th>3</th>\n",
              "      <td>-1.021416</td>\n",
              "    </tr>\n",
              "    <tr>\n",
              "      <th>4</th>\n",
              "      <td>-0.958984</td>\n",
              "    </tr>\n",
              "    <tr>\n",
              "      <th>5</th>\n",
              "      <td>-0.272227</td>\n",
              "    </tr>\n",
              "    <tr>\n",
              "      <th>6</th>\n",
              "      <td>-0.233207</td>\n",
              "    </tr>\n",
              "    <tr>\n",
              "      <th>7</th>\n",
              "      <td>1.491490</td>\n",
              "    </tr>\n",
              "    <tr>\n",
              "      <th>8</th>\n",
              "      <td>-0.866896</td>\n",
              "    </tr>\n",
              "    <tr>\n",
              "      <th>9</th>\n",
              "      <td>0.572172</td>\n",
              "    </tr>\n",
              "    <tr>\n",
              "      <th>10</th>\n",
              "      <td>-0.244132</td>\n",
              "    </tr>\n",
              "    <tr>\n",
              "      <th>11</th>\n",
              "      <td>-0.244132</td>\n",
              "    </tr>\n",
              "    <tr>\n",
              "      <th>12</th>\n",
              "      <td>0.798490</td>\n",
              "    </tr>\n",
              "    <tr>\n",
              "      <th>13</th>\n",
              "      <td>-0.038105</td>\n",
              "    </tr>\n",
              "    <tr>\n",
              "      <th>14</th>\n",
              "      <td>0.387996</td>\n",
              "    </tr>\n",
              "    <tr>\n",
              "      <th>15</th>\n",
              "      <td>0.448868</td>\n",
              "    </tr>\n",
              "    <tr>\n",
              "      <th>16</th>\n",
              "      <td>-0.646821</td>\n",
              "    </tr>\n",
              "    <tr>\n",
              "      <th>17</th>\n",
              "      <td>0.141388</td>\n",
              "    </tr>\n",
              "    <tr>\n",
              "      <th>18</th>\n",
              "      <td>0.923355</td>\n",
              "    </tr>\n",
              "    <tr>\n",
              "      <th>19</th>\n",
              "      <td>-0.476693</td>\n",
              "    </tr>\n",
              "  </tbody>\n",
              "</table>\n",
              "</div>"
            ],
            "text/plain": [
              "           0\n",
              "0   0.412969\n",
              "1   0.392679\n",
              "2  -1.155646\n",
              "3  -1.021416\n",
              "4  -0.958984\n",
              "5  -0.272227\n",
              "6  -0.233207\n",
              "7   1.491490\n",
              "8  -0.866896\n",
              "9   0.572172\n",
              "10 -0.244132\n",
              "11 -0.244132\n",
              "12  0.798490\n",
              "13 -0.038105\n",
              "14  0.387996\n",
              "15  0.448868\n",
              "16 -0.646821\n",
              "17  0.141388\n",
              "18  0.923355\n",
              "19 -0.476693"
            ]
          },
          "execution_count": 165,
          "metadata": {},
          "output_type": "execute_result"
        }
      ],
      "source": [
        "xx = np.array(new_df.curbweight).reshape((-1, 1))\n",
        "pd.DataFrame(linreg.predict(xx))"
      ]
    }
  ],
  "metadata": {
    "kernelspec": {
      "display_name": "Python 3",
      "language": "python",
      "name": "python3"
    },
    "language_info": {
      "codemirror_mode": {
        "name": "ipython",
        "version": 3
      },
      "file_extension": ".py",
      "mimetype": "text/x-python",
      "name": "python",
      "nbconvert_exporter": "python",
      "pygments_lexer": "ipython3",
      "version": "3.8.3"
    },
    "colab": {
      "provenance": []
    }
  },
  "nbformat": 4,
  "nbformat_minor": 0
}