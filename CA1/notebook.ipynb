{
  "nbformat": 4,
  "nbformat_minor": 0,
  "metadata": {
    "colab": {
      "provenance": []
    },
    "kernelspec": {
      "name": "python3",
      "display_name": "Python 3"
    },
    "language_info": {
      "name": "python"
    }
  },
  "cells": [
    {
      "cell_type": "code",
      "metadata": {
        "colab": {
          "base_uri": "https://localhost:8080/"
        },
        "id": "C_H87paBhTnR",
        "outputId": "99989cd6-0a70-4758-c6ce-f599ec6ddcd3"
      },
      "source": [
        "from google.colab import drive\n",
        "drive.mount('/content/drive')"
      ],
      "execution_count": null,
      "outputs": [
        {
          "output_type": "stream",
          "text": [
            "Drive already mounted at /content/drive; to attempt to forcibly remount, call drive.mount(\"/content/drive\", force_remount=True).\n"
          ],
          "name": "stdout"
        }
      ]
    },
    {
      "cell_type": "code",
      "metadata": {
        "id": "3o-xfHwKkU7x"
      },
      "source": [
        "# !ls \"/content/drive/My Drive\"\n",
        "from google.colab import drive\n",
        "drive.mount('/content/drive')\n",
        "!cp \"/content/drive/My Drive/1.txt\" \"1.txt\""
      ],
      "execution_count": null,
      "outputs": []
    },
    {
      "cell_type": "markdown",
      "metadata": {
        "id": "lWk5TDPrkyCI"
      },
      "source": [
        "CA1 - AI"
      ]
    },
    {
      "cell_type": "code",
      "metadata": {
        "id": "qX3bn_GKkv0I"
      },
      "source": [
        "import numpy as np\n",
        "import pandas as pd"
      ],
      "execution_count": null,
      "outputs": []
    },
    {
      "cell_type": "code",
      "metadata": {
        "colab": {
          "base_uri": "https://localhost:8080/"
        },
        "id": "IKFhdoD2eIdV",
        "outputId": "51c24495-5204-4ae1-f1b1-8fc3217f097d"
      },
      "source": [
        "with open('1.txt') as f:\n",
        "    lines = f.readlines()\n",
        "n = int(lines[0][0])\n",
        "m = int(lines[0][2])\n",
        "x_i = int(lines[1][0])\n",
        "y_i = int(lines[1][2])\n",
        "initial_point = (x_i,y_i)\n",
        "x_g = int(lines[2][0])\n",
        "y_g = int(lines[2][2])\n",
        "goal_point = (x_g,y_g)\n",
        "c = int(lines[3])\n",
        "k = int(lines[4])\n",
        "balls_loc = {}\n",
        "for i in range(k):\n",
        "    curr_x = int(lines[5+i][0])\n",
        "    curr_y = int(lines[5+i][2])\n",
        "    corr_x = int(lines[5+i][4])\n",
        "    corr_y = int(lines[5+i][6])\n",
        "    balls_loc.update({(curr_x, curr_y): (corr_x, corr_y)})\n",
        "    # balls_loc.append(ball_loc)\n",
        "map1 = lines[4+k+1:]\n",
        "map1 = [s.rstrip('\\n') for s in map1]\n",
        "map1 = [s.replace(\" \",\"\") for s in map1]\n",
        "def split(word):\n",
        "    return [char for char in word]\n",
        "map1 = split(map1)\n",
        "print(map1[2][5])\n",
        "print(map1)\n",
        "print(initial_point)\n",
        "print(goal_point)\n",
        "print(balls_loc)"
      ],
      "execution_count": null,
      "outputs": [
        {
          "output_type": "stream",
          "text": [
            "-\n",
            "['*******', '------*', '***----', '*-----*', '*******']\n",
            "(1, 0)\n",
            "(2, 6)\n",
            "{(1, 2): (2, 5), (2, 3): (3, 3), (3, 2): (1, 1)}\n"
          ],
          "name": "stdout"
        }
      ]
    },
    {
      "cell_type": "code",
      "metadata": {
        "id": "rd7GHa90eL7z"
      },
      "source": [
        "adjacent_cells = [(-1, 0), (0, 1), (1, 0), (0, -1)]"
      ],
      "execution_count": null,
      "outputs": []
    },
    {
      "cell_type": "code",
      "metadata": {
        "id": "EO0doOqQeOjB"
      },
      "source": [
        "class Maze:\n",
        "\n",
        "    def __init__(self, rows, cols, cells, initial, goal, balls_loc, number_of_balls,capacity):\n",
        "        if ((rows <= 0) or (cols <= 0) or (initial[0] < 0) or (initial[0] > n) or (initial[1] < 0) \\\n",
        "            or (initial[1] > m) or (goal[0] < 0) or (goal[0] > n) or (goal[1] < 0) or (goal[1] > m)):\n",
        "            return\n",
        "        self.n = rows\n",
        "        self.m = cols\n",
        "        self.cells = cells\n",
        "        self.initial_pos = initial\n",
        "        self.current_pos = initial\n",
        "        self.goal_pos = goal\n",
        "        # self.action = action\n",
        "        self.capacity = capacity\n",
        "        self.number_of_balls = number_of_balls\n",
        "        self.balls_loc = balls_loc\n",
        "        self.balls_initial_point = []\n",
        "\n",
        "\n",
        "\n",
        "#         hamsayehaye node feli ro mide\n",
        "    def get_neighbors(self, cell):\n",
        "        around = [(cell[0] + dx, cell[1] + dy) for dx, dy in adjacent_cells]\n",
        "        return [x for x in around if self.valid_cell(x) and self.check_is_not_obstacle(cell, x) == 1]\n",
        "\n",
        "    def valid_cell(self, cell):\n",
        "        if ((cell[0] < 0 or cell[0] >= self.n) or (cell[1] < 0 or cell[1] >= self.m)):\n",
        "            return False\n",
        "\n",
        "        return True\n",
        "\n",
        "    def check_is_not_obstacle(self,cell,neighbour):\n",
        "        if ((self.cells[cell[0]][cell[1]] == self.cells[neighbour[0]][neighbour[1]]) \\\n",
        "            and (self.cells[neighbour[0]][neighbour[1]] == '-')):\n",
        "#             print(\"equal :\",self.cells[cell[0]][cell[1]],self.cells[neighbour[0]][neighbour[1]])\n",
        "            return True\n",
        "        else:\n",
        "#             print(\"not equal :\",self.cells[cell[0]][cell[1]],self.cells[neighbour[0]][neighbour[1]])\n",
        "            return False\n",
        "\n",
        "    def set_action(action):\n",
        "      self.action = action\n",
        "\n",
        "    def take_ball(self,next):\n",
        "      self.balls_initial_point.append(next)\n",
        "      self.capacity -= 1\n",
        "      # print(self.capacity)\n",
        "\n",
        "    def next_is_ball(self,next):\n",
        "      if (next in self.balls_loc.keys()) and not(next in self.balls_initial_point):\n",
        "        if self.capacity > 0:\n",
        "          self.take_ball(next)\n",
        "          return True\n",
        "        else:\n",
        "          return False\n",
        "\n",
        "    def next_is_ball_loc(self,next):\n",
        "      # print(self.balls_initial_point)\n",
        "      for key,value in self.balls_loc.items():\n",
        "        if ((value == next) and (key in self.balls_initial_point)):\n",
        "          # print(key)\n",
        "          del self.balls_loc[key]\n",
        "          self.capacity +=1\n",
        "          return True\n",
        "        else:\n",
        "          return False\n",
        "\n",
        "    def BFS(self):\n",
        "        start = self.initial_pos\n",
        "        end = self.goal_pos\n",
        "        queue = [(start, [start])]\n",
        "\n",
        "        while queue:\n",
        "            # print(\"q\",queue)\n",
        "            (vertex, path) = queue.pop(0)\n",
        "            neighbor_set = set(self.get_neighbors(vertex))\n",
        "            for next in neighbor_set - set(path):\n",
        "\n",
        "                if ((next == end) and not (bool(self.balls_loc))):\n",
        "\n",
        "                    path = path + [next]\n",
        "                    # print(path)\n",
        "                    return (path)\n",
        "                  # else:\n",
        "                  #   queue.append((next, path + [next]))\n",
        "\n",
        "                else:\n",
        "                    if self.next_is_ball(next):\n",
        "                      print(\"The ball was found in \", next)\n",
        "                    if self.next_is_ball_loc(next):\n",
        "                      print(\"The ball was removed from \", next)\n",
        "                      print(\"dict: \",self.balls_loc)\n",
        "                      print(\"initialposballs\",self.balls_initial_point)\n",
        "                    # print(path)\n",
        "                    queue.append((next, path + [next]))\n",
        "\n"
      ],
      "execution_count": null,
      "outputs": []
    },
    {
      "cell_type": "code",
      "metadata": {
        "colab": {
          "base_uri": "https://localhost:8080/"
        },
        "id": "6r1qs-2keS6p",
        "outputId": "4fdd1456-5f69-4c9b-c97f-10342e3465cb"
      },
      "source": [
        "maze = Maze(n, m, map1, initial_point, goal_point,balls_loc,k,c)\n",
        "maze.BFS()"
      ],
      "execution_count": null,
      "outputs": [
        {
          "output_type": "stream",
          "text": [
            "The ball was found in  (1, 2)\n",
            "The ball was removed from  (2, 5)\n",
            "dict:  {(2, 3): (3, 3), (3, 2): (1, 1)}\n",
            "initialposballs [(1, 2)]\n",
            "The ball was found in  (3, 2)\n"
          ],
          "name": "stdout"
        }
      ]
    }
  ]
}